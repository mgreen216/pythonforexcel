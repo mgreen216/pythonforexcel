{
  "nbformat": 4,
  "nbformat_minor": 0,
  "metadata": {
    "colab": {
      "name": "Python for Excel.ipynb",
      "provenance": [],
      "collapsed_sections": [
        "2pO_iGzjZgsq",
        "NqUH2XfBf_pS",
        "7vvhiKfdhSky",
        "BLBu1NnXhoRR",
        "o4U8Heagg7h3",
        "dRDlHLf6hL4S",
        "8i3oZhgehNrj",
        "eazioAJjhxBX"
      ],
      "mount_file_id": "1xSTHblZD135KMaJFDkydN1PmWmCyxyj6",
      "authorship_tag": "ABX9TyNQJsp8zOOetLqwyC/TWHvM",
      "include_colab_link": true
    },
    "kernelspec": {
      "name": "python3",
      "display_name": "Python 3"
    },
    "language_info": {
      "name": "python"
    }
  },
  "cells": [
    {
      "cell_type": "markdown",
      "metadata": {
        "id": "view-in-github",
        "colab_type": "text"
      },
      "source": [
        "<a href=\"https://colab.research.google.com/github/mgreen216/pythonforexcel/blob/main/Python_for_Excel.ipynb\" target=\"_parent\"><img src=\"https://colab.research.google.com/assets/colab-badge.svg\" alt=\"Open In Colab\"/></a>"
      ]
    },
    {
      "cell_type": "markdown",
      "metadata": {
        "id": "0apkYe9sjWCU"
      },
      "source": [
        "## Python for Excel Users: A Guide to Data Analysis in Python\n",
        "\n",
        "#### Mark Green\n",
        "##### Holy Family University\n",
        "##### Director of Institutional Research\n",
        "\n"
      ]
    },
    {
      "cell_type": "markdown",
      "metadata": {
        "id": "4CaUppqEjnVH"
      },
      "source": [
        "## Learning Outcomes\n",
        "\n",
        "After this presentation, you will be able to: \n",
        "* Use Python through Google Collab to load your dataset \n",
        "* Understand how to manipulate and clean data with Python\n",
        "* Replicate common data techniques in Python from Excel (vlookup, pivot tables, if statements) \n"
      ]
    },
    {
      "cell_type": "markdown",
      "metadata": {
        "id": "HSTMa6pnjuqs"
      },
      "source": [
        "<!-- ![Alt Text](https://media.makeameme.org/created/when-python-is.jpg) -->\n"
      ]
    },
    {
      "cell_type": "markdown",
      "metadata": {
        "id": "YzJFDWS3jzqd"
      },
      "source": [
        "## What is Python? \n",
        "\n",
        "\"Python is a clear and powerful object-oriented programming language...\" (wiki.python.org/moin/BeginnersGuide/Overview)\n",
        "\n",
        "### Why do we use it for data analysis? \n",
        "* Easy-to-use language that makes it easy to \"run\"\n",
        "* Large library of packages for data analysis\n",
        "* It's open source (think, \"free\")\n",
        "* Easy to learn\n",
        "* Flexible\n",
        "* Fun! \n"
      ]
    },
    {
      "cell_type": "code",
      "metadata": {
        "colab": {
          "base_uri": "https://localhost:8080/"
        },
        "id": "qg8O84qKY5ZT",
        "outputId": "4a654f21-8f57-4846-c770-174a93a8efa4"
      },
      "source": [
        "print('Hello, world!')"
      ],
      "execution_count": null,
      "outputs": [
        {
          "output_type": "stream",
          "text": [
            "Hello, world!\n"
          ],
          "name": "stdout"
        }
      ]
    },
    {
      "cell_type": "code",
      "metadata": {
        "colab": {
          "base_uri": "https://localhost:8080/"
        },
        "id": "lzFoYYupY8_n",
        "outputId": "f085ca54-45c5-4634-e8aa-9cf1cf2466a5"
      },
      "source": [
        "def square_list(x):\n",
        "  return(x**2)\n",
        "\n",
        "for i in range(6):\n",
        "  print(i, square_list(i))"
      ],
      "execution_count": null,
      "outputs": [
        {
          "output_type": "stream",
          "text": [
            "0 0\n",
            "1 1\n",
            "2 4\n",
            "3 9\n",
            "4 16\n",
            "5 25\n"
          ],
          "name": "stdout"
        }
      ]
    },
    {
      "cell_type": "markdown",
      "metadata": {
        "id": "cBUCCNBUZK_B"
      },
      "source": [
        "#### Python Data Structures\n",
        "\n",
        "* **Lists**"
      ]
    },
    {
      "cell_type": "code",
      "metadata": {
        "colab": {
          "base_uri": "https://localhost:8080/"
        },
        "id": "-mFhcJ32ZOnK",
        "outputId": "c3a4f99f-c81d-4223-f2f9-c5d304d8326d"
      },
      "source": [
        "newList = ['Philadelphia', 'Green', 'Seven']\n",
        "print(newList)"
      ],
      "execution_count": null,
      "outputs": [
        {
          "output_type": "stream",
          "text": [
            "['Philadelphia', 'Green', 'Seven']\n"
          ],
          "name": "stdout"
        }
      ]
    },
    {
      "cell_type": "code",
      "metadata": {
        "colab": {
          "base_uri": "https://localhost:8080/"
        },
        "id": "xcSnfYiVZXu_",
        "outputId": "8348cc60-d14a-47df-fc0b-48e8778fe17c"
      },
      "source": [
        "newList.append('PA')\n",
        "print(newList)"
      ],
      "execution_count": null,
      "outputs": [
        {
          "output_type": "stream",
          "text": [
            "['Philadelphia', 'Green', 'Seven', 'PA']\n"
          ],
          "name": "stdout"
        }
      ]
    },
    {
      "cell_type": "markdown",
      "metadata": {
        "id": "MTWkzJEBWgQ-"
      },
      "source": [
        "### The Packages\n",
        "\n",
        "* Numpy\n",
        "* Pandas\n",
        "* Scikit-learn \n",
        "\n",
        "#### Numpy\n",
        "\n",
        "* A package to perform vector manipulation\n",
        "* This is a single column in our Excel spreadsheet\n",
        "\n"
      ]
    },
    {
      "cell_type": "code",
      "metadata": {
        "id": "s2hU_VlUZh8y"
      },
      "source": [
        "import numpy as np"
      ],
      "execution_count": null,
      "outputs": []
    },
    {
      "cell_type": "code",
      "metadata": {
        "colab": {
          "base_uri": "https://localhost:8080/"
        },
        "id": "ziyoIUVNZk2B",
        "outputId": "597ade69-b84b-4784-939d-12cf1b0278c5"
      },
      "source": [
        "newArray = np.array(newList)\n",
        "print(newArray)"
      ],
      "execution_count": null,
      "outputs": [
        {
          "output_type": "stream",
          "text": [
            "['Philadelphia' 'Green' 'Seven' 'PA']\n"
          ],
          "name": "stdout"
        }
      ]
    },
    {
      "cell_type": "code",
      "metadata": {
        "colab": {
          "base_uri": "https://localhost:8080/"
        },
        "id": "tFonPOm-Ztkf",
        "outputId": "911f38b6-a232-4c58-ac86-28d4c2ac6efb"
      },
      "source": [
        "test_list = [1, 2, 3] + [4, 5, 6]\n",
        "test_array = np.array([1, 2, 3]) + np.array([4, 5, 6])\n",
        "print(test_list)\n",
        "print(test_array)"
      ],
      "execution_count": null,
      "outputs": [
        {
          "output_type": "stream",
          "text": [
            "[1, 2, 3, 4, 5, 6]\n",
            "[5 7 9]\n"
          ],
          "name": "stdout"
        }
      ]
    },
    {
      "cell_type": "markdown",
      "metadata": {
        "id": "Ed2GjX-GaJQW"
      },
      "source": [
        "#### Dictionaries \n",
        "* Ordered pairs\n",
        "* Called Keys and Values\n",
        "* Can store text and string"
      ]
    },
    {
      "cell_type": "code",
      "metadata": {
        "id": "lWYdCS_RaR6-"
      },
      "source": [
        "myDict = {1: 'One', 2: 'Two', 3: 3}"
      ],
      "execution_count": null,
      "outputs": []
    },
    {
      "cell_type": "code",
      "metadata": {
        "colab": {
          "base_uri": "https://localhost:8080/",
          "height": 35
        },
        "id": "t88q8qW0aXG4",
        "outputId": "eeb30c00-651a-410b-f85d-e07a8097eb81"
      },
      "source": [
        "myDict[2]"
      ],
      "execution_count": null,
      "outputs": [
        {
          "output_type": "execute_result",
          "data": {
            "application/vnd.google.colaboratory.intrinsic+json": {
              "type": "string"
            },
            "text/plain": [
              "'Two'"
            ]
          },
          "metadata": {
            "tags": []
          },
          "execution_count": 83
        }
      ]
    },
    {
      "cell_type": "code",
      "metadata": {
        "colab": {
          "base_uri": "https://localhost:8080/"
        },
        "id": "6nyLVvO7abvS",
        "outputId": "38dc88d4-66a5-4496-9152-1422df0a9903"
      },
      "source": [
        "myDict.values()"
      ],
      "execution_count": null,
      "outputs": [
        {
          "output_type": "execute_result",
          "data": {
            "text/plain": [
              "dict_values(['One', 'Two', 3])"
            ]
          },
          "metadata": {
            "tags": []
          },
          "execution_count": 84
        }
      ]
    },
    {
      "cell_type": "code",
      "metadata": {
        "colab": {
          "base_uri": "https://localhost:8080/"
        },
        "id": "FNpjC20bad6C",
        "outputId": "820e216b-a971-4668-f7e2-c67e620427f1"
      },
      "source": [
        "myDict.keys()"
      ],
      "execution_count": null,
      "outputs": [
        {
          "output_type": "execute_result",
          "data": {
            "text/plain": [
              "dict_keys([1, 2, 3])"
            ]
          },
          "metadata": {
            "tags": []
          },
          "execution_count": 85
        }
      ]
    },
    {
      "cell_type": "markdown",
      "metadata": {
        "id": "2pO_iGzjZgsq"
      },
      "source": [
        "\n",
        "#### Pandas\n",
        "\n",
        "* A package that allows us to put a series of vectors into a dataframe \n",
        "* A dataframe is our matrix or, individual spreadsheet from Excel\n",
        "\n",
        "##### Dataframes\n",
        "* Used for statisitcal analysis\n",
        "\n",
        "A widely used Python package. It provides data structures suitable for statisical analysis, and adds functions that facilitate data input, data organization, data manipulation.\n"
      ]
    },
    {
      "cell_type": "code",
      "metadata": {
        "id": "UaOPVv8XapK1"
      },
      "source": [
        "import pandas as pd\n",
        "import numpy as np\n",
        "import seaborn as sns\n",
        "%matplotlib inline\n",
        "\n",
        "c = np.arange(1,11,0.1)\n",
        "x = np.reciprocal(t).round(1)\n",
        "y = np.log10(t).round(1)\n",
        "\n",
        "\n",
        "df = pd.DataFrame({'Counter': c, 'x':x, 'y':y})"
      ],
      "execution_count": null,
      "outputs": []
    },
    {
      "cell_type": "code",
      "metadata": {
        "colab": {
          "base_uri": "https://localhost:8080/",
          "height": 204
        },
        "id": "J-tfUVHZay93",
        "outputId": "7a21cc47-4234-457f-b12e-c0ebe19c5aa0"
      },
      "source": [
        "df.head()"
      ],
      "execution_count": null,
      "outputs": [
        {
          "output_type": "execute_result",
          "data": {
            "text/html": [
              "<div>\n",
              "<style scoped>\n",
              "    .dataframe tbody tr th:only-of-type {\n",
              "        vertical-align: middle;\n",
              "    }\n",
              "\n",
              "    .dataframe tbody tr th {\n",
              "        vertical-align: top;\n",
              "    }\n",
              "\n",
              "    .dataframe thead th {\n",
              "        text-align: right;\n",
              "    }\n",
              "</style>\n",
              "<table border=\"1\" class=\"dataframe\">\n",
              "  <thead>\n",
              "    <tr style=\"text-align: right;\">\n",
              "      <th></th>\n",
              "      <th>Counter</th>\n",
              "      <th>x</th>\n",
              "      <th>y</th>\n",
              "    </tr>\n",
              "  </thead>\n",
              "  <tbody>\n",
              "    <tr>\n",
              "      <th>0</th>\n",
              "      <td>1.0</td>\n",
              "      <td>1.0</td>\n",
              "      <td>0.0</td>\n",
              "    </tr>\n",
              "    <tr>\n",
              "      <th>1</th>\n",
              "      <td>1.1</td>\n",
              "      <td>0.9</td>\n",
              "      <td>0.0</td>\n",
              "    </tr>\n",
              "    <tr>\n",
              "      <th>2</th>\n",
              "      <td>1.2</td>\n",
              "      <td>0.8</td>\n",
              "      <td>0.1</td>\n",
              "    </tr>\n",
              "    <tr>\n",
              "      <th>3</th>\n",
              "      <td>1.3</td>\n",
              "      <td>0.8</td>\n",
              "      <td>0.1</td>\n",
              "    </tr>\n",
              "    <tr>\n",
              "      <th>4</th>\n",
              "      <td>1.4</td>\n",
              "      <td>0.7</td>\n",
              "      <td>0.1</td>\n",
              "    </tr>\n",
              "  </tbody>\n",
              "</table>\n",
              "</div>"
            ],
            "text/plain": [
              "   Counter    x    y\n",
              "0      1.0  1.0  0.0\n",
              "1      1.1  0.9  0.0\n",
              "2      1.2  0.8  0.1\n",
              "3      1.3  0.8  0.1\n",
              "4      1.4  0.7  0.1"
            ]
          },
          "metadata": {
            "tags": []
          },
          "execution_count": 17
        }
      ]
    },
    {
      "cell_type": "code",
      "metadata": {
        "colab": {
          "base_uri": "https://localhost:8080/"
        },
        "id": "V1qMiieLa1RS",
        "outputId": "01e42010-1f00-47d8-ba75-0ddc4cc71ba9"
      },
      "source": [
        "df['Counter']"
      ],
      "execution_count": null,
      "outputs": [
        {
          "output_type": "execute_result",
          "data": {
            "text/plain": [
              "0      1.0\n",
              "1      1.1\n",
              "2      1.2\n",
              "3      1.3\n",
              "4      1.4\n",
              "      ... \n",
              "95    10.5\n",
              "96    10.6\n",
              "97    10.7\n",
              "98    10.8\n",
              "99    10.9\n",
              "Name: Counter, Length: 100, dtype: float64"
            ]
          },
          "metadata": {
            "tags": []
          },
          "execution_count": 18
        }
      ]
    },
    {
      "cell_type": "code",
      "metadata": {
        "colab": {
          "base_uri": "https://localhost:8080/"
        },
        "id": "Wkckl_7_a3X3",
        "outputId": "c6bf3d25-3703-4a28-acef-242959a27c55"
      },
      "source": [
        "df.Counter"
      ],
      "execution_count": null,
      "outputs": [
        {
          "output_type": "execute_result",
          "data": {
            "text/plain": [
              "0      1.0\n",
              "1      1.1\n",
              "2      1.2\n",
              "3      1.3\n",
              "4      1.4\n",
              "      ... \n",
              "95    10.5\n",
              "96    10.6\n",
              "97    10.7\n",
              "98    10.8\n",
              "99    10.9\n",
              "Name: Counter, Length: 100, dtype: float64"
            ]
          },
          "metadata": {
            "tags": []
          },
          "execution_count": 19
        }
      ]
    },
    {
      "cell_type": "code",
      "metadata": {
        "colab": {
          "base_uri": "https://localhost:8080/",
          "height": 419
        },
        "id": "Whbgd9LSa5W8",
        "outputId": "6fbbfb61-4701-4474-f23f-7bae5f92db06"
      },
      "source": [
        "data = df[['Counter', 'y']]\n",
        "data"
      ],
      "execution_count": null,
      "outputs": [
        {
          "output_type": "execute_result",
          "data": {
            "text/html": [
              "<div>\n",
              "<style scoped>\n",
              "    .dataframe tbody tr th:only-of-type {\n",
              "        vertical-align: middle;\n",
              "    }\n",
              "\n",
              "    .dataframe tbody tr th {\n",
              "        vertical-align: top;\n",
              "    }\n",
              "\n",
              "    .dataframe thead th {\n",
              "        text-align: right;\n",
              "    }\n",
              "</style>\n",
              "<table border=\"1\" class=\"dataframe\">\n",
              "  <thead>\n",
              "    <tr style=\"text-align: right;\">\n",
              "      <th></th>\n",
              "      <th>Counter</th>\n",
              "      <th>y</th>\n",
              "    </tr>\n",
              "  </thead>\n",
              "  <tbody>\n",
              "    <tr>\n",
              "      <th>0</th>\n",
              "      <td>1.0</td>\n",
              "      <td>0.0</td>\n",
              "    </tr>\n",
              "    <tr>\n",
              "      <th>1</th>\n",
              "      <td>1.1</td>\n",
              "      <td>0.0</td>\n",
              "    </tr>\n",
              "    <tr>\n",
              "      <th>2</th>\n",
              "      <td>1.2</td>\n",
              "      <td>0.1</td>\n",
              "    </tr>\n",
              "    <tr>\n",
              "      <th>3</th>\n",
              "      <td>1.3</td>\n",
              "      <td>0.1</td>\n",
              "    </tr>\n",
              "    <tr>\n",
              "      <th>4</th>\n",
              "      <td>1.4</td>\n",
              "      <td>0.1</td>\n",
              "    </tr>\n",
              "    <tr>\n",
              "      <th>...</th>\n",
              "      <td>...</td>\n",
              "      <td>...</td>\n",
              "    </tr>\n",
              "    <tr>\n",
              "      <th>95</th>\n",
              "      <td>10.5</td>\n",
              "      <td>1.0</td>\n",
              "    </tr>\n",
              "    <tr>\n",
              "      <th>96</th>\n",
              "      <td>10.6</td>\n",
              "      <td>1.0</td>\n",
              "    </tr>\n",
              "    <tr>\n",
              "      <th>97</th>\n",
              "      <td>10.7</td>\n",
              "      <td>1.0</td>\n",
              "    </tr>\n",
              "    <tr>\n",
              "      <th>98</th>\n",
              "      <td>10.8</td>\n",
              "      <td>1.0</td>\n",
              "    </tr>\n",
              "    <tr>\n",
              "      <th>99</th>\n",
              "      <td>10.9</td>\n",
              "      <td>1.0</td>\n",
              "    </tr>\n",
              "  </tbody>\n",
              "</table>\n",
              "<p>100 rows × 2 columns</p>\n",
              "</div>"
            ],
            "text/plain": [
              "    Counter    y\n",
              "0       1.0  0.0\n",
              "1       1.1  0.0\n",
              "2       1.2  0.1\n",
              "3       1.3  0.1\n",
              "4       1.4  0.1\n",
              "..      ...  ...\n",
              "95     10.5  1.0\n",
              "96     10.6  1.0\n",
              "97     10.7  1.0\n",
              "98     10.8  1.0\n",
              "99     10.9  1.0\n",
              "\n",
              "[100 rows x 2 columns]"
            ]
          },
          "metadata": {
            "tags": []
          },
          "execution_count": 20
        }
      ]
    },
    {
      "cell_type": "code",
      "metadata": {
        "colab": {
          "base_uri": "https://localhost:8080/",
          "height": 235
        },
        "id": "y9UBnJoKa9rx",
        "outputId": "a9cfada0-15f6-4352-cc4e-22a8958da20a"
      },
      "source": [
        "df[4:10]"
      ],
      "execution_count": null,
      "outputs": [
        {
          "output_type": "execute_result",
          "data": {
            "text/html": [
              "<div>\n",
              "<style scoped>\n",
              "    .dataframe tbody tr th:only-of-type {\n",
              "        vertical-align: middle;\n",
              "    }\n",
              "\n",
              "    .dataframe tbody tr th {\n",
              "        vertical-align: top;\n",
              "    }\n",
              "\n",
              "    .dataframe thead th {\n",
              "        text-align: right;\n",
              "    }\n",
              "</style>\n",
              "<table border=\"1\" class=\"dataframe\">\n",
              "  <thead>\n",
              "    <tr style=\"text-align: right;\">\n",
              "      <th></th>\n",
              "      <th>Counter</th>\n",
              "      <th>x</th>\n",
              "      <th>y</th>\n",
              "    </tr>\n",
              "  </thead>\n",
              "  <tbody>\n",
              "    <tr>\n",
              "      <th>4</th>\n",
              "      <td>1.4</td>\n",
              "      <td>0.7</td>\n",
              "      <td>0.1</td>\n",
              "    </tr>\n",
              "    <tr>\n",
              "      <th>5</th>\n",
              "      <td>1.5</td>\n",
              "      <td>0.7</td>\n",
              "      <td>0.2</td>\n",
              "    </tr>\n",
              "    <tr>\n",
              "      <th>6</th>\n",
              "      <td>1.6</td>\n",
              "      <td>0.6</td>\n",
              "      <td>0.2</td>\n",
              "    </tr>\n",
              "    <tr>\n",
              "      <th>7</th>\n",
              "      <td>1.7</td>\n",
              "      <td>0.6</td>\n",
              "      <td>0.2</td>\n",
              "    </tr>\n",
              "    <tr>\n",
              "      <th>8</th>\n",
              "      <td>1.8</td>\n",
              "      <td>0.6</td>\n",
              "      <td>0.3</td>\n",
              "    </tr>\n",
              "    <tr>\n",
              "      <th>9</th>\n",
              "      <td>1.9</td>\n",
              "      <td>0.5</td>\n",
              "      <td>0.3</td>\n",
              "    </tr>\n",
              "  </tbody>\n",
              "</table>\n",
              "</div>"
            ],
            "text/plain": [
              "   Counter    x    y\n",
              "4      1.4  0.7  0.1\n",
              "5      1.5  0.7  0.2\n",
              "6      1.6  0.6  0.2\n",
              "7      1.7  0.6  0.2\n",
              "8      1.8  0.6  0.3\n",
              "9      1.9  0.5  0.3"
            ]
          },
          "metadata": {
            "tags": []
          },
          "execution_count": 21
        }
      ]
    },
    {
      "cell_type": "code",
      "metadata": {
        "colab": {
          "base_uri": "https://localhost:8080/",
          "height": 235
        },
        "id": "WFDslMLhbHtN",
        "outputId": "e85af8d9-de6a-4e79-9141-51775de660fb"
      },
      "source": [
        "df[['Counter', 'y']][4:10]\n"
      ],
      "execution_count": null,
      "outputs": [
        {
          "output_type": "execute_result",
          "data": {
            "text/html": [
              "<div>\n",
              "<style scoped>\n",
              "    .dataframe tbody tr th:only-of-type {\n",
              "        vertical-align: middle;\n",
              "    }\n",
              "\n",
              "    .dataframe tbody tr th {\n",
              "        vertical-align: top;\n",
              "    }\n",
              "\n",
              "    .dataframe thead th {\n",
              "        text-align: right;\n",
              "    }\n",
              "</style>\n",
              "<table border=\"1\" class=\"dataframe\">\n",
              "  <thead>\n",
              "    <tr style=\"text-align: right;\">\n",
              "      <th></th>\n",
              "      <th>Counter</th>\n",
              "      <th>y</th>\n",
              "    </tr>\n",
              "  </thead>\n",
              "  <tbody>\n",
              "    <tr>\n",
              "      <th>4</th>\n",
              "      <td>1.4</td>\n",
              "      <td>0.1</td>\n",
              "    </tr>\n",
              "    <tr>\n",
              "      <th>5</th>\n",
              "      <td>1.5</td>\n",
              "      <td>0.2</td>\n",
              "    </tr>\n",
              "    <tr>\n",
              "      <th>6</th>\n",
              "      <td>1.6</td>\n",
              "      <td>0.2</td>\n",
              "    </tr>\n",
              "    <tr>\n",
              "      <th>7</th>\n",
              "      <td>1.7</td>\n",
              "      <td>0.2</td>\n",
              "    </tr>\n",
              "    <tr>\n",
              "      <th>8</th>\n",
              "      <td>1.8</td>\n",
              "      <td>0.3</td>\n",
              "    </tr>\n",
              "    <tr>\n",
              "      <th>9</th>\n",
              "      <td>1.9</td>\n",
              "      <td>0.3</td>\n",
              "    </tr>\n",
              "  </tbody>\n",
              "</table>\n",
              "</div>"
            ],
            "text/plain": [
              "   Counter    y\n",
              "4      1.4  0.1\n",
              "5      1.5  0.2\n",
              "6      1.6  0.2\n",
              "7      1.7  0.2\n",
              "8      1.8  0.3\n",
              "9      1.9  0.3"
            ]
          },
          "metadata": {
            "tags": []
          },
          "execution_count": 22
        }
      ]
    },
    {
      "cell_type": "code",
      "metadata": {
        "colab": {
          "base_uri": "https://localhost:8080/",
          "height": 235
        },
        "id": "QMFiAaqDbCcm",
        "outputId": "63b3268d-56a5-49a7-a8a1-9e33f5aa526c"
      },
      "source": [
        "df.iloc[4:10, [0,2]]"
      ],
      "execution_count": null,
      "outputs": [
        {
          "output_type": "execute_result",
          "data": {
            "text/html": [
              "<div>\n",
              "<style scoped>\n",
              "    .dataframe tbody tr th:only-of-type {\n",
              "        vertical-align: middle;\n",
              "    }\n",
              "\n",
              "    .dataframe tbody tr th {\n",
              "        vertical-align: top;\n",
              "    }\n",
              "\n",
              "    .dataframe thead th {\n",
              "        text-align: right;\n",
              "    }\n",
              "</style>\n",
              "<table border=\"1\" class=\"dataframe\">\n",
              "  <thead>\n",
              "    <tr style=\"text-align: right;\">\n",
              "      <th></th>\n",
              "      <th>Counter</th>\n",
              "      <th>y</th>\n",
              "    </tr>\n",
              "  </thead>\n",
              "  <tbody>\n",
              "    <tr>\n",
              "      <th>4</th>\n",
              "      <td>1.4</td>\n",
              "      <td>0.1</td>\n",
              "    </tr>\n",
              "    <tr>\n",
              "      <th>5</th>\n",
              "      <td>1.5</td>\n",
              "      <td>0.2</td>\n",
              "    </tr>\n",
              "    <tr>\n",
              "      <th>6</th>\n",
              "      <td>1.6</td>\n",
              "      <td>0.2</td>\n",
              "    </tr>\n",
              "    <tr>\n",
              "      <th>7</th>\n",
              "      <td>1.7</td>\n",
              "      <td>0.2</td>\n",
              "    </tr>\n",
              "    <tr>\n",
              "      <th>8</th>\n",
              "      <td>1.8</td>\n",
              "      <td>0.3</td>\n",
              "    </tr>\n",
              "    <tr>\n",
              "      <th>9</th>\n",
              "      <td>1.9</td>\n",
              "      <td>0.3</td>\n",
              "    </tr>\n",
              "  </tbody>\n",
              "</table>\n",
              "</div>"
            ],
            "text/plain": [
              "   Counter    y\n",
              "4      1.4  0.1\n",
              "5      1.5  0.2\n",
              "6      1.6  0.2\n",
              "7      1.7  0.2\n",
              "8      1.8  0.3\n",
              "9      1.9  0.3"
            ]
          },
          "metadata": {
            "tags": []
          },
          "execution_count": 23
        }
      ]
    },
    {
      "cell_type": "code",
      "metadata": {
        "colab": {
          "base_uri": "https://localhost:8080/"
        },
        "id": "XlZ7t_tHbSuI",
        "outputId": "ce3b7b79-646f-4d60-d57a-ecf59cc57af4"
      },
      "source": [
        "df.values"
      ],
      "execution_count": null,
      "outputs": [
        {
          "output_type": "execute_result",
          "data": {
            "text/plain": [
              "array([[ 1. ,  1. ,  0. ],\n",
              "       [ 1.1,  0.9,  0. ],\n",
              "       [ 1.2,  0.8,  0.1],\n",
              "       [ 1.3,  0.8,  0.1],\n",
              "       [ 1.4,  0.7,  0.1],\n",
              "       [ 1.5,  0.7,  0.2],\n",
              "       [ 1.6,  0.6,  0.2],\n",
              "       [ 1.7,  0.6,  0.2],\n",
              "       [ 1.8,  0.6,  0.3],\n",
              "       [ 1.9,  0.5,  0.3],\n",
              "       [ 2. ,  0.5,  0.3],\n",
              "       [ 2.1,  0.5,  0.3],\n",
              "       [ 2.2,  0.5,  0.3],\n",
              "       [ 2.3,  0.4,  0.4],\n",
              "       [ 2.4,  0.4,  0.4],\n",
              "       [ 2.5,  0.4,  0.4],\n",
              "       [ 2.6,  0.4,  0.4],\n",
              "       [ 2.7,  0.4,  0.4],\n",
              "       [ 2.8,  0.4,  0.4],\n",
              "       [ 2.9,  0.3,  0.5],\n",
              "       [ 3. ,  0.3,  0.5],\n",
              "       [ 3.1,  0.3,  0.5],\n",
              "       [ 3.2,  0.3,  0.5],\n",
              "       [ 3.3,  0.3,  0.5],\n",
              "       [ 3.4,  0.3,  0.5],\n",
              "       [ 3.5,  0.3,  0.5],\n",
              "       [ 3.6,  0.3,  0.6],\n",
              "       [ 3.7,  0.3,  0.6],\n",
              "       [ 3.8,  0.3,  0.6],\n",
              "       [ 3.9,  0.3,  0.6],\n",
              "       [ 4. ,  0.2,  0.6],\n",
              "       [ 4.1,  0.2,  0.6],\n",
              "       [ 4.2,  0.2,  0.6],\n",
              "       [ 4.3,  0.2,  0.6],\n",
              "       [ 4.4,  0.2,  0.6],\n",
              "       [ 4.5,  0.2,  0.7],\n",
              "       [ 4.6,  0.2,  0.7],\n",
              "       [ 4.7,  0.2,  0.7],\n",
              "       [ 4.8,  0.2,  0.7],\n",
              "       [ 4.9,  0.2,  0.7],\n",
              "       [ 5. ,  0.2,  0.7],\n",
              "       [ 5.1,  0.2,  0.7],\n",
              "       [ 5.2,  0.2,  0.7],\n",
              "       [ 5.3,  0.2,  0.7],\n",
              "       [ 5.4,  0.2,  0.7],\n",
              "       [ 5.5,  0.2,  0.7],\n",
              "       [ 5.6,  0.2,  0.7],\n",
              "       [ 5.7,  0.2,  0.8],\n",
              "       [ 5.8,  0.2,  0.8],\n",
              "       [ 5.9,  0.2,  0.8],\n",
              "       [ 6. ,  0.2,  0.8],\n",
              "       [ 6.1,  0.2,  0.8],\n",
              "       [ 6.2,  0.2,  0.8],\n",
              "       [ 6.3,  0.2,  0.8],\n",
              "       [ 6.4,  0.2,  0.8],\n",
              "       [ 6.5,  0.2,  0.8],\n",
              "       [ 6.6,  0.2,  0.8],\n",
              "       [ 6.7,  0.1,  0.8],\n",
              "       [ 6.8,  0.1,  0.8],\n",
              "       [ 6.9,  0.1,  0.8],\n",
              "       [ 7. ,  0.1,  0.8],\n",
              "       [ 7.1,  0.1,  0.9],\n",
              "       [ 7.2,  0.1,  0.9],\n",
              "       [ 7.3,  0.1,  0.9],\n",
              "       [ 7.4,  0.1,  0.9],\n",
              "       [ 7.5,  0.1,  0.9],\n",
              "       [ 7.6,  0.1,  0.9],\n",
              "       [ 7.7,  0.1,  0.9],\n",
              "       [ 7.8,  0.1,  0.9],\n",
              "       [ 7.9,  0.1,  0.9],\n",
              "       [ 8. ,  0.1,  0.9],\n",
              "       [ 8.1,  0.1,  0.9],\n",
              "       [ 8.2,  0.1,  0.9],\n",
              "       [ 8.3,  0.1,  0.9],\n",
              "       [ 8.4,  0.1,  0.9],\n",
              "       [ 8.5,  0.1,  0.9],\n",
              "       [ 8.6,  0.1,  0.9],\n",
              "       [ 8.7,  0.1,  0.9],\n",
              "       [ 8.8,  0.1,  0.9],\n",
              "       [ 8.9,  0.1,  0.9],\n",
              "       [ 9. ,  0.1,  1. ],\n",
              "       [ 9.1,  0.1,  1. ],\n",
              "       [ 9.2,  0.1,  1. ],\n",
              "       [ 9.3,  0.1,  1. ],\n",
              "       [ 9.4,  0.1,  1. ],\n",
              "       [ 9.5,  0.1,  1. ],\n",
              "       [ 9.6,  0.1,  1. ],\n",
              "       [ 9.7,  0.1,  1. ],\n",
              "       [ 9.8,  0.1,  1. ],\n",
              "       [ 9.9,  0.1,  1. ],\n",
              "       [10. ,  0.1,  1. ],\n",
              "       [10.1,  0.1,  1. ],\n",
              "       [10.2,  0.1,  1. ],\n",
              "       [10.3,  0.1,  1. ],\n",
              "       [10.4,  0.1,  1. ],\n",
              "       [10.5,  0.1,  1. ],\n",
              "       [10.6,  0.1,  1. ],\n",
              "       [10.7,  0.1,  1. ],\n",
              "       [10.8,  0.1,  1. ],\n",
              "       [10.9,  0.1,  1. ]])"
            ]
          },
          "metadata": {
            "tags": []
          },
          "execution_count": 24
        }
      ]
    },
    {
      "cell_type": "code",
      "metadata": {
        "colab": {
          "base_uri": "https://localhost:8080/"
        },
        "id": "EKzSgHXebU8i",
        "outputId": "148a1e4f-271e-4f52-9852-ace21a8c5fd6"
      },
      "source": [
        "df.y.values"
      ],
      "execution_count": null,
      "outputs": [
        {
          "output_type": "execute_result",
          "data": {
            "text/plain": [
              "array([0. , 0. , 0.1, 0.1, 0.1, 0.2, 0.2, 0.2, 0.3, 0.3, 0.3, 0.3, 0.3,\n",
              "       0.4, 0.4, 0.4, 0.4, 0.4, 0.4, 0.5, 0.5, 0.5, 0.5, 0.5, 0.5, 0.5,\n",
              "       0.6, 0.6, 0.6, 0.6, 0.6, 0.6, 0.6, 0.6, 0.6, 0.7, 0.7, 0.7, 0.7,\n",
              "       0.7, 0.7, 0.7, 0.7, 0.7, 0.7, 0.7, 0.7, 0.8, 0.8, 0.8, 0.8, 0.8,\n",
              "       0.8, 0.8, 0.8, 0.8, 0.8, 0.8, 0.8, 0.8, 0.8, 0.9, 0.9, 0.9, 0.9,\n",
              "       0.9, 0.9, 0.9, 0.9, 0.9, 0.9, 0.9, 0.9, 0.9, 0.9, 0.9, 0.9, 0.9,\n",
              "       0.9, 0.9, 1. , 1. , 1. , 1. , 1. , 1. , 1. , 1. , 1. , 1. , 1. ,\n",
              "       1. , 1. , 1. , 1. , 1. , 1. , 1. , 1. , 1. ])"
            ]
          },
          "metadata": {
            "tags": []
          },
          "execution_count": 25
        }
      ]
    },
    {
      "cell_type": "markdown",
      "metadata": {
        "id": "NqUH2XfBf_pS"
      },
      "source": [
        "#### Grouping \n",
        "\n",
        "* Pandas offers functions to handle data, including missing data. nan's {\"Not-A-Number\"\n",
        "* It allows for pivoting for more efficient data manipulation\n",
        "* You can group respondents by gender"
      ]
    },
    {
      "cell_type": "code",
      "metadata": {
        "id": "1Q9QwFimf8K2"
      },
      "source": [
        "import pandas as pd\n",
        "import matplotlib.pyplot as plt\n",
        "import seaborn as sns"
      ],
      "execution_count": null,
      "outputs": []
    },
    {
      "cell_type": "code",
      "metadata": {
        "colab": {
          "base_uri": "https://localhost:8080/",
          "height": 173
        },
        "id": "FWCok0LsgDc_",
        "outputId": "bdcd0720-46ad-4ad2-d938-9c195f96cfa4"
      },
      "source": [
        "data = pd.DataFrame({\n",
        "    'Sex': ['F', 'F', 'M', 'F', 'M',\n",
        "              'M', 'F','M', 'F', 'M', 'M'],\n",
        "    'GPA' : [3.41, 3.53, 2.67, 3.19, 4., 2.15, 3.26, 3.91, 3.75, 2.14, 3.67]\n",
        "})\n",
        "\n",
        "grouped = data.groupby('Sex')\n",
        "grouped.describe()"
      ],
      "execution_count": null,
      "outputs": [
        {
          "output_type": "execute_result",
          "data": {
            "text/html": [
              "<div>\n",
              "<style scoped>\n",
              "    .dataframe tbody tr th:only-of-type {\n",
              "        vertical-align: middle;\n",
              "    }\n",
              "\n",
              "    .dataframe tbody tr th {\n",
              "        vertical-align: top;\n",
              "    }\n",
              "\n",
              "    .dataframe thead tr th {\n",
              "        text-align: left;\n",
              "    }\n",
              "\n",
              "    .dataframe thead tr:last-of-type th {\n",
              "        text-align: right;\n",
              "    }\n",
              "</style>\n",
              "<table border=\"1\" class=\"dataframe\">\n",
              "  <thead>\n",
              "    <tr>\n",
              "      <th></th>\n",
              "      <th colspan=\"8\" halign=\"left\">GPA</th>\n",
              "    </tr>\n",
              "    <tr>\n",
              "      <th></th>\n",
              "      <th>count</th>\n",
              "      <th>mean</th>\n",
              "      <th>std</th>\n",
              "      <th>min</th>\n",
              "      <th>25%</th>\n",
              "      <th>50%</th>\n",
              "      <th>75%</th>\n",
              "      <th>max</th>\n",
              "    </tr>\n",
              "    <tr>\n",
              "      <th>Sex</th>\n",
              "      <th></th>\n",
              "      <th></th>\n",
              "      <th></th>\n",
              "      <th></th>\n",
              "      <th></th>\n",
              "      <th></th>\n",
              "      <th></th>\n",
              "      <th></th>\n",
              "    </tr>\n",
              "  </thead>\n",
              "  <tbody>\n",
              "    <tr>\n",
              "      <th>F</th>\n",
              "      <td>5.0</td>\n",
              "      <td>3.428</td>\n",
              "      <td>0.223204</td>\n",
              "      <td>3.19</td>\n",
              "      <td>3.26</td>\n",
              "      <td>3.41</td>\n",
              "      <td>3.53</td>\n",
              "      <td>3.75</td>\n",
              "    </tr>\n",
              "    <tr>\n",
              "      <th>M</th>\n",
              "      <td>6.0</td>\n",
              "      <td>3.090</td>\n",
              "      <td>0.871711</td>\n",
              "      <td>2.14</td>\n",
              "      <td>2.28</td>\n",
              "      <td>3.17</td>\n",
              "      <td>3.85</td>\n",
              "      <td>4.00</td>\n",
              "    </tr>\n",
              "  </tbody>\n",
              "</table>\n",
              "</div>"
            ],
            "text/plain": [
              "      GPA                                               \n",
              "    count   mean       std   min   25%   50%   75%   max\n",
              "Sex                                                     \n",
              "F     5.0  3.428  0.223204  3.19  3.26  3.41  3.53  3.75\n",
              "M     6.0  3.090  0.871711  2.14  2.28  3.17  3.85  4.00"
            ]
          },
          "metadata": {
            "tags": []
          },
          "execution_count": 26
        }
      ]
    },
    {
      "cell_type": "code",
      "metadata": {
        "colab": {
          "base_uri": "https://localhost:8080/",
          "height": 280
        },
        "id": "Xa60CuL4gQl7",
        "outputId": "4c88ee72-8037-429f-af85-7df202c7e3da"
      },
      "source": [
        "grouped.boxplot()\n",
        "plt.show()"
      ],
      "execution_count": null,
      "outputs": [
        {
          "output_type": "display_data",
          "data": {
            "image/png": "[encoded data removed]",
            "text/plain": [
              "<Figure size 432x288 with 2 Axes>"
            ]
          },
          "metadata": {
            "tags": [],
            "needs_background": "light"
          }
        }
      ]
    },
    {
      "cell_type": "code",
      "metadata": {
        "colab": {
          "base_uri": "https://localhost:8080/",
          "height": 204
        },
        "id": "SohrgHuZgTf3",
        "outputId": "c359c624-0480-49f6-980d-fce22a651895"
      },
      "source": [
        "# Show only the female \n",
        "df_F = grouped.get_group('F')\n",
        "df_F"
      ],
      "execution_count": null,
      "outputs": [
        {
          "output_type": "execute_result",
          "data": {
            "text/html": [
              "<div>\n",
              "<style scoped>\n",
              "    .dataframe tbody tr th:only-of-type {\n",
              "        vertical-align: middle;\n",
              "    }\n",
              "\n",
              "    .dataframe tbody tr th {\n",
              "        vertical-align: top;\n",
              "    }\n",
              "\n",
              "    .dataframe thead th {\n",
              "        text-align: right;\n",
              "    }\n",
              "</style>\n",
              "<table border=\"1\" class=\"dataframe\">\n",
              "  <thead>\n",
              "    <tr style=\"text-align: right;\">\n",
              "      <th></th>\n",
              "      <th>Sex</th>\n",
              "      <th>GPA</th>\n",
              "    </tr>\n",
              "  </thead>\n",
              "  <tbody>\n",
              "    <tr>\n",
              "      <th>0</th>\n",
              "      <td>F</td>\n",
              "      <td>3.41</td>\n",
              "    </tr>\n",
              "    <tr>\n",
              "      <th>1</th>\n",
              "      <td>F</td>\n",
              "      <td>3.53</td>\n",
              "    </tr>\n",
              "    <tr>\n",
              "      <th>3</th>\n",
              "      <td>F</td>\n",
              "      <td>3.19</td>\n",
              "    </tr>\n",
              "    <tr>\n",
              "      <th>6</th>\n",
              "      <td>F</td>\n",
              "      <td>3.26</td>\n",
              "    </tr>\n",
              "    <tr>\n",
              "      <th>8</th>\n",
              "      <td>F</td>\n",
              "      <td>3.75</td>\n",
              "    </tr>\n",
              "  </tbody>\n",
              "</table>\n",
              "</div>"
            ],
            "text/plain": [
              "  Sex   GPA\n",
              "0   F  3.41\n",
              "1   F  3.53\n",
              "3   F  3.19\n",
              "6   F  3.26\n",
              "8   F  3.75"
            ]
          },
          "metadata": {
            "tags": []
          },
          "execution_count": 35
        }
      ]
    },
    {
      "cell_type": "code",
      "metadata": {
        "colab": {
          "base_uri": "https://localhost:8080/"
        },
        "id": "W6Vc7cHMgXHl",
        "outputId": "2c58ef96-d3b7-43b3-d331-ec113f2e60a3"
      },
      "source": [
        "import numpy as np\n",
        "import pandas as pd\n",
        "import statsmodels.formula.api as sm\n",
        "import seaborn as sns"
      ],
      "execution_count": null,
      "outputs": [
        {
          "output_type": "stream",
          "text": [
            "/usr/local/lib/python3.7/dist-packages/statsmodels/tools/_testing.py:19: FutureWarning: pandas.util.testing is deprecated. Use the functions in the public API at pandas.testing instead.\n",
            "  import pandas.util.testing as tm\n"
          ],
          "name": "stderr"
        }
      ]
    },
    {
      "cell_type": "code",
      "metadata": {
        "colab": {
          "base_uri": "https://localhost:8080/",
          "height": 265
        },
        "id": "lFSN3dfJgb0f",
        "outputId": "a771fcaf-d969-4f4e-8a15-5f13908ffd37"
      },
      "source": [
        "# Generate a noisy line and save the data in a pandas dataframe\n",
        "x = np.arange(100)\n",
        "y = 2.25*x - 6 + np.random.randn(len(x))\n",
        "\n",
        "df = pd.DataFrame({'x':x, 'y':y})\n",
        "\n",
        "sns.regplot(x = x, y = y, data = df)\n",
        "plt.show()"
      ],
      "execution_count": null,
      "outputs": [
        {
          "output_type": "display_data",
          "data": {
            "image/png": "[encoded data removed]",
            "text/plain": [
              "<Figure size 432x288 with 1 Axes>"
            ]
          },
          "metadata": {
            "tags": [],
            "needs_background": "light"
          }
        }
      ]
    },
    {
      "cell_type": "markdown",
      "metadata": {
        "id": "OCifSxykgp7c"
      },
      "source": [
        "IPEDS Data "
      ]
    },
    {
      "cell_type": "code",
      "metadata": {
        "id": "Xw2guQ8IjNXV"
      },
      "source": [
        "# These are the common ways to import the packages as pd, np, etc... you can import them, however; you'd like. \n",
        "import pandas as pd\n",
        "import numpy as np\n",
        "import matplotlib.pyplot as plt\n",
        "import seaborn as sns\n",
        "\n",
        "# We are setting our style for printing graphics. \n",
        "sns.set_style('whitegrid')"
      ],
      "execution_count": null,
      "outputs": []
    },
    {
      "cell_type": "code",
      "metadata": {
        "id": "eQU-OWCFLddo"
      },
      "source": [
        "import os \n",
        "os.getcwd()\n",
        "os.chdir('//content//drive//MyDrive//Python for Excel')"
      ],
      "execution_count": null,
      "outputs": []
    },
    {
      "cell_type": "markdown",
      "metadata": {
        "id": "nAnTD1_thC__"
      },
      "source": [
        "## Load the Data"
      ]
    },
    {
      "cell_type": "code",
      "metadata": {
        "id": "Nct8ulLbrl3F"
      },
      "source": [
        "df = pd.read_csv('//content//drive//MyDrive//Python for Excel//HD2019.txt', encoding = 'latin')"
      ],
      "execution_count": null,
      "outputs": []
    },
    {
      "cell_type": "markdown",
      "metadata": {
        "id": "VPN1BBcAg_Zr"
      },
      "source": [
        "## Clean and Explore the Dataset"
      ]
    },
    {
      "cell_type": "code",
      "metadata": {
        "colab": {
          "base_uri": "https://localhost:8080/",
          "height": 547
        },
        "id": "XhwhKdLBr0NS",
        "outputId": "2fcbe4d6-588c-4ffe-e471-4cca64f645da"
      },
      "source": [
        "df.head()"
      ],
      "execution_count": null,
      "outputs": [
        {
          "output_type": "execute_result",
          "data": {
            "text/html": [
              "<div>\n",
              "<style scoped>\n",
              "    .dataframe tbody tr th:only-of-type {\n",
              "        vertical-align: middle;\n",
              "    }\n",
              "\n",
              "    .dataframe tbody tr th {\n",
              "        vertical-align: top;\n",
              "    }\n",
              "\n",
              "    .dataframe thead th {\n",
              "        text-align: right;\n",
              "    }\n",
              "</style>\n",
              "<table border=\"1\" class=\"dataframe\">\n",
              "  <thead>\n",
              "    <tr style=\"text-align: right;\">\n",
              "      <th></th>\n",
              "      <th>UNITID</th>\n",
              "      <th>INSTNM</th>\n",
              "      <th>IALIAS</th>\n",
              "      <th>ADDR</th>\n",
              "      <th>CITY</th>\n",
              "      <th>STABBR</th>\n",
              "      <th>ZIP</th>\n",
              "      <th>FIPS</th>\n",
              "      <th>OBEREG</th>\n",
              "      <th>CHFNM</th>\n",
              "      <th>CHFTITLE</th>\n",
              "      <th>GENTELE</th>\n",
              "      <th>EIN</th>\n",
              "      <th>DUNS</th>\n",
              "      <th>OPEID</th>\n",
              "      <th>OPEFLAG</th>\n",
              "      <th>WEBADDR</th>\n",
              "      <th>ADMINURL</th>\n",
              "      <th>FAIDURL</th>\n",
              "      <th>APPLURL</th>\n",
              "      <th>NPRICURL</th>\n",
              "      <th>VETURL</th>\n",
              "      <th>ATHURL</th>\n",
              "      <th>DISAURL</th>\n",
              "      <th>SECTOR</th>\n",
              "      <th>ICLEVEL</th>\n",
              "      <th>CONTROL</th>\n",
              "      <th>HLOFFER</th>\n",
              "      <th>UGOFFER</th>\n",
              "      <th>GROFFER</th>\n",
              "      <th>HDEGOFR1</th>\n",
              "      <th>DEGGRANT</th>\n",
              "      <th>HBCU</th>\n",
              "      <th>HOSPITAL</th>\n",
              "      <th>MEDICAL</th>\n",
              "      <th>TRIBAL</th>\n",
              "      <th>LOCALE</th>\n",
              "      <th>OPENPUBL</th>\n",
              "      <th>ACT</th>\n",
              "      <th>NEWID</th>\n",
              "      <th>DEATHYR</th>\n",
              "      <th>CLOSEDAT</th>\n",
              "      <th>CYACTIVE</th>\n",
              "      <th>POSTSEC</th>\n",
              "      <th>PSEFLAG</th>\n",
              "      <th>PSET4FLG</th>\n",
              "      <th>RPTMTH</th>\n",
              "      <th>INSTCAT</th>\n",
              "      <th>C18BASIC</th>\n",
              "      <th>C18IPUG</th>\n",
              "      <th>C18IPGRD</th>\n",
              "      <th>C18UGPRF</th>\n",
              "      <th>C18ENPRF</th>\n",
              "      <th>C18SZSET</th>\n",
              "      <th>C15BASIC</th>\n",
              "      <th>CCBASIC</th>\n",
              "      <th>CARNEGIE</th>\n",
              "      <th>LANDGRNT</th>\n",
              "      <th>INSTSIZE</th>\n",
              "      <th>F1SYSTYP</th>\n",
              "      <th>F1SYSNAM</th>\n",
              "      <th>F1SYSCOD</th>\n",
              "      <th>CBSA</th>\n",
              "      <th>CBSATYPE</th>\n",
              "      <th>CSA</th>\n",
              "      <th>NECTA</th>\n",
              "      <th>COUNTYCD</th>\n",
              "      <th>COUNTYNM</th>\n",
              "      <th>CNGDSTCD</th>\n",
              "      <th>LONGITUD</th>\n",
              "      <th>LATITUDE</th>\n",
              "      <th>DFRCGID</th>\n",
              "      <th>DFRCUSCG</th>\n",
              "    </tr>\n",
              "  </thead>\n",
              "  <tbody>\n",
              "    <tr>\n",
              "      <th>0</th>\n",
              "      <td>100654</td>\n",
              "      <td>Alabama A &amp; M University</td>\n",
              "      <td>AAMU</td>\n",
              "      <td>4900 Meridian Street</td>\n",
              "      <td>Normal</td>\n",
              "      <td>AL</td>\n",
              "      <td>35762</td>\n",
              "      <td>1</td>\n",
              "      <td>5</td>\n",
              "      <td>Dr. Andrew Hugine, Jr.</td>\n",
              "      <td>President</td>\n",
              "      <td>2563725000</td>\n",
              "      <td>636001109</td>\n",
              "      <td>197216455</td>\n",
              "      <td>100200</td>\n",
              "      <td>1</td>\n",
              "      <td>www.aamu.edu/</td>\n",
              "      <td>https://www.aamu.edu/admissions-aid/index.html</td>\n",
              "      <td>https://www.aamu.edu/admissions-aid/financial-...</td>\n",
              "      <td>https://www.aamu.edu/admissions-aid/undergradu...</td>\n",
              "      <td>www.aamu.edu/admissions-aid/tuition-fees/net-p...</td>\n",
              "      <td></td>\n",
              "      <td></td>\n",
              "      <td>https://www.aamu.edu/administrativeoffices/VAD...</td>\n",
              "      <td>1</td>\n",
              "      <td>1</td>\n",
              "      <td>1</td>\n",
              "      <td>9</td>\n",
              "      <td>1</td>\n",
              "      <td>1</td>\n",
              "      <td>12</td>\n",
              "      <td>1</td>\n",
              "      <td>1</td>\n",
              "      <td>2</td>\n",
              "      <td>2</td>\n",
              "      <td>2</td>\n",
              "      <td>12</td>\n",
              "      <td>1</td>\n",
              "      <td>A</td>\n",
              "      <td>-2</td>\n",
              "      <td>-2</td>\n",
              "      <td>-2</td>\n",
              "      <td>1</td>\n",
              "      <td>1</td>\n",
              "      <td>1</td>\n",
              "      <td>1</td>\n",
              "      <td>1</td>\n",
              "      <td>2</td>\n",
              "      <td>18</td>\n",
              "      <td>16</td>\n",
              "      <td>17</td>\n",
              "      <td>10</td>\n",
              "      <td>4</td>\n",
              "      <td>14</td>\n",
              "      <td>18</td>\n",
              "      <td>18</td>\n",
              "      <td>16</td>\n",
              "      <td>1</td>\n",
              "      <td>3</td>\n",
              "      <td>2</td>\n",
              "      <td>-2                                            ...</td>\n",
              "      <td>-2</td>\n",
              "      <td>26620</td>\n",
              "      <td>1</td>\n",
              "      <td>290</td>\n",
              "      <td>-2</td>\n",
              "      <td>1089</td>\n",
              "      <td>Madison County</td>\n",
              "      <td>105</td>\n",
              "      <td>-86.568502</td>\n",
              "      <td>34.783368</td>\n",
              "      <td>112</td>\n",
              "      <td>1</td>\n",
              "    </tr>\n",
              "    <tr>\n",
              "      <th>1</th>\n",
              "      <td>100663</td>\n",
              "      <td>University of Alabama at Birmingham</td>\n",
              "      <td></td>\n",
              "      <td>Administration Bldg Suite 1070</td>\n",
              "      <td>Birmingham</td>\n",
              "      <td>AL</td>\n",
              "      <td>35294-0110</td>\n",
              "      <td>1</td>\n",
              "      <td>5</td>\n",
              "      <td>Ray L. Watts</td>\n",
              "      <td>President</td>\n",
              "      <td>2059344011</td>\n",
              "      <td>636005396</td>\n",
              "      <td>063690705</td>\n",
              "      <td>105200</td>\n",
              "      <td>1</td>\n",
              "      <td>https://www.uab.edu</td>\n",
              "      <td>https://www.uab.edu/students/admissions/</td>\n",
              "      <td>https://www.uab.edu/students/paying-for-college</td>\n",
              "      <td>https://ssb.it.uab.edu/pls/sctprod/zsapk003_ug...</td>\n",
              "      <td>https://uab.studentaidcalculator.com/survey.aspx</td>\n",
              "      <td>https://www.uab.edu/students/veterans</td>\n",
              "      <td>https://www.uab.edu/registrar/students</td>\n",
              "      <td>https://www.uab.edu/students/disability/</td>\n",
              "      <td>1</td>\n",
              "      <td>1</td>\n",
              "      <td>1</td>\n",
              "      <td>9</td>\n",
              "      <td>1</td>\n",
              "      <td>1</td>\n",
              "      <td>11</td>\n",
              "      <td>1</td>\n",
              "      <td>2</td>\n",
              "      <td>1</td>\n",
              "      <td>1</td>\n",
              "      <td>2</td>\n",
              "      <td>12</td>\n",
              "      <td>1</td>\n",
              "      <td>A</td>\n",
              "      <td>-2</td>\n",
              "      <td>-2</td>\n",
              "      <td>-2</td>\n",
              "      <td>1</td>\n",
              "      <td>1</td>\n",
              "      <td>1</td>\n",
              "      <td>1</td>\n",
              "      <td>1</td>\n",
              "      <td>2</td>\n",
              "      <td>15</td>\n",
              "      <td>17</td>\n",
              "      <td>17</td>\n",
              "      <td>9</td>\n",
              "      <td>5</td>\n",
              "      <td>15</td>\n",
              "      <td>15</td>\n",
              "      <td>15</td>\n",
              "      <td>15</td>\n",
              "      <td>2</td>\n",
              "      <td>5</td>\n",
              "      <td>1</td>\n",
              "      <td>The University of Alabama System              ...</td>\n",
              "      <td>101050</td>\n",
              "      <td>13820</td>\n",
              "      <td>1</td>\n",
              "      <td>142</td>\n",
              "      <td>-2</td>\n",
              "      <td>1073</td>\n",
              "      <td>Jefferson County</td>\n",
              "      <td>107</td>\n",
              "      <td>-86.799345</td>\n",
              "      <td>33.505697</td>\n",
              "      <td>98</td>\n",
              "      <td>1</td>\n",
              "    </tr>\n",
              "    <tr>\n",
              "      <th>2</th>\n",
              "      <td>100690</td>\n",
              "      <td>Amridge University</td>\n",
              "      <td>Southern Christian University  Regions University</td>\n",
              "      <td>1200 Taylor Rd</td>\n",
              "      <td>Montgomery</td>\n",
              "      <td>AL</td>\n",
              "      <td>36117-3553</td>\n",
              "      <td>1</td>\n",
              "      <td>5</td>\n",
              "      <td>Michael C.Turner</td>\n",
              "      <td>President</td>\n",
              "      <td>33438738777550</td>\n",
              "      <td>237034324</td>\n",
              "      <td>126307792</td>\n",
              "      <td>2503400</td>\n",
              "      <td>1</td>\n",
              "      <td>www.amridgeuniversity.edu</td>\n",
              "      <td>www.amridgeuniversity.edu/admissions/</td>\n",
              "      <td>www.amridgeuniversity.edu/financialaid/</td>\n",
              "      <td>https://www2.amridgeuniversity.edu/Amridge/Log...</td>\n",
              "      <td>www2.amridgeuniversity.edu:9091/</td>\n",
              "      <td>www.amridgeuniversity.edu/admissions/military/</td>\n",
              "      <td></td>\n",
              "      <td>www.amridgeuniversity.edu/pdf/Amridge%20Univer...</td>\n",
              "      <td>2</td>\n",
              "      <td>1</td>\n",
              "      <td>2</td>\n",
              "      <td>9</td>\n",
              "      <td>1</td>\n",
              "      <td>1</td>\n",
              "      <td>12</td>\n",
              "      <td>1</td>\n",
              "      <td>2</td>\n",
              "      <td>2</td>\n",
              "      <td>2</td>\n",
              "      <td>2</td>\n",
              "      <td>12</td>\n",
              "      <td>1</td>\n",
              "      <td>A</td>\n",
              "      <td>-2</td>\n",
              "      <td>-2</td>\n",
              "      <td>-2</td>\n",
              "      <td>1</td>\n",
              "      <td>1</td>\n",
              "      <td>1</td>\n",
              "      <td>1</td>\n",
              "      <td>1</td>\n",
              "      <td>2</td>\n",
              "      <td>20</td>\n",
              "      <td>19</td>\n",
              "      <td>18</td>\n",
              "      <td>5</td>\n",
              "      <td>5</td>\n",
              "      <td>6</td>\n",
              "      <td>20</td>\n",
              "      <td>21</td>\n",
              "      <td>51</td>\n",
              "      <td>2</td>\n",
              "      <td>1</td>\n",
              "      <td>2</td>\n",
              "      <td>-2                                            ...</td>\n",
              "      <td>-2</td>\n",
              "      <td>33860</td>\n",
              "      <td>1</td>\n",
              "      <td>388</td>\n",
              "      <td>-2</td>\n",
              "      <td>1101</td>\n",
              "      <td>Montgomery County</td>\n",
              "      <td>102</td>\n",
              "      <td>-86.174010</td>\n",
              "      <td>32.362609</td>\n",
              "      <td>129</td>\n",
              "      <td>2</td>\n",
              "    </tr>\n",
              "    <tr>\n",
              "      <th>3</th>\n",
              "      <td>100706</td>\n",
              "      <td>University of Alabama in Huntsville</td>\n",
              "      <td>UAH  University of Alabama Huntsville</td>\n",
              "      <td>301 Sparkman Dr</td>\n",
              "      <td>Huntsville</td>\n",
              "      <td>AL</td>\n",
              "      <td>35899</td>\n",
              "      <td>1</td>\n",
              "      <td>5</td>\n",
              "      <td>Darren Dawson</td>\n",
              "      <td>President</td>\n",
              "      <td>2568246120</td>\n",
              "      <td>630520830</td>\n",
              "      <td>949687123</td>\n",
              "      <td>105500</td>\n",
              "      <td>1</td>\n",
              "      <td>www.uah.edu</td>\n",
              "      <td>https://www.uah.edu/admissions</td>\n",
              "      <td>finaid.uah.edu/</td>\n",
              "      <td>register.uah.edu</td>\n",
              "      <td>finaid.uah.edu/</td>\n",
              "      <td>www.uah.edu/admissions/graduate/financial-aid/...</td>\n",
              "      <td>www.uah.edu/heoa</td>\n",
              "      <td>www.uah.edu/health-and-wellness/disability-sup...</td>\n",
              "      <td>1</td>\n",
              "      <td>1</td>\n",
              "      <td>1</td>\n",
              "      <td>9</td>\n",
              "      <td>1</td>\n",
              "      <td>1</td>\n",
              "      <td>11</td>\n",
              "      <td>1</td>\n",
              "      <td>2</td>\n",
              "      <td>2</td>\n",
              "      <td>2</td>\n",
              "      <td>2</td>\n",
              "      <td>12</td>\n",
              "      <td>1</td>\n",
              "      <td>A</td>\n",
              "      <td>-2</td>\n",
              "      <td>-2</td>\n",
              "      <td>-2</td>\n",
              "      <td>1</td>\n",
              "      <td>1</td>\n",
              "      <td>1</td>\n",
              "      <td>1</td>\n",
              "      <td>1</td>\n",
              "      <td>2</td>\n",
              "      <td>16</td>\n",
              "      <td>17</td>\n",
              "      <td>17</td>\n",
              "      <td>15</td>\n",
              "      <td>4</td>\n",
              "      <td>12</td>\n",
              "      <td>16</td>\n",
              "      <td>15</td>\n",
              "      <td>16</td>\n",
              "      <td>2</td>\n",
              "      <td>3</td>\n",
              "      <td>1</td>\n",
              "      <td>The University of Alabama System              ...</td>\n",
              "      <td>101050</td>\n",
              "      <td>26620</td>\n",
              "      <td>1</td>\n",
              "      <td>290</td>\n",
              "      <td>-2</td>\n",
              "      <td>1089</td>\n",
              "      <td>Madison County</td>\n",
              "      <td>105</td>\n",
              "      <td>-86.640449</td>\n",
              "      <td>34.724557</td>\n",
              "      <td>102</td>\n",
              "      <td>2</td>\n",
              "    </tr>\n",
              "    <tr>\n",
              "      <th>4</th>\n",
              "      <td>100724</td>\n",
              "      <td>Alabama State University</td>\n",
              "      <td></td>\n",
              "      <td>915 S Jackson Street</td>\n",
              "      <td>Montgomery</td>\n",
              "      <td>AL</td>\n",
              "      <td>36104-0271</td>\n",
              "      <td>1</td>\n",
              "      <td>5</td>\n",
              "      <td>Quinton T. Ross</td>\n",
              "      <td>President</td>\n",
              "      <td>3342294100</td>\n",
              "      <td>636001101</td>\n",
              "      <td>040672685</td>\n",
              "      <td>100500</td>\n",
              "      <td>1</td>\n",
              "      <td>www.alasu.edu</td>\n",
              "      <td>www.alasu.edu/admissions/index.aspx</td>\n",
              "      <td>www.alasu.edu/undergraduate/expensesandfinanci...</td>\n",
              "      <td>www.alasu.edu/admissions/undergrad-admissions/...</td>\n",
              "      <td>www.alasu.edu/cost-aid/tuition-costs/net-price...</td>\n",
              "      <td></td>\n",
              "      <td>www.alasu.edu/cost-aid/consumer-info</td>\n",
              "      <td>www.alasu.edu/academics/researchcenters/alabam...</td>\n",
              "      <td>1</td>\n",
              "      <td>1</td>\n",
              "      <td>1</td>\n",
              "      <td>9</td>\n",
              "      <td>1</td>\n",
              "      <td>1</td>\n",
              "      <td>11</td>\n",
              "      <td>1</td>\n",
              "      <td>1</td>\n",
              "      <td>2</td>\n",
              "      <td>2</td>\n",
              "      <td>2</td>\n",
              "      <td>12</td>\n",
              "      <td>1</td>\n",
              "      <td>A</td>\n",
              "      <td>-2</td>\n",
              "      <td>-2</td>\n",
              "      <td>-2</td>\n",
              "      <td>1</td>\n",
              "      <td>1</td>\n",
              "      <td>1</td>\n",
              "      <td>1</td>\n",
              "      <td>1</td>\n",
              "      <td>2</td>\n",
              "      <td>19</td>\n",
              "      <td>13</td>\n",
              "      <td>13</td>\n",
              "      <td>10</td>\n",
              "      <td>3</td>\n",
              "      <td>14</td>\n",
              "      <td>19</td>\n",
              "      <td>18</td>\n",
              "      <td>21</td>\n",
              "      <td>2</td>\n",
              "      <td>2</td>\n",
              "      <td>2</td>\n",
              "      <td>-2                                            ...</td>\n",
              "      <td>-2</td>\n",
              "      <td>33860</td>\n",
              "      <td>1</td>\n",
              "      <td>388</td>\n",
              "      <td>-2</td>\n",
              "      <td>1101</td>\n",
              "      <td>Montgomery County</td>\n",
              "      <td>107</td>\n",
              "      <td>-86.295677</td>\n",
              "      <td>32.364317</td>\n",
              "      <td>120</td>\n",
              "      <td>1</td>\n",
              "    </tr>\n",
              "  </tbody>\n",
              "</table>\n",
              "</div>"
            ],
            "text/plain": [
              "   UNITID                               INSTNM  ... DFRCGID DFRCUSCG\n",
              "0  100654             Alabama A & M University  ...     112        1\n",
              "1  100663  University of Alabama at Birmingham  ...      98        1\n",
              "2  100690                   Amridge University  ...     129        2\n",
              "3  100706  University of Alabama in Huntsville  ...     102        2\n",
              "4  100724             Alabama State University  ...     120        1\n",
              "\n",
              "[5 rows x 73 columns]"
            ]
          },
          "metadata": {
            "tags": []
          },
          "execution_count": 42
        }
      ]
    },
    {
      "cell_type": "code",
      "metadata": {
        "colab": {
          "base_uri": "https://localhost:8080/",
          "height": 530
        },
        "id": "ZCUsX-lAr5w8",
        "outputId": "3eabe333-1d5e-4041-de96-31f4bc72b43c"
      },
      "source": [
        "df.tail()"
      ],
      "execution_count": null,
      "outputs": [
        {
          "output_type": "execute_result",
          "data": {
            "text/html": [
              "<div>\n",
              "<style scoped>\n",
              "    .dataframe tbody tr th:only-of-type {\n",
              "        vertical-align: middle;\n",
              "    }\n",
              "\n",
              "    .dataframe tbody tr th {\n",
              "        vertical-align: top;\n",
              "    }\n",
              "\n",
              "    .dataframe thead th {\n",
              "        text-align: right;\n",
              "    }\n",
              "</style>\n",
              "<table border=\"1\" class=\"dataframe\">\n",
              "  <thead>\n",
              "    <tr style=\"text-align: right;\">\n",
              "      <th></th>\n",
              "      <th>UNITID</th>\n",
              "      <th>INSTNM</th>\n",
              "      <th>IALIAS</th>\n",
              "      <th>ADDR</th>\n",
              "      <th>CITY</th>\n",
              "      <th>STABBR</th>\n",
              "      <th>ZIP</th>\n",
              "      <th>FIPS</th>\n",
              "      <th>OBEREG</th>\n",
              "      <th>CHFNM</th>\n",
              "      <th>CHFTITLE</th>\n",
              "      <th>GENTELE</th>\n",
              "      <th>EIN</th>\n",
              "      <th>DUNS</th>\n",
              "      <th>OPEID</th>\n",
              "      <th>OPEFLAG</th>\n",
              "      <th>WEBADDR</th>\n",
              "      <th>ADMINURL</th>\n",
              "      <th>FAIDURL</th>\n",
              "      <th>APPLURL</th>\n",
              "      <th>NPRICURL</th>\n",
              "      <th>VETURL</th>\n",
              "      <th>ATHURL</th>\n",
              "      <th>DISAURL</th>\n",
              "      <th>SECTOR</th>\n",
              "      <th>ICLEVEL</th>\n",
              "      <th>CONTROL</th>\n",
              "      <th>HLOFFER</th>\n",
              "      <th>UGOFFER</th>\n",
              "      <th>GROFFER</th>\n",
              "      <th>HDEGOFR1</th>\n",
              "      <th>DEGGRANT</th>\n",
              "      <th>HBCU</th>\n",
              "      <th>HOSPITAL</th>\n",
              "      <th>MEDICAL</th>\n",
              "      <th>TRIBAL</th>\n",
              "      <th>LOCALE</th>\n",
              "      <th>OPENPUBL</th>\n",
              "      <th>ACT</th>\n",
              "      <th>NEWID</th>\n",
              "      <th>DEATHYR</th>\n",
              "      <th>CLOSEDAT</th>\n",
              "      <th>CYACTIVE</th>\n",
              "      <th>POSTSEC</th>\n",
              "      <th>PSEFLAG</th>\n",
              "      <th>PSET4FLG</th>\n",
              "      <th>RPTMTH</th>\n",
              "      <th>INSTCAT</th>\n",
              "      <th>C18BASIC</th>\n",
              "      <th>C18IPUG</th>\n",
              "      <th>C18IPGRD</th>\n",
              "      <th>C18UGPRF</th>\n",
              "      <th>C18ENPRF</th>\n",
              "      <th>C18SZSET</th>\n",
              "      <th>C15BASIC</th>\n",
              "      <th>CCBASIC</th>\n",
              "      <th>CARNEGIE</th>\n",
              "      <th>LANDGRNT</th>\n",
              "      <th>INSTSIZE</th>\n",
              "      <th>F1SYSTYP</th>\n",
              "      <th>F1SYSNAM</th>\n",
              "      <th>F1SYSCOD</th>\n",
              "      <th>CBSA</th>\n",
              "      <th>CBSATYPE</th>\n",
              "      <th>CSA</th>\n",
              "      <th>NECTA</th>\n",
              "      <th>COUNTYCD</th>\n",
              "      <th>COUNTYNM</th>\n",
              "      <th>CNGDSTCD</th>\n",
              "      <th>LONGITUD</th>\n",
              "      <th>LATITUDE</th>\n",
              "      <th>DFRCGID</th>\n",
              "      <th>DFRCUSCG</th>\n",
              "    </tr>\n",
              "  </thead>\n",
              "  <tbody>\n",
              "    <tr>\n",
              "      <th>6554</th>\n",
              "      <td>494889</td>\n",
              "      <td>Baker College - Flint</td>\n",
              "      <td></td>\n",
              "      <td>1050 West Bristol Road</td>\n",
              "      <td>Flint</td>\n",
              "      <td>MI</td>\n",
              "      <td>48507-5508</td>\n",
              "      <td>26</td>\n",
              "      <td>3</td>\n",
              "      <td></td>\n",
              "      <td></td>\n",
              "      <td></td>\n",
              "      <td>-1</td>\n",
              "      <td></td>\n",
              "      <td>467353</td>\n",
              "      <td>1</td>\n",
              "      <td></td>\n",
              "      <td></td>\n",
              "      <td></td>\n",
              "      <td></td>\n",
              "      <td></td>\n",
              "      <td></td>\n",
              "      <td></td>\n",
              "      <td></td>\n",
              "      <td>99</td>\n",
              "      <td>-3</td>\n",
              "      <td>-3</td>\n",
              "      <td>-3</td>\n",
              "      <td>-3</td>\n",
              "      <td>-3</td>\n",
              "      <td>-3</td>\n",
              "      <td>-3</td>\n",
              "      <td>2</td>\n",
              "      <td>-2</td>\n",
              "      <td>-2</td>\n",
              "      <td>2</td>\n",
              "      <td>21</td>\n",
              "      <td>1</td>\n",
              "      <td>G</td>\n",
              "      <td>168847</td>\n",
              "      <td>-2</td>\n",
              "      <td>-2</td>\n",
              "      <td>3</td>\n",
              "      <td>1</td>\n",
              "      <td>3</td>\n",
              "      <td>9</td>\n",
              "      <td>-2</td>\n",
              "      <td>-2</td>\n",
              "      <td>-2</td>\n",
              "      <td>-2</td>\n",
              "      <td>-2</td>\n",
              "      <td>-2</td>\n",
              "      <td>-2</td>\n",
              "      <td>-2</td>\n",
              "      <td>-2</td>\n",
              "      <td>-2</td>\n",
              "      <td>-2</td>\n",
              "      <td>2</td>\n",
              "      <td>-2</td>\n",
              "      <td>-2</td>\n",
              "      <td>-2                                            ...</td>\n",
              "      <td>-2</td>\n",
              "      <td>22420</td>\n",
              "      <td>1</td>\n",
              "      <td>220</td>\n",
              "      <td>-2</td>\n",
              "      <td>26049</td>\n",
              "      <td>Genesee County</td>\n",
              "      <td>2605</td>\n",
              "      <td>-83.697246</td>\n",
              "      <td>42.975177</td>\n",
              "      <td>-2</td>\n",
              "      <td>-2</td>\n",
              "    </tr>\n",
              "    <tr>\n",
              "      <th>6555</th>\n",
              "      <td>494898</td>\n",
              "      <td>WellSpring School of Allied Health-Wichita</td>\n",
              "      <td></td>\n",
              "      <td>650 N Carriage Parkway, Ste 55</td>\n",
              "      <td>Wichita</td>\n",
              "      <td>KS</td>\n",
              "      <td>67208-4501</td>\n",
              "      <td>20</td>\n",
              "      <td>4</td>\n",
              "      <td>Donald Farquharson</td>\n",
              "      <td>Executive Director</td>\n",
              "      <td>9134068072</td>\n",
              "      <td>10731982</td>\n",
              "      <td>941614398</td>\n",
              "      <td>3970403</td>\n",
              "      <td>1</td>\n",
              "      <td>www.wellspring.edu</td>\n",
              "      <td>www.wellspring.edu/admissions/</td>\n",
              "      <td>www.wellspring.edu/financial-assistance/</td>\n",
              "      <td>www.wellspring.edu/contact-us/apply-now/</td>\n",
              "      <td>www.wellspring.edu/npc/npcalc.htm</td>\n",
              "      <td>www.wellspring.edu/admissions/military-benefit/</td>\n",
              "      <td></td>\n",
              "      <td>www.wellspring.edu</td>\n",
              "      <td>6</td>\n",
              "      <td>2</td>\n",
              "      <td>3</td>\n",
              "      <td>3</td>\n",
              "      <td>1</td>\n",
              "      <td>2</td>\n",
              "      <td>40</td>\n",
              "      <td>1</td>\n",
              "      <td>2</td>\n",
              "      <td>-2</td>\n",
              "      <td>2</td>\n",
              "      <td>2</td>\n",
              "      <td>11</td>\n",
              "      <td>1</td>\n",
              "      <td>N</td>\n",
              "      <td>-2</td>\n",
              "      <td>-2</td>\n",
              "      <td>-2</td>\n",
              "      <td>1</td>\n",
              "      <td>1</td>\n",
              "      <td>1</td>\n",
              "      <td>1</td>\n",
              "      <td>2</td>\n",
              "      <td>4</td>\n",
              "      <td>-2</td>\n",
              "      <td>-2</td>\n",
              "      <td>-2</td>\n",
              "      <td>-2</td>\n",
              "      <td>-2</td>\n",
              "      <td>-2</td>\n",
              "      <td>-2</td>\n",
              "      <td>-2</td>\n",
              "      <td>-2</td>\n",
              "      <td>2</td>\n",
              "      <td>1</td>\n",
              "      <td>1</td>\n",
              "      <td>WellSpring Resources Inc.                     ...</td>\n",
              "      <td>304930</td>\n",
              "      <td>48620</td>\n",
              "      <td>1</td>\n",
              "      <td>556</td>\n",
              "      <td>-2</td>\n",
              "      <td>20173</td>\n",
              "      <td>Sedgwick County</td>\n",
              "      <td>2004</td>\n",
              "      <td>-97.442623</td>\n",
              "      <td>37.673562</td>\n",
              "      <td>228</td>\n",
              "      <td>2</td>\n",
              "    </tr>\n",
              "    <tr>\n",
              "      <th>6556</th>\n",
              "      <td>494904</td>\n",
              "      <td>Access Careers-Islandia</td>\n",
              "      <td></td>\n",
              "      <td>1930 Veterans Highway, Suite 10</td>\n",
              "      <td>Islandia</td>\n",
              "      <td>NY</td>\n",
              "      <td>11749-1599</td>\n",
              "      <td>36</td>\n",
              "      <td>2</td>\n",
              "      <td>Mini Sawhney</td>\n",
              "      <td>Director</td>\n",
              "      <td>6316309410</td>\n",
              "      <td>113311325</td>\n",
              "      <td>061789652</td>\n",
              "      <td>4213401</td>\n",
              "      <td>1</td>\n",
              "      <td>www.accesscareers.net</td>\n",
              "      <td>www.accesscareers.net</td>\n",
              "      <td>www.accesscareers.net</td>\n",
              "      <td></td>\n",
              "      <td>https://accesscareers.net/net-price-calculator/</td>\n",
              "      <td>www.accesscareers.net</td>\n",
              "      <td>www.accesscareers.net</td>\n",
              "      <td>www.accesscareers.net/school-catalog</td>\n",
              "      <td>9</td>\n",
              "      <td>3</td>\n",
              "      <td>3</td>\n",
              "      <td>2</td>\n",
              "      <td>1</td>\n",
              "      <td>2</td>\n",
              "      <td>0</td>\n",
              "      <td>2</td>\n",
              "      <td>2</td>\n",
              "      <td>-2</td>\n",
              "      <td>2</td>\n",
              "      <td>2</td>\n",
              "      <td>21</td>\n",
              "      <td>1</td>\n",
              "      <td>N</td>\n",
              "      <td>-2</td>\n",
              "      <td>-2</td>\n",
              "      <td>-2</td>\n",
              "      <td>1</td>\n",
              "      <td>1</td>\n",
              "      <td>1</td>\n",
              "      <td>1</td>\n",
              "      <td>2</td>\n",
              "      <td>6</td>\n",
              "      <td>-2</td>\n",
              "      <td>-2</td>\n",
              "      <td>-2</td>\n",
              "      <td>-2</td>\n",
              "      <td>-2</td>\n",
              "      <td>-2</td>\n",
              "      <td>-2</td>\n",
              "      <td>-2</td>\n",
              "      <td>-2</td>\n",
              "      <td>2</td>\n",
              "      <td>1</td>\n",
              "      <td>2</td>\n",
              "      <td>-2                                            ...</td>\n",
              "      <td>-2</td>\n",
              "      <td>35620</td>\n",
              "      <td>1</td>\n",
              "      <td>408</td>\n",
              "      <td>-2</td>\n",
              "      <td>36103</td>\n",
              "      <td>Suffolk County</td>\n",
              "      <td>3602</td>\n",
              "      <td>-73.175617</td>\n",
              "      <td>40.800874</td>\n",
              "      <td>61</td>\n",
              "      <td>2</td>\n",
              "    </tr>\n",
              "    <tr>\n",
              "      <th>6557</th>\n",
              "      <td>494913</td>\n",
              "      <td>Franciscan School of Theology - San Diego</td>\n",
              "      <td></td>\n",
              "      <td>5998 Alcala Park</td>\n",
              "      <td>San Diego</td>\n",
              "      <td>CA</td>\n",
              "      <td>92110-2492</td>\n",
              "      <td>6</td>\n",
              "      <td>8</td>\n",
              "      <td></td>\n",
              "      <td></td>\n",
              "      <td></td>\n",
              "      <td>-1</td>\n",
              "      <td></td>\n",
              "      <td>1179203</td>\n",
              "      <td>1</td>\n",
              "      <td></td>\n",
              "      <td></td>\n",
              "      <td></td>\n",
              "      <td></td>\n",
              "      <td></td>\n",
              "      <td></td>\n",
              "      <td></td>\n",
              "      <td></td>\n",
              "      <td>99</td>\n",
              "      <td>-3</td>\n",
              "      <td>-3</td>\n",
              "      <td>-3</td>\n",
              "      <td>-3</td>\n",
              "      <td>-3</td>\n",
              "      <td>-3</td>\n",
              "      <td>-3</td>\n",
              "      <td>2</td>\n",
              "      <td>-2</td>\n",
              "      <td>-2</td>\n",
              "      <td>2</td>\n",
              "      <td>11</td>\n",
              "      <td>1</td>\n",
              "      <td>G</td>\n",
              "      <td>114734</td>\n",
              "      <td>-2</td>\n",
              "      <td>-2</td>\n",
              "      <td>3</td>\n",
              "      <td>1</td>\n",
              "      <td>3</td>\n",
              "      <td>9</td>\n",
              "      <td>-2</td>\n",
              "      <td>-2</td>\n",
              "      <td>-2</td>\n",
              "      <td>-2</td>\n",
              "      <td>-2</td>\n",
              "      <td>-2</td>\n",
              "      <td>-2</td>\n",
              "      <td>-2</td>\n",
              "      <td>-2</td>\n",
              "      <td>-2</td>\n",
              "      <td>-2</td>\n",
              "      <td>2</td>\n",
              "      <td>-2</td>\n",
              "      <td>-2</td>\n",
              "      <td>-2                                            ...</td>\n",
              "      <td>-2</td>\n",
              "      <td>41740</td>\n",
              "      <td>1</td>\n",
              "      <td>-2</td>\n",
              "      <td>-2</td>\n",
              "      <td>6073</td>\n",
              "      <td>San Diego County</td>\n",
              "      <td>652</td>\n",
              "      <td>-117.191964</td>\n",
              "      <td>32.772407</td>\n",
              "      <td>-2</td>\n",
              "      <td>-2</td>\n",
              "    </tr>\n",
              "    <tr>\n",
              "      <th>6558</th>\n",
              "      <td>494922</td>\n",
              "      <td>University of Montana (The) - Bitterroot Colle...</td>\n",
              "      <td></td>\n",
              "      <td>103 South 9th Street</td>\n",
              "      <td>Hamilton</td>\n",
              "      <td>MT</td>\n",
              "      <td>59840-3213</td>\n",
              "      <td>30</td>\n",
              "      <td>7</td>\n",
              "      <td></td>\n",
              "      <td></td>\n",
              "      <td></td>\n",
              "      <td>-1</td>\n",
              "      <td></td>\n",
              "      <td>253615</td>\n",
              "      <td>1</td>\n",
              "      <td></td>\n",
              "      <td></td>\n",
              "      <td></td>\n",
              "      <td></td>\n",
              "      <td></td>\n",
              "      <td></td>\n",
              "      <td></td>\n",
              "      <td></td>\n",
              "      <td>99</td>\n",
              "      <td>-3</td>\n",
              "      <td>-3</td>\n",
              "      <td>-3</td>\n",
              "      <td>-3</td>\n",
              "      <td>-3</td>\n",
              "      <td>-3</td>\n",
              "      <td>-3</td>\n",
              "      <td>2</td>\n",
              "      <td>-2</td>\n",
              "      <td>-2</td>\n",
              "      <td>2</td>\n",
              "      <td>33</td>\n",
              "      <td>1</td>\n",
              "      <td>G</td>\n",
              "      <td>180489</td>\n",
              "      <td>-2</td>\n",
              "      <td>-2</td>\n",
              "      <td>3</td>\n",
              "      <td>1</td>\n",
              "      <td>3</td>\n",
              "      <td>9</td>\n",
              "      <td>-2</td>\n",
              "      <td>-2</td>\n",
              "      <td>-2</td>\n",
              "      <td>-2</td>\n",
              "      <td>-2</td>\n",
              "      <td>-2</td>\n",
              "      <td>-2</td>\n",
              "      <td>-2</td>\n",
              "      <td>-2</td>\n",
              "      <td>-2</td>\n",
              "      <td>-2</td>\n",
              "      <td>2</td>\n",
              "      <td>-2</td>\n",
              "      <td>-2</td>\n",
              "      <td>-2                                            ...</td>\n",
              "      <td>-2</td>\n",
              "      <td>-2</td>\n",
              "      <td>-2</td>\n",
              "      <td>-2</td>\n",
              "      <td>-2</td>\n",
              "      <td>30081</td>\n",
              "      <td>Ravalli County</td>\n",
              "      <td>3000</td>\n",
              "      <td>-114.168368</td>\n",
              "      <td>46.246005</td>\n",
              "      <td>-2</td>\n",
              "      <td>-2</td>\n",
              "    </tr>\n",
              "  </tbody>\n",
              "</table>\n",
              "</div>"
            ],
            "text/plain": [
              "      UNITID  ... DFRCUSCG\n",
              "6554  494889  ...       -2\n",
              "6555  494898  ...        2\n",
              "6556  494904  ...        2\n",
              "6557  494913  ...       -2\n",
              "6558  494922  ...       -2\n",
              "\n",
              "[5 rows x 73 columns]"
            ]
          },
          "metadata": {
            "tags": []
          },
          "execution_count": 43
        }
      ]
    },
    {
      "cell_type": "code",
      "metadata": {
        "colab": {
          "base_uri": "https://localhost:8080/"
        },
        "id": "b4eorv40r7eS",
        "outputId": "37bc55dc-049d-4d60-ce1a-eb1d4f6c163a"
      },
      "source": [
        "df.info()"
      ],
      "execution_count": null,
      "outputs": [
        {
          "output_type": "stream",
          "text": [
            "<class 'pandas.core.frame.DataFrame'>\n",
            "RangeIndex: 6559 entries, 0 to 6558\n",
            "Data columns (total 73 columns):\n",
            " #   Column    Non-Null Count  Dtype  \n",
            "---  ------    --------------  -----  \n",
            " 0   UNITID    6559 non-null   int64  \n",
            " 1   INSTNM    6559 non-null   object \n",
            " 2   IALIAS    6558 non-null   object \n",
            " 3   ADDR      6559 non-null   object \n",
            " 4   CITY      6559 non-null   object \n",
            " 5   STABBR    6559 non-null   object \n",
            " 6   ZIP       6559 non-null   object \n",
            " 7   FIPS      6559 non-null   int64  \n",
            " 8   OBEREG    6559 non-null   int64  \n",
            " 9   CHFNM     6559 non-null   object \n",
            " 10  CHFTITLE  6559 non-null   object \n",
            " 11  GENTELE   6559 non-null   object \n",
            " 12  EIN       6559 non-null   int64  \n",
            " 13  DUNS      6559 non-null   object \n",
            " 14  OPEID     6559 non-null   int64  \n",
            " 15  OPEFLAG   6559 non-null   int64  \n",
            " 16  WEBADDR   6559 non-null   object \n",
            " 17  ADMINURL  6559 non-null   object \n",
            " 18  FAIDURL   6559 non-null   object \n",
            " 19  APPLURL   6559 non-null   object \n",
            " 20  NPRICURL  6559 non-null   object \n",
            " 21  VETURL    6559 non-null   object \n",
            " 22  ATHURL    6559 non-null   object \n",
            " 23  DISAURL   6559 non-null   object \n",
            " 24  SECTOR    6559 non-null   int64  \n",
            " 25  ICLEVEL   6559 non-null   int64  \n",
            " 26  CONTROL   6559 non-null   int64  \n",
            " 27  HLOFFER   6559 non-null   int64  \n",
            " 28  UGOFFER   6559 non-null   int64  \n",
            " 29  GROFFER   6559 non-null   int64  \n",
            " 30  HDEGOFR1  6559 non-null   int64  \n",
            " 31  DEGGRANT  6559 non-null   int64  \n",
            " 32  HBCU      6559 non-null   int64  \n",
            " 33  HOSPITAL  6559 non-null   int64  \n",
            " 34  MEDICAL   6559 non-null   int64  \n",
            " 35  TRIBAL    6559 non-null   int64  \n",
            " 36  LOCALE    6559 non-null   int64  \n",
            " 37  OPENPUBL  6559 non-null   int64  \n",
            " 38  ACT       6559 non-null   object \n",
            " 39  NEWID     6559 non-null   int64  \n",
            " 40  DEATHYR   6559 non-null   int64  \n",
            " 41  CLOSEDAT  6559 non-null   object \n",
            " 42  CYACTIVE  6559 non-null   int64  \n",
            " 43  POSTSEC   6559 non-null   int64  \n",
            " 44  PSEFLAG   6559 non-null   int64  \n",
            " 45  PSET4FLG  6559 non-null   int64  \n",
            " 46  RPTMTH    6559 non-null   int64  \n",
            " 47  INSTCAT   6559 non-null   int64  \n",
            " 48  C18BASIC  6559 non-null   int64  \n",
            " 49  C18IPUG   6559 non-null   int64  \n",
            " 50  C18IPGRD  6559 non-null   int64  \n",
            " 51  C18UGPRF  6559 non-null   int64  \n",
            " 52  C18ENPRF  6559 non-null   int64  \n",
            " 53  C18SZSET  6559 non-null   int64  \n",
            " 54  C15BASIC  6559 non-null   int64  \n",
            " 55  CCBASIC   6559 non-null   int64  \n",
            " 56  CARNEGIE  6559 non-null   int64  \n",
            " 57  LANDGRNT  6559 non-null   int64  \n",
            " 58  INSTSIZE  6559 non-null   int64  \n",
            " 59  F1SYSTYP  6559 non-null   int64  \n",
            " 60  F1SYSNAM  6559 non-null   object \n",
            " 61  F1SYSCOD  6559 non-null   int64  \n",
            " 62  CBSA      6559 non-null   int64  \n",
            " 63  CBSATYPE  6559 non-null   int64  \n",
            " 64  CSA       6559 non-null   int64  \n",
            " 65  NECTA     6559 non-null   int64  \n",
            " 66  COUNTYCD  6559 non-null   int64  \n",
            " 67  COUNTYNM  6559 non-null   object \n",
            " 68  CNGDSTCD  6559 non-null   int64  \n",
            " 69  LONGITUD  6559 non-null   float64\n",
            " 70  LATITUDE  6559 non-null   float64\n",
            " 71  DFRCGID   6559 non-null   int64  \n",
            " 72  DFRCUSCG  6559 non-null   int64  \n",
            "dtypes: float64(2), int64(49), object(22)\n",
            "memory usage: 3.7+ MB\n"
          ],
          "name": "stdout"
        }
      ]
    },
    {
      "cell_type": "code",
      "metadata": {
        "colab": {
          "base_uri": "https://localhost:8080/"
        },
        "id": "p1uxh2BFjBPH",
        "outputId": "801feff3-a37c-4f3d-ce5e-0545b13eaaa2"
      },
      "source": [
        "df.columns"
      ],
      "execution_count": null,
      "outputs": [
        {
          "output_type": "execute_result",
          "data": {
            "text/plain": [
              "Index(['UNITID', 'INSTNM', 'IALIAS', 'ADDR', 'CITY', 'STABBR', 'ZIP', 'FIPS',\n",
              "       'OBEREG', 'CHFNM', 'CHFTITLE', 'GENTELE', 'EIN', 'DUNS', 'OPEID',\n",
              "       'OPEFLAG', 'WEBADDR', 'ADMINURL', 'FAIDURL', 'APPLURL', 'NPRICURL',\n",
              "       'VETURL', 'ATHURL', 'DISAURL', 'SECTOR', 'ICLEVEL', 'CONTROL',\n",
              "       'HLOFFER', 'UGOFFER', 'GROFFER', 'HDEGOFR1', 'DEGGRANT', 'HBCU',\n",
              "       'HOSPITAL', 'MEDICAL', 'TRIBAL', 'LOCALE', 'OPENPUBL', 'ACT', 'NEWID',\n",
              "       'DEATHYR', 'CLOSEDAT', 'CYACTIVE', 'POSTSEC', 'PSEFLAG', 'PSET4FLG',\n",
              "       'RPTMTH', 'INSTCAT', 'C18BASIC', 'C18IPUG', 'C18IPGRD', 'C18UGPRF',\n",
              "       'C18ENPRF', 'C18SZSET', 'C15BASIC', 'CCBASIC', 'CARNEGIE', 'LANDGRNT',\n",
              "       'INSTSIZE', 'F1SYSTYP', 'F1SYSNAM', 'F1SYSCOD', 'CBSA', 'CBSATYPE',\n",
              "       'CSA', 'NECTA', 'COUNTYCD', 'COUNTYNM', 'CNGDSTCD', 'LONGITUD',\n",
              "       'LATITUDE', 'DFRCGID', 'DFRCUSCG'],\n",
              "      dtype='object')"
            ]
          },
          "metadata": {
            "tags": []
          },
          "execution_count": 45
        }
      ]
    },
    {
      "cell_type": "code",
      "metadata": {
        "id": "iX7669HHgKAl"
      },
      "source": [
        "hd = df[['UNITID', 'INSTNM', 'IALIAS', 'CITY', 'STABBR', 'ZIP', 'CHFNM', 'CHFTITLE', 'OPEID', 'SECTOR', 'HBCU']]"
      ],
      "execution_count": null,
      "outputs": []
    },
    {
      "cell_type": "code",
      "metadata": {
        "colab": {
          "base_uri": "https://localhost:8080/",
          "height": 204
        },
        "id": "Yu3KBaiOjWJ7",
        "outputId": "d5734fcd-ab34-44b4-f68d-a74273a62342"
      },
      "source": [
        "hd.head()"
      ],
      "execution_count": null,
      "outputs": [
        {
          "output_type": "execute_result",
          "data": {
            "text/html": [
              "<div>\n",
              "<style scoped>\n",
              "    .dataframe tbody tr th:only-of-type {\n",
              "        vertical-align: middle;\n",
              "    }\n",
              "\n",
              "    .dataframe tbody tr th {\n",
              "        vertical-align: top;\n",
              "    }\n",
              "\n",
              "    .dataframe thead th {\n",
              "        text-align: right;\n",
              "    }\n",
              "</style>\n",
              "<table border=\"1\" class=\"dataframe\">\n",
              "  <thead>\n",
              "    <tr style=\"text-align: right;\">\n",
              "      <th></th>\n",
              "      <th>UNITID</th>\n",
              "      <th>INSTNM</th>\n",
              "      <th>IALIAS</th>\n",
              "      <th>CITY</th>\n",
              "      <th>STABBR</th>\n",
              "      <th>ZIP</th>\n",
              "      <th>CHFNM</th>\n",
              "      <th>CHFTITLE</th>\n",
              "      <th>OPEID</th>\n",
              "      <th>SECTOR</th>\n",
              "      <th>HBCU</th>\n",
              "    </tr>\n",
              "  </thead>\n",
              "  <tbody>\n",
              "    <tr>\n",
              "      <th>0</th>\n",
              "      <td>100654</td>\n",
              "      <td>Alabama A &amp; M University</td>\n",
              "      <td>AAMU</td>\n",
              "      <td>Normal</td>\n",
              "      <td>AL</td>\n",
              "      <td>35762</td>\n",
              "      <td>Dr. Andrew Hugine, Jr.</td>\n",
              "      <td>President</td>\n",
              "      <td>100200</td>\n",
              "      <td>1</td>\n",
              "      <td>1</td>\n",
              "    </tr>\n",
              "    <tr>\n",
              "      <th>1</th>\n",
              "      <td>100663</td>\n",
              "      <td>University of Alabama at Birmingham</td>\n",
              "      <td></td>\n",
              "      <td>Birmingham</td>\n",
              "      <td>AL</td>\n",
              "      <td>35294-0110</td>\n",
              "      <td>Ray L. Watts</td>\n",
              "      <td>President</td>\n",
              "      <td>105200</td>\n",
              "      <td>1</td>\n",
              "      <td>2</td>\n",
              "    </tr>\n",
              "    <tr>\n",
              "      <th>2</th>\n",
              "      <td>100690</td>\n",
              "      <td>Amridge University</td>\n",
              "      <td>Southern Christian University  Regions University</td>\n",
              "      <td>Montgomery</td>\n",
              "      <td>AL</td>\n",
              "      <td>36117-3553</td>\n",
              "      <td>Michael C.Turner</td>\n",
              "      <td>President</td>\n",
              "      <td>2503400</td>\n",
              "      <td>2</td>\n",
              "      <td>2</td>\n",
              "    </tr>\n",
              "    <tr>\n",
              "      <th>3</th>\n",
              "      <td>100706</td>\n",
              "      <td>University of Alabama in Huntsville</td>\n",
              "      <td>UAH  University of Alabama Huntsville</td>\n",
              "      <td>Huntsville</td>\n",
              "      <td>AL</td>\n",
              "      <td>35899</td>\n",
              "      <td>Darren Dawson</td>\n",
              "      <td>President</td>\n",
              "      <td>105500</td>\n",
              "      <td>1</td>\n",
              "      <td>2</td>\n",
              "    </tr>\n",
              "    <tr>\n",
              "      <th>4</th>\n",
              "      <td>100724</td>\n",
              "      <td>Alabama State University</td>\n",
              "      <td></td>\n",
              "      <td>Montgomery</td>\n",
              "      <td>AL</td>\n",
              "      <td>36104-0271</td>\n",
              "      <td>Quinton T. Ross</td>\n",
              "      <td>President</td>\n",
              "      <td>100500</td>\n",
              "      <td>1</td>\n",
              "      <td>1</td>\n",
              "    </tr>\n",
              "  </tbody>\n",
              "</table>\n",
              "</div>"
            ],
            "text/plain": [
              "   UNITID                               INSTNM  ... SECTOR HBCU\n",
              "0  100654             Alabama A & M University  ...      1    1\n",
              "1  100663  University of Alabama at Birmingham  ...      1    2\n",
              "2  100690                   Amridge University  ...      2    2\n",
              "3  100706  University of Alabama in Huntsville  ...      1    2\n",
              "4  100724             Alabama State University  ...      1    1\n",
              "\n",
              "[5 rows x 11 columns]"
            ]
          },
          "metadata": {
            "tags": []
          },
          "execution_count": 48
        }
      ]
    },
    {
      "cell_type": "code",
      "metadata": {
        "colab": {
          "base_uri": "https://localhost:8080/"
        },
        "id": "7QQtPYvXneu6",
        "outputId": "46963ef2-1670-47eb-e04e-7266aef604f9"
      },
      "source": [
        "for c in hd.iloc[:,1:].columns:\n",
        "  print(str(c) + \"\\n\" + str(hd[c].value_counts()))"
      ],
      "execution_count": null,
      "outputs": [
        {
          "output_type": "stream",
          "text": [
            "INSTNM\n",
            "Stevens-Henager College                                             7\n",
            "Columbia College                                                    5\n",
            "Brittany Beauty Academy                                             4\n",
            "Bryan University                                                    3\n",
            "House of Heavilin Beauty College-Academy of Beauty Professionals    3\n",
            "                                                                   ..\n",
            "Fullerton College                                                   1\n",
            "Bene's Career Academy                                               1\n",
            "San Diego Mesa College                                              1\n",
            "Massasoit Community College                                         1\n",
            "Southwestern University                                             1\n",
            "Name: INSTNM, Length: 6440, dtype: int64\n",
            "IALIAS\n",
            "                                                          4360\n",
            "Penn State                                                  24\n",
            "Ogle School                                                  8\n",
            "Northwest College - School of Beauty                         6\n",
            "SCC                                                          4\n",
            "                                                          ... \n",
            "Louisville Seminary | Louisville Presbyterian Seminary       1\n",
            "FSCJ                                                         1\n",
            "WALLACE DOTHAN|WCCD                                          1\n",
            "Folsom Lake | FLC                                            1\n",
            "SUNY Cortland                                                1\n",
            "Name: IALIAS, Length: 2066, dtype: int64\n",
            "CITY\n",
            "New York            83\n",
            "Chicago             67\n",
            "Houston             64\n",
            "Los Angeles         52\n",
            "Brooklyn            51\n",
            "                    ..\n",
            "Gardendale           1\n",
            "Bellaire             1\n",
            "San Rafael           1\n",
            "Englewood Cliffs     1\n",
            "Grayling             1\n",
            "Name: CITY, Length: 2384, dtype: int64\n",
            "STABBR\n",
            "CA    699\n",
            "NY    448\n",
            "TX    421\n",
            "FL    347\n",
            "PA    344\n",
            "OH    297\n",
            "IL    257\n",
            "NC    173\n",
            "MI    171\n",
            "NJ    164\n",
            "MO    162\n",
            "MA    161\n",
            "TN    157\n",
            "VA    150\n",
            "GA    149\n",
            "PR    145\n",
            "LA    120\n",
            "AZ    117\n",
            "IN    111\n",
            "OK    108\n",
            "CO    106\n",
            "MN    104\n",
            "WA    101\n",
            "WI    100\n",
            "SC     97\n",
            "KY     91\n",
            "AR     88\n",
            "IA     85\n",
            "MD     85\n",
            "AL     83\n",
            "OR     80\n",
            "KS     78\n",
            "CT     75\n",
            "WV     74\n",
            "UT     69\n",
            "MS     58\n",
            "NM     48\n",
            "NE     47\n",
            "NV     41\n",
            "ME     39\n",
            "NH     39\n",
            "ID     38\n",
            "MT     32\n",
            "SD     30\n",
            "ND     28\n",
            "VT     25\n",
            "DC     23\n",
            "RI     23\n",
            "HI     23\n",
            "DE     19\n",
            "AK     10\n",
            "WY     10\n",
            "GU      3\n",
            "MH      1\n",
            "FM      1\n",
            "AS      1\n",
            "PW      1\n",
            "MP      1\n",
            "VI      1\n",
            "Name: STABBR, dtype: int64\n",
            "ZIP\n",
            "00961         9\n",
            "33144         6\n",
            "11219         5\n",
            "23462         5\n",
            "60605         5\n",
            "             ..\n",
            "81001-4901    1\n",
            "30047-3717    1\n",
            "08232         1\n",
            "55455-0213    1\n",
            "78757-7068    1\n",
            "Name: ZIP, Length: 5805, dtype: int64\n",
            "CHFNM\n",
            "                                         109\n",
            "Franklin K. Schoeneman                    82\n",
            "George Grayeb                             40\n",
            "Fardad Fateri                             25\n",
            "Dr. Ronald Shape                          21\n",
            "                                        ... \n",
            "Sister Maureen McGarrity, CSFN, Ph.D.      1\n",
            "James Bilney, Jr                           1\n",
            "Lionel R. Bordeaux                         1\n",
            "Ryan McCall                                1\n",
            "Brian Quirk                                1\n",
            "Name: CHFNM, Length: 5731, dtype: int64\n",
            "CHFTITLE\n",
            "President                  3268\n",
            "Chancellor                  244\n",
            "Director                    237\n",
            "CEO                         195\n",
            "Chief Executive Officer     169\n",
            "                           ... \n",
            "Owner/President/CEO           1\n",
            "Interim Rector                1\n",
            "Institutional Director        1\n",
            "Owner / CEO                   1\n",
            "Owner/CFO                     1\n",
            "Name: CHFTITLE, Length: 614, dtype: int64\n",
            "OPEID\n",
            "-2          29\n",
            " 202500      3\n",
            " 501500      2\n",
            " 267802      2\n",
            " 4118600     2\n",
            "            ..\n",
            " 269200      1\n",
            " 461700      1\n",
            " 158600      1\n",
            " 4229100     1\n",
            " 4016500     1\n",
            "Name: OPEID, Length: 6489, dtype: int64\n",
            "SECTOR\n",
            "2     1685\n",
            "9     1552\n",
            "4      948\n",
            "1      807\n",
            "6      620\n",
            "3      390\n",
            "7      235\n",
            "5      153\n",
            "0       73\n",
            "8       64\n",
            "99      32\n",
            "Name: SECTOR, dtype: int64\n",
            "HBCU\n",
            "2    6457\n",
            "1     102\n",
            "Name: HBCU, dtype: int64\n"
          ],
          "name": "stdout"
        }
      ]
    },
    {
      "cell_type": "code",
      "metadata": {
        "colab": {
          "base_uri": "https://localhost:8080/",
          "height": 513
        },
        "id": "NqhQ1x2Fr--S",
        "outputId": "060e758b-bd6c-433c-d980-899be5da98b1"
      },
      "source": [
        "figsize = (12, 8)\n",
        "\n",
        "plt.figure(figsize = figsize)\n",
        "sns.countplot(x = 'SECTOR', data = hd)\n",
        "plt.xlabel(\"Sector of Institution\")\n",
        "plt.ylabel(\"Number of Institutions\")\n",
        "plt.title(\"Count of Institutions by Sector\")\n",
        "plt.show()"
      ],
      "execution_count": null,
      "outputs": [
        {
          "output_type": "display_data",
          "data": {
            "image/png": "[encoded data removed]",
            "text/plain": [
              "<Figure size 864x576 with 1 Axes>"
            ]
          },
          "metadata": {
            "tags": [],
            "needs_background": "light"
          }
        }
      ]
    },
    {
      "cell_type": "markdown",
      "metadata": {
        "id": "7vvhiKfdhSky"
      },
      "source": [
        "### Checking for NAs"
      ]
    },
    {
      "cell_type": "code",
      "metadata": {
        "id": "CU1p1Xirh7Or"
      },
      "source": [
        "en = pd.read_excel('//content//drive//MyDrive//Python for Excel//IPEDS Table - EF2019D.xlsx')"
      ],
      "execution_count": null,
      "outputs": []
    },
    {
      "cell_type": "code",
      "metadata": {
        "colab": {
          "base_uri": "https://localhost:8080/",
          "height": 204
        },
        "id": "hse3L8I-iPPN",
        "outputId": "42027774-dafd-4167-aac5-3b90678d2712"
      },
      "source": [
        "en.head()"
      ],
      "execution_count": null,
      "outputs": [
        {
          "output_type": "execute_result",
          "data": {
            "text/html": [
              "<div>\n",
              "<style scoped>\n",
              "    .dataframe tbody tr th:only-of-type {\n",
              "        vertical-align: middle;\n",
              "    }\n",
              "\n",
              "    .dataframe tbody tr th {\n",
              "        vertical-align: top;\n",
              "    }\n",
              "\n",
              "    .dataframe thead th {\n",
              "        text-align: right;\n",
              "    }\n",
              "</style>\n",
              "<table border=\"1\" class=\"dataframe\">\n",
              "  <thead>\n",
              "    <tr style=\"text-align: right;\">\n",
              "      <th></th>\n",
              "      <th>UNITID</th>\n",
              "      <th>GRCOHRT</th>\n",
              "      <th>UGENTERN</th>\n",
              "      <th>PGRCOHRT</th>\n",
              "      <th>RRFTCT</th>\n",
              "      <th>RRFTEX</th>\n",
              "      <th>RRFTIN</th>\n",
              "      <th>RRFTCTA</th>\n",
              "      <th>RET_NMF</th>\n",
              "      <th>RET_PCF</th>\n",
              "      <th>RRPTCT</th>\n",
              "      <th>RRPTEX</th>\n",
              "      <th>RRPTIN</th>\n",
              "      <th>RRPTCTA</th>\n",
              "      <th>RET_NMP</th>\n",
              "      <th>RET_PCP</th>\n",
              "      <th>STUFACR</th>\n",
              "    </tr>\n",
              "  </thead>\n",
              "  <tbody>\n",
              "    <tr>\n",
              "      <th>0</th>\n",
              "      <td>100654</td>\n",
              "      <td>1688.0</td>\n",
              "      <td>1809.0</td>\n",
              "      <td>93.0</td>\n",
              "      <td>1401.0</td>\n",
              "      <td>0.0</td>\n",
              "      <td>0.0</td>\n",
              "      <td>1401.0</td>\n",
              "      <td>797.0</td>\n",
              "      <td>57.0</td>\n",
              "      <td>3.0</td>\n",
              "      <td>0.0</td>\n",
              "      <td>0.0</td>\n",
              "      <td>3.0</td>\n",
              "      <td>2.0</td>\n",
              "      <td>67.0</td>\n",
              "      <td>20.0</td>\n",
              "    </tr>\n",
              "    <tr>\n",
              "      <th>1</th>\n",
              "      <td>100663</td>\n",
              "      <td>2304.0</td>\n",
              "      <td>3836.0</td>\n",
              "      <td>60.0</td>\n",
              "      <td>2245.0</td>\n",
              "      <td>3.0</td>\n",
              "      <td>0.0</td>\n",
              "      <td>2242.0</td>\n",
              "      <td>1863.0</td>\n",
              "      <td>83.0</td>\n",
              "      <td>54.0</td>\n",
              "      <td>0.0</td>\n",
              "      <td>0.0</td>\n",
              "      <td>54.0</td>\n",
              "      <td>32.0</td>\n",
              "      <td>59.0</td>\n",
              "      <td>19.0</td>\n",
              "    </tr>\n",
              "    <tr>\n",
              "      <th>2</th>\n",
              "      <td>100690</td>\n",
              "      <td>3.0</td>\n",
              "      <td>308.0</td>\n",
              "      <td>1.0</td>\n",
              "      <td>0.0</td>\n",
              "      <td>0.0</td>\n",
              "      <td>0.0</td>\n",
              "      <td>0.0</td>\n",
              "      <td>0.0</td>\n",
              "      <td>NaN</td>\n",
              "      <td>0.0</td>\n",
              "      <td>0.0</td>\n",
              "      <td>0.0</td>\n",
              "      <td>0.0</td>\n",
              "      <td>0.0</td>\n",
              "      <td>NaN</td>\n",
              "      <td>13.0</td>\n",
              "    </tr>\n",
              "    <tr>\n",
              "      <th>3</th>\n",
              "      <td>100706</td>\n",
              "      <td>1489.0</td>\n",
              "      <td>2376.0</td>\n",
              "      <td>63.0</td>\n",
              "      <td>1428.0</td>\n",
              "      <td>0.0</td>\n",
              "      <td>0.0</td>\n",
              "      <td>1428.0</td>\n",
              "      <td>1184.0</td>\n",
              "      <td>83.0</td>\n",
              "      <td>7.0</td>\n",
              "      <td>0.0</td>\n",
              "      <td>0.0</td>\n",
              "      <td>7.0</td>\n",
              "      <td>1.0</td>\n",
              "      <td>14.0</td>\n",
              "      <td>19.0</td>\n",
              "    </tr>\n",
              "    <tr>\n",
              "      <th>4</th>\n",
              "      <td>100724</td>\n",
              "      <td>1000.0</td>\n",
              "      <td>1175.0</td>\n",
              "      <td>85.0</td>\n",
              "      <td>1025.0</td>\n",
              "      <td>0.0</td>\n",
              "      <td>0.0</td>\n",
              "      <td>1025.0</td>\n",
              "      <td>628.0</td>\n",
              "      <td>61.0</td>\n",
              "      <td>13.0</td>\n",
              "      <td>0.0</td>\n",
              "      <td>0.0</td>\n",
              "      <td>13.0</td>\n",
              "      <td>7.0</td>\n",
              "      <td>54.0</td>\n",
              "      <td>15.0</td>\n",
              "    </tr>\n",
              "  </tbody>\n",
              "</table>\n",
              "</div>"
            ],
            "text/plain": [
              "   UNITID  GRCOHRT  UGENTERN  PGRCOHRT  ...  RRPTCTA  RET_NMP  RET_PCP  STUFACR\n",
              "0  100654   1688.0    1809.0      93.0  ...      3.0      2.0     67.0     20.0\n",
              "1  100663   2304.0    3836.0      60.0  ...     54.0     32.0     59.0     19.0\n",
              "2  100690      3.0     308.0       1.0  ...      0.0      0.0      NaN     13.0\n",
              "3  100706   1489.0    2376.0      63.0  ...      7.0      1.0     14.0     19.0\n",
              "4  100724   1000.0    1175.0      85.0  ...     13.0      7.0     54.0     15.0\n",
              "\n",
              "[5 rows x 17 columns]"
            ]
          },
          "metadata": {
            "tags": []
          },
          "execution_count": 77
        }
      ]
    },
    {
      "cell_type": "code",
      "metadata": {
        "colab": {
          "base_uri": "https://localhost:8080/",
          "height": 204
        },
        "id": "pYx0Bi6TiswK",
        "outputId": "1fcb9c30-d4c7-4a18-a291-3c6f2cee70c2"
      },
      "source": [
        "en.tail()"
      ],
      "execution_count": null,
      "outputs": [
        {
          "output_type": "execute_result",
          "data": {
            "text/html": [
              "<div>\n",
              "<style scoped>\n",
              "    .dataframe tbody tr th:only-of-type {\n",
              "        vertical-align: middle;\n",
              "    }\n",
              "\n",
              "    .dataframe tbody tr th {\n",
              "        vertical-align: top;\n",
              "    }\n",
              "\n",
              "    .dataframe thead th {\n",
              "        text-align: right;\n",
              "    }\n",
              "</style>\n",
              "<table border=\"1\" class=\"dataframe\">\n",
              "  <thead>\n",
              "    <tr style=\"text-align: right;\">\n",
              "      <th></th>\n",
              "      <th>UNITID</th>\n",
              "      <th>GRCOHRT</th>\n",
              "      <th>UGENTERN</th>\n",
              "      <th>PGRCOHRT</th>\n",
              "      <th>RRFTCT</th>\n",
              "      <th>RRFTEX</th>\n",
              "      <th>RRFTIN</th>\n",
              "      <th>RRFTCTA</th>\n",
              "      <th>RET_NMF</th>\n",
              "      <th>RET_PCF</th>\n",
              "      <th>RRPTCT</th>\n",
              "      <th>RRPTEX</th>\n",
              "      <th>RRPTIN</th>\n",
              "      <th>RRPTCTA</th>\n",
              "      <th>RET_NMP</th>\n",
              "      <th>RET_PCP</th>\n",
              "      <th>STUFACR</th>\n",
              "    </tr>\n",
              "  </thead>\n",
              "  <tbody>\n",
              "    <tr>\n",
              "      <th>5880</th>\n",
              "      <td>494834</td>\n",
              "      <td>NaN</td>\n",
              "      <td>NaN</td>\n",
              "      <td>NaN</td>\n",
              "      <td>48.0</td>\n",
              "      <td>0.0</td>\n",
              "      <td>0.0</td>\n",
              "      <td>48.0</td>\n",
              "      <td>41.0</td>\n",
              "      <td>85.0</td>\n",
              "      <td>NaN</td>\n",
              "      <td>NaN</td>\n",
              "      <td>NaN</td>\n",
              "      <td>NaN</td>\n",
              "      <td>NaN</td>\n",
              "      <td>NaN</td>\n",
              "      <td>22.0</td>\n",
              "    </tr>\n",
              "    <tr>\n",
              "      <th>5881</th>\n",
              "      <td>494843</td>\n",
              "      <td>NaN</td>\n",
              "      <td>NaN</td>\n",
              "      <td>NaN</td>\n",
              "      <td>141.0</td>\n",
              "      <td>0.0</td>\n",
              "      <td>0.0</td>\n",
              "      <td>141.0</td>\n",
              "      <td>103.0</td>\n",
              "      <td>73.0</td>\n",
              "      <td>NaN</td>\n",
              "      <td>NaN</td>\n",
              "      <td>NaN</td>\n",
              "      <td>NaN</td>\n",
              "      <td>NaN</td>\n",
              "      <td>NaN</td>\n",
              "      <td>17.0</td>\n",
              "    </tr>\n",
              "    <tr>\n",
              "      <th>5882</th>\n",
              "      <td>494852</td>\n",
              "      <td>120.0</td>\n",
              "      <td>139.0</td>\n",
              "      <td>86.0</td>\n",
              "      <td>115.0</td>\n",
              "      <td>1.0</td>\n",
              "      <td>0.0</td>\n",
              "      <td>114.0</td>\n",
              "      <td>84.0</td>\n",
              "      <td>74.0</td>\n",
              "      <td>NaN</td>\n",
              "      <td>NaN</td>\n",
              "      <td>NaN</td>\n",
              "      <td>NaN</td>\n",
              "      <td>NaN</td>\n",
              "      <td>NaN</td>\n",
              "      <td>15.0</td>\n",
              "    </tr>\n",
              "    <tr>\n",
              "      <th>5883</th>\n",
              "      <td>494898</td>\n",
              "      <td>NaN</td>\n",
              "      <td>NaN</td>\n",
              "      <td>NaN</td>\n",
              "      <td>0.0</td>\n",
              "      <td>0.0</td>\n",
              "      <td>0.0</td>\n",
              "      <td>0.0</td>\n",
              "      <td>0.0</td>\n",
              "      <td>NaN</td>\n",
              "      <td>NaN</td>\n",
              "      <td>NaN</td>\n",
              "      <td>NaN</td>\n",
              "      <td>NaN</td>\n",
              "      <td>NaN</td>\n",
              "      <td>NaN</td>\n",
              "      <td>8.0</td>\n",
              "    </tr>\n",
              "    <tr>\n",
              "      <th>5884</th>\n",
              "      <td>494904</td>\n",
              "      <td>NaN</td>\n",
              "      <td>NaN</td>\n",
              "      <td>NaN</td>\n",
              "      <td>20.0</td>\n",
              "      <td>0.0</td>\n",
              "      <td>0.0</td>\n",
              "      <td>20.0</td>\n",
              "      <td>17.0</td>\n",
              "      <td>85.0</td>\n",
              "      <td>27.0</td>\n",
              "      <td>0.0</td>\n",
              "      <td>0.0</td>\n",
              "      <td>27.0</td>\n",
              "      <td>25.0</td>\n",
              "      <td>93.0</td>\n",
              "      <td>13.0</td>\n",
              "    </tr>\n",
              "  </tbody>\n",
              "</table>\n",
              "</div>"
            ],
            "text/plain": [
              "      UNITID  GRCOHRT  UGENTERN  PGRCOHRT  ...  RRPTCTA  RET_NMP  RET_PCP  STUFACR\n",
              "5880  494834      NaN       NaN       NaN  ...      NaN      NaN      NaN     22.0\n",
              "5881  494843      NaN       NaN       NaN  ...      NaN      NaN      NaN     17.0\n",
              "5882  494852    120.0     139.0      86.0  ...      NaN      NaN      NaN     15.0\n",
              "5883  494898      NaN       NaN       NaN  ...      NaN      NaN      NaN      8.0\n",
              "5884  494904      NaN       NaN       NaN  ...     27.0     25.0     93.0     13.0\n",
              "\n",
              "[5 rows x 17 columns]"
            ]
          },
          "metadata": {
            "tags": []
          },
          "execution_count": 78
        }
      ]
    },
    {
      "cell_type": "code",
      "metadata": {
        "colab": {
          "base_uri": "https://localhost:8080/"
        },
        "id": "kLKDzZY9i17I",
        "outputId": "31263730-1a29-4ace-d61f-c31d301fa9ef"
      },
      "source": [
        "en.columns"
      ],
      "execution_count": null,
      "outputs": [
        {
          "output_type": "execute_result",
          "data": {
            "text/plain": [
              "Index(['UNITID', 'GRCOHRT', 'UGENTERN', 'PGRCOHRT', 'RRFTCT', 'RRFTEX',\n",
              "       'RRFTIN', 'RRFTCTA', 'RET_NMF', 'RET_PCF', 'RRPTCT', 'RRPTEX', 'RRPTIN',\n",
              "       'RRPTCTA', 'RET_NMP', 'RET_PCP', 'STUFACR'],\n",
              "      dtype='object')"
            ]
          },
          "metadata": {
            "tags": []
          },
          "execution_count": 79
        }
      ]
    },
    {
      "cell_type": "code",
      "metadata": {
        "colab": {
          "base_uri": "https://localhost:8080/",
          "height": 317
        },
        "id": "Vf2U-64Lm3S2",
        "outputId": "41d6a00e-7b83-4622-f7e5-aab5fb007fe6"
      },
      "source": [
        "en.iloc[:, 1:].describe()"
      ],
      "execution_count": null,
      "outputs": [
        {
          "output_type": "execute_result",
          "data": {
            "text/html": [
              "<div>\n",
              "<style scoped>\n",
              "    .dataframe tbody tr th:only-of-type {\n",
              "        vertical-align: middle;\n",
              "    }\n",
              "\n",
              "    .dataframe tbody tr th {\n",
              "        vertical-align: top;\n",
              "    }\n",
              "\n",
              "    .dataframe thead th {\n",
              "        text-align: right;\n",
              "    }\n",
              "</style>\n",
              "<table border=\"1\" class=\"dataframe\">\n",
              "  <thead>\n",
              "    <tr style=\"text-align: right;\">\n",
              "      <th></th>\n",
              "      <th>GRCOHRT</th>\n",
              "      <th>UGENTERN</th>\n",
              "      <th>PGRCOHRT</th>\n",
              "      <th>RRFTCT</th>\n",
              "      <th>RRFTEX</th>\n",
              "      <th>RRFTIN</th>\n",
              "      <th>RRFTCTA</th>\n",
              "      <th>RET_NMF</th>\n",
              "      <th>RET_PCF</th>\n",
              "      <th>RRPTCT</th>\n",
              "      <th>RRPTEX</th>\n",
              "      <th>RRPTIN</th>\n",
              "      <th>RRPTCTA</th>\n",
              "      <th>RET_NMP</th>\n",
              "      <th>RET_PCP</th>\n",
              "      <th>STUFACR</th>\n",
              "    </tr>\n",
              "  </thead>\n",
              "  <tbody>\n",
              "    <tr>\n",
              "      <th>count</th>\n",
              "      <td>3185.000000</td>\n",
              "      <td>3185.000000</td>\n",
              "      <td>3185.000000</td>\n",
              "      <td>5523.000000</td>\n",
              "      <td>5523.000000</td>\n",
              "      <td>5523.000000</td>\n",
              "      <td>5523.000000</td>\n",
              "      <td>5523.000000</td>\n",
              "      <td>5190.000000</td>\n",
              "      <td>3738.000000</td>\n",
              "      <td>3738.000000</td>\n",
              "      <td>3738.000000</td>\n",
              "      <td>3738.000000</td>\n",
              "      <td>3738.00000</td>\n",
              "      <td>2981.000000</td>\n",
              "      <td>5884.000000</td>\n",
              "    </tr>\n",
              "    <tr>\n",
              "      <th>mean</th>\n",
              "      <td>739.510518</td>\n",
              "      <td>1561.923705</td>\n",
              "      <td>52.636421</td>\n",
              "      <td>418.709035</td>\n",
              "      <td>1.511497</td>\n",
              "      <td>0.040014</td>\n",
              "      <td>417.237552</td>\n",
              "      <td>317.303820</td>\n",
              "      <td>71.404432</td>\n",
              "      <td>109.356875</td>\n",
              "      <td>0.436330</td>\n",
              "      <td>0.003745</td>\n",
              "      <td>108.924291</td>\n",
              "      <td>50.64901</td>\n",
              "      <td>51.685005</td>\n",
              "      <td>15.092964</td>\n",
              "    </tr>\n",
              "    <tr>\n",
              "      <th>std</th>\n",
              "      <td>1148.433323</td>\n",
              "      <td>2214.522465</td>\n",
              "      <td>25.951642</td>\n",
              "      <td>904.954043</td>\n",
              "      <td>36.757795</td>\n",
              "      <td>1.678860</td>\n",
              "      <td>900.929456</td>\n",
              "      <td>762.061727</td>\n",
              "      <td>17.624835</td>\n",
              "      <td>330.430936</td>\n",
              "      <td>5.019772</td>\n",
              "      <td>0.100770</td>\n",
              "      <td>329.970245</td>\n",
              "      <td>153.48956</td>\n",
              "      <td>27.471249</td>\n",
              "      <td>7.438502</td>\n",
              "    </tr>\n",
              "    <tr>\n",
              "      <th>min</th>\n",
              "      <td>0.000000</td>\n",
              "      <td>0.000000</td>\n",
              "      <td>0.000000</td>\n",
              "      <td>0.000000</td>\n",
              "      <td>0.000000</td>\n",
              "      <td>0.000000</td>\n",
              "      <td>0.000000</td>\n",
              "      <td>0.000000</td>\n",
              "      <td>0.000000</td>\n",
              "      <td>0.000000</td>\n",
              "      <td>0.000000</td>\n",
              "      <td>0.000000</td>\n",
              "      <td>0.000000</td>\n",
              "      <td>0.00000</td>\n",
              "      <td>0.000000</td>\n",
              "      <td>1.000000</td>\n",
              "    </tr>\n",
              "    <tr>\n",
              "      <th>25%</th>\n",
              "      <td>128.000000</td>\n",
              "      <td>279.000000</td>\n",
              "      <td>31.000000</td>\n",
              "      <td>16.500000</td>\n",
              "      <td>0.000000</td>\n",
              "      <td>0.000000</td>\n",
              "      <td>16.000000</td>\n",
              "      <td>12.000000</td>\n",
              "      <td>61.000000</td>\n",
              "      <td>1.000000</td>\n",
              "      <td>0.000000</td>\n",
              "      <td>0.000000</td>\n",
              "      <td>1.000000</td>\n",
              "      <td>0.00000</td>\n",
              "      <td>35.000000</td>\n",
              "      <td>10.000000</td>\n",
              "    </tr>\n",
              "    <tr>\n",
              "      <th>50%</th>\n",
              "      <td>356.000000</td>\n",
              "      <td>719.000000</td>\n",
              "      <td>54.000000</td>\n",
              "      <td>86.000000</td>\n",
              "      <td>0.000000</td>\n",
              "      <td>0.000000</td>\n",
              "      <td>86.000000</td>\n",
              "      <td>59.000000</td>\n",
              "      <td>73.000000</td>\n",
              "      <td>9.000000</td>\n",
              "      <td>0.000000</td>\n",
              "      <td>0.000000</td>\n",
              "      <td>9.000000</td>\n",
              "      <td>5.00000</td>\n",
              "      <td>50.000000</td>\n",
              "      <td>14.000000</td>\n",
              "    </tr>\n",
              "    <tr>\n",
              "      <th>75%</th>\n",
              "      <td>815.000000</td>\n",
              "      <td>1894.000000</td>\n",
              "      <td>74.000000</td>\n",
              "      <td>406.500000</td>\n",
              "      <td>0.000000</td>\n",
              "      <td>0.000000</td>\n",
              "      <td>406.000000</td>\n",
              "      <td>280.000000</td>\n",
              "      <td>83.000000</td>\n",
              "      <td>58.000000</td>\n",
              "      <td>0.000000</td>\n",
              "      <td>0.000000</td>\n",
              "      <td>58.000000</td>\n",
              "      <td>29.00000</td>\n",
              "      <td>70.000000</td>\n",
              "      <td>19.000000</td>\n",
              "    </tr>\n",
              "    <tr>\n",
              "      <th>max</th>\n",
              "      <td>15744.000000</td>\n",
              "      <td>26198.000000</td>\n",
              "      <td>100.000000</td>\n",
              "      <td>15233.000000</td>\n",
              "      <td>2328.000000</td>\n",
              "      <td>113.000000</td>\n",
              "      <td>15231.000000</td>\n",
              "      <td>13365.000000</td>\n",
              "      <td>100.000000</td>\n",
              "      <td>6325.000000</td>\n",
              "      <td>165.000000</td>\n",
              "      <td>4.000000</td>\n",
              "      <td>6325.000000</td>\n",
              "      <td>2822.00000</td>\n",
              "      <td>100.000000</td>\n",
              "      <td>122.000000</td>\n",
              "    </tr>\n",
              "  </tbody>\n",
              "</table>\n",
              "</div>"
            ],
            "text/plain": [
              "            GRCOHRT      UGENTERN  ...      RET_PCP      STUFACR\n",
              "count   3185.000000   3185.000000  ...  2981.000000  5884.000000\n",
              "mean     739.510518   1561.923705  ...    51.685005    15.092964\n",
              "std     1148.433323   2214.522465  ...    27.471249     7.438502\n",
              "min        0.000000      0.000000  ...     0.000000     1.000000\n",
              "25%      128.000000    279.000000  ...    35.000000    10.000000\n",
              "50%      356.000000    719.000000  ...    50.000000    14.000000\n",
              "75%      815.000000   1894.000000  ...    70.000000    19.000000\n",
              "max    15744.000000  26198.000000  ...   100.000000   122.000000\n",
              "\n",
              "[8 rows x 16 columns]"
            ]
          },
          "metadata": {
            "tags": []
          },
          "execution_count": 103
        }
      ]
    },
    {
      "cell_type": "code",
      "metadata": {
        "colab": {
          "base_uri": "https://localhost:8080/"
        },
        "id": "GxhM8qg_oRql",
        "outputId": "4003d187-ba17-4274-f45f-3fc2bf3bd8ec"
      },
      "source": [
        "for n in en:\n",
        "  print(\"The percent of missing values in {0} is {1}\".format(n, en[[n]].isna().mean()))"
      ],
      "execution_count": null,
      "outputs": [
        {
          "output_type": "stream",
          "text": [
            "The percent of missing values in UNITID is UNITID    0.0\n",
            "dtype: float64\n",
            "The percent of missing values in GRCOHRT is GRCOHRT    0.458794\n",
            "dtype: float64\n",
            "The percent of missing values in UGENTERN is UGENTERN    0.458794\n",
            "dtype: float64\n",
            "The percent of missing values in PGRCOHRT is PGRCOHRT    0.458794\n",
            "dtype: float64\n",
            "The percent of missing values in RRFTCT is RRFTCT    0.061512\n",
            "dtype: float64\n",
            "The percent of missing values in RRFTEX is RRFTEX    0.061512\n",
            "dtype: float64\n",
            "The percent of missing values in RRFTIN is RRFTIN    0.061512\n",
            "dtype: float64\n",
            "The percent of missing values in RRFTCTA is RRFTCTA    0.061512\n",
            "dtype: float64\n",
            "The percent of missing values in RET_NMF is RET_NMF    0.061512\n",
            "dtype: float64\n",
            "The percent of missing values in RET_PCF is RET_PCF    0.118097\n",
            "dtype: float64\n",
            "The percent of missing values in RRPTCT is RRPTCT    0.364826\n",
            "dtype: float64\n",
            "The percent of missing values in RRPTEX is RRPTEX    0.364826\n",
            "dtype: float64\n",
            "The percent of missing values in RRPTIN is RRPTIN    0.364826\n",
            "dtype: float64\n",
            "The percent of missing values in RRPTCTA is RRPTCTA    0.364826\n",
            "dtype: float64\n",
            "The percent of missing values in RET_NMP is RET_NMP    0.364826\n",
            "dtype: float64\n",
            "The percent of missing values in RET_PCP is RET_PCP    0.493458\n",
            "dtype: float64\n",
            "The percent of missing values in STUFACR is STUFACR    0.00017\n",
            "dtype: float64\n"
          ],
          "name": "stdout"
        }
      ]
    },
    {
      "cell_type": "markdown",
      "metadata": {
        "id": "BLBu1NnXhoRR"
      },
      "source": [
        "### Filtering"
      ]
    },
    {
      "cell_type": "code",
      "metadata": {
        "id": "KdgrURinOq0l"
      },
      "source": [
        "code = pd.read_excel('//content//drive//MyDrive//Python for Excel//IPEDS201920Tablesdoc.xlsx', sheet_name= 'valueSets19')"
      ],
      "execution_count": null,
      "outputs": []
    },
    {
      "cell_type": "code",
      "metadata": {
        "colab": {
          "base_uri": "https://localhost:8080/",
          "height": 204
        },
        "id": "0CoUoHTXPPh4",
        "outputId": "676160a5-9f82-4b1b-d186-244f2544079b"
      },
      "source": [
        "code.head()"
      ],
      "execution_count": null,
      "outputs": [
        {
          "output_type": "execute_result",
          "data": {
            "text/html": [
              "<div>\n",
              "<style scoped>\n",
              "    .dataframe tbody tr th:only-of-type {\n",
              "        vertical-align: middle;\n",
              "    }\n",
              "\n",
              "    .dataframe tbody tr th {\n",
              "        vertical-align: top;\n",
              "    }\n",
              "\n",
              "    .dataframe thead th {\n",
              "        text-align: right;\n",
              "    }\n",
              "</style>\n",
              "<table border=\"1\" class=\"dataframe\">\n",
              "  <thead>\n",
              "    <tr style=\"text-align: right;\">\n",
              "      <th></th>\n",
              "      <th>SurveyOrder</th>\n",
              "      <th>Tablenumber</th>\n",
              "      <th>TableName</th>\n",
              "      <th>varNumber</th>\n",
              "      <th>varOrder</th>\n",
              "      <th>varName</th>\n",
              "      <th>Codevalue</th>\n",
              "      <th>Frequency</th>\n",
              "      <th>Percent</th>\n",
              "      <th>valueOrder</th>\n",
              "      <th>valueLabel</th>\n",
              "      <th>varTitle</th>\n",
              "    </tr>\n",
              "  </thead>\n",
              "  <tbody>\n",
              "    <tr>\n",
              "      <th>0</th>\n",
              "      <td>10</td>\n",
              "      <td>10</td>\n",
              "      <td>HD2019</td>\n",
              "      <td>10016</td>\n",
              "      <td>7</td>\n",
              "      <td>STABBR</td>\n",
              "      <td>AL</td>\n",
              "      <td>83.0</td>\n",
              "      <td>1.27</td>\n",
              "      <td>1</td>\n",
              "      <td>Alabama</td>\n",
              "      <td>State abbreviation</td>\n",
              "    </tr>\n",
              "    <tr>\n",
              "      <th>1</th>\n",
              "      <td>10</td>\n",
              "      <td>10</td>\n",
              "      <td>HD2019</td>\n",
              "      <td>10016</td>\n",
              "      <td>7</td>\n",
              "      <td>STABBR</td>\n",
              "      <td>AK</td>\n",
              "      <td>10.0</td>\n",
              "      <td>0.15</td>\n",
              "      <td>2</td>\n",
              "      <td>Alaska</td>\n",
              "      <td>State abbreviation</td>\n",
              "    </tr>\n",
              "    <tr>\n",
              "      <th>2</th>\n",
              "      <td>10</td>\n",
              "      <td>10</td>\n",
              "      <td>HD2019</td>\n",
              "      <td>10016</td>\n",
              "      <td>7</td>\n",
              "      <td>STABBR</td>\n",
              "      <td>AZ</td>\n",
              "      <td>117.0</td>\n",
              "      <td>1.78</td>\n",
              "      <td>3</td>\n",
              "      <td>Arizona</td>\n",
              "      <td>State abbreviation</td>\n",
              "    </tr>\n",
              "    <tr>\n",
              "      <th>3</th>\n",
              "      <td>10</td>\n",
              "      <td>10</td>\n",
              "      <td>HD2019</td>\n",
              "      <td>10016</td>\n",
              "      <td>7</td>\n",
              "      <td>STABBR</td>\n",
              "      <td>AR</td>\n",
              "      <td>88.0</td>\n",
              "      <td>1.34</td>\n",
              "      <td>4</td>\n",
              "      <td>Arkansas</td>\n",
              "      <td>State abbreviation</td>\n",
              "    </tr>\n",
              "    <tr>\n",
              "      <th>4</th>\n",
              "      <td>10</td>\n",
              "      <td>10</td>\n",
              "      <td>HD2019</td>\n",
              "      <td>10016</td>\n",
              "      <td>7</td>\n",
              "      <td>STABBR</td>\n",
              "      <td>CA</td>\n",
              "      <td>699.0</td>\n",
              "      <td>10.66</td>\n",
              "      <td>5</td>\n",
              "      <td>California</td>\n",
              "      <td>State abbreviation</td>\n",
              "    </tr>\n",
              "  </tbody>\n",
              "</table>\n",
              "</div>"
            ],
            "text/plain": [
              "   SurveyOrder  Tablenumber  ...  valueLabel            varTitle\n",
              "0           10           10  ...     Alabama  State abbreviation\n",
              "1           10           10  ...      Alaska  State abbreviation\n",
              "2           10           10  ...     Arizona  State abbreviation\n",
              "3           10           10  ...    Arkansas  State abbreviation\n",
              "4           10           10  ...  California  State abbreviation\n",
              "\n",
              "[5 rows x 12 columns]"
            ]
          },
          "metadata": {
            "tags": []
          },
          "execution_count": 53
        }
      ]
    },
    {
      "cell_type": "code",
      "metadata": {
        "id": "36RlWUk8PSwa"
      },
      "source": [
        "hd2019var = code[code['TableName'] == 'HD2019']"
      ],
      "execution_count": null,
      "outputs": []
    },
    {
      "cell_type": "code",
      "metadata": {
        "colab": {
          "base_uri": "https://localhost:8080/",
          "height": 390
        },
        "id": "nA7g_iDvPtsA",
        "outputId": "edd0ab24-a896-459f-adee-8fa37003f7c3"
      },
      "source": [
        "hd2019var[hd2019var['varName'] == 'SECTOR']"
      ],
      "execution_count": null,
      "outputs": [
        {
          "output_type": "execute_result",
          "data": {
            "text/html": [
              "<div>\n",
              "<style scoped>\n",
              "    .dataframe tbody tr th:only-of-type {\n",
              "        vertical-align: middle;\n",
              "    }\n",
              "\n",
              "    .dataframe tbody tr th {\n",
              "        vertical-align: top;\n",
              "    }\n",
              "\n",
              "    .dataframe thead th {\n",
              "        text-align: right;\n",
              "    }\n",
              "</style>\n",
              "<table border=\"1\" class=\"dataframe\">\n",
              "  <thead>\n",
              "    <tr style=\"text-align: right;\">\n",
              "      <th></th>\n",
              "      <th>SurveyOrder</th>\n",
              "      <th>Tablenumber</th>\n",
              "      <th>TableName</th>\n",
              "      <th>varNumber</th>\n",
              "      <th>varOrder</th>\n",
              "      <th>varName</th>\n",
              "      <th>Codevalue</th>\n",
              "      <th>Frequency</th>\n",
              "      <th>Percent</th>\n",
              "      <th>valueOrder</th>\n",
              "      <th>valueLabel</th>\n",
              "      <th>varTitle</th>\n",
              "    </tr>\n",
              "  </thead>\n",
              "  <tbody>\n",
              "    <tr>\n",
              "      <th>136</th>\n",
              "      <td>10</td>\n",
              "      <td>10</td>\n",
              "      <td>HD2019</td>\n",
              "      <td>10086</td>\n",
              "      <td>32</td>\n",
              "      <td>SECTOR</td>\n",
              "      <td>0</td>\n",
              "      <td>73.0</td>\n",
              "      <td>1.11</td>\n",
              "      <td>1</td>\n",
              "      <td>Administrative Unit</td>\n",
              "      <td>Sector of institution</td>\n",
              "    </tr>\n",
              "    <tr>\n",
              "      <th>137</th>\n",
              "      <td>10</td>\n",
              "      <td>10</td>\n",
              "      <td>HD2019</td>\n",
              "      <td>10086</td>\n",
              "      <td>32</td>\n",
              "      <td>SECTOR</td>\n",
              "      <td>1</td>\n",
              "      <td>807.0</td>\n",
              "      <td>12.30</td>\n",
              "      <td>2</td>\n",
              "      <td>Public, 4-year or above</td>\n",
              "      <td>Sector of institution</td>\n",
              "    </tr>\n",
              "    <tr>\n",
              "      <th>138</th>\n",
              "      <td>10</td>\n",
              "      <td>10</td>\n",
              "      <td>HD2019</td>\n",
              "      <td>10086</td>\n",
              "      <td>32</td>\n",
              "      <td>SECTOR</td>\n",
              "      <td>2</td>\n",
              "      <td>1685.0</td>\n",
              "      <td>25.69</td>\n",
              "      <td>3</td>\n",
              "      <td>Private not-for-profit, 4-year or above</td>\n",
              "      <td>Sector of institution</td>\n",
              "    </tr>\n",
              "    <tr>\n",
              "      <th>139</th>\n",
              "      <td>10</td>\n",
              "      <td>10</td>\n",
              "      <td>HD2019</td>\n",
              "      <td>10086</td>\n",
              "      <td>32</td>\n",
              "      <td>SECTOR</td>\n",
              "      <td>3</td>\n",
              "      <td>390.0</td>\n",
              "      <td>5.95</td>\n",
              "      <td>4</td>\n",
              "      <td>Private for-profit, 4-year or above</td>\n",
              "      <td>Sector of institution</td>\n",
              "    </tr>\n",
              "    <tr>\n",
              "      <th>140</th>\n",
              "      <td>10</td>\n",
              "      <td>10</td>\n",
              "      <td>HD2019</td>\n",
              "      <td>10086</td>\n",
              "      <td>32</td>\n",
              "      <td>SECTOR</td>\n",
              "      <td>4</td>\n",
              "      <td>948.0</td>\n",
              "      <td>14.45</td>\n",
              "      <td>5</td>\n",
              "      <td>Public, 2-year</td>\n",
              "      <td>Sector of institution</td>\n",
              "    </tr>\n",
              "    <tr>\n",
              "      <th>141</th>\n",
              "      <td>10</td>\n",
              "      <td>10</td>\n",
              "      <td>HD2019</td>\n",
              "      <td>10086</td>\n",
              "      <td>32</td>\n",
              "      <td>SECTOR</td>\n",
              "      <td>5</td>\n",
              "      <td>153.0</td>\n",
              "      <td>2.33</td>\n",
              "      <td>6</td>\n",
              "      <td>Private not-for-profit, 2-year</td>\n",
              "      <td>Sector of institution</td>\n",
              "    </tr>\n",
              "    <tr>\n",
              "      <th>142</th>\n",
              "      <td>10</td>\n",
              "      <td>10</td>\n",
              "      <td>HD2019</td>\n",
              "      <td>10086</td>\n",
              "      <td>32</td>\n",
              "      <td>SECTOR</td>\n",
              "      <td>6</td>\n",
              "      <td>620.0</td>\n",
              "      <td>9.45</td>\n",
              "      <td>7</td>\n",
              "      <td>Private for-profit, 2-year</td>\n",
              "      <td>Sector of institution</td>\n",
              "    </tr>\n",
              "    <tr>\n",
              "      <th>143</th>\n",
              "      <td>10</td>\n",
              "      <td>10</td>\n",
              "      <td>HD2019</td>\n",
              "      <td>10086</td>\n",
              "      <td>32</td>\n",
              "      <td>SECTOR</td>\n",
              "      <td>7</td>\n",
              "      <td>235.0</td>\n",
              "      <td>3.58</td>\n",
              "      <td>8</td>\n",
              "      <td>Public, less-than 2-year</td>\n",
              "      <td>Sector of institution</td>\n",
              "    </tr>\n",
              "    <tr>\n",
              "      <th>144</th>\n",
              "      <td>10</td>\n",
              "      <td>10</td>\n",
              "      <td>HD2019</td>\n",
              "      <td>10086</td>\n",
              "      <td>32</td>\n",
              "      <td>SECTOR</td>\n",
              "      <td>8</td>\n",
              "      <td>64.0</td>\n",
              "      <td>0.98</td>\n",
              "      <td>9</td>\n",
              "      <td>Private not-for-profit, less-than 2-year</td>\n",
              "      <td>Sector of institution</td>\n",
              "    </tr>\n",
              "    <tr>\n",
              "      <th>145</th>\n",
              "      <td>10</td>\n",
              "      <td>10</td>\n",
              "      <td>HD2019</td>\n",
              "      <td>10086</td>\n",
              "      <td>32</td>\n",
              "      <td>SECTOR</td>\n",
              "      <td>9</td>\n",
              "      <td>1552.0</td>\n",
              "      <td>23.66</td>\n",
              "      <td>10</td>\n",
              "      <td>Private for-profit, less-than 2-year</td>\n",
              "      <td>Sector of institution</td>\n",
              "    </tr>\n",
              "    <tr>\n",
              "      <th>146</th>\n",
              "      <td>10</td>\n",
              "      <td>10</td>\n",
              "      <td>HD2019</td>\n",
              "      <td>10086</td>\n",
              "      <td>32</td>\n",
              "      <td>SECTOR</td>\n",
              "      <td>99</td>\n",
              "      <td>32.0</td>\n",
              "      <td>0.49</td>\n",
              "      <td>11</td>\n",
              "      <td>Sector unknown (not active)</td>\n",
              "      <td>Sector of institution</td>\n",
              "    </tr>\n",
              "  </tbody>\n",
              "</table>\n",
              "</div>"
            ],
            "text/plain": [
              "     SurveyOrder  ...               varTitle\n",
              "136           10  ...  Sector of institution\n",
              "137           10  ...  Sector of institution\n",
              "138           10  ...  Sector of institution\n",
              "139           10  ...  Sector of institution\n",
              "140           10  ...  Sector of institution\n",
              "141           10  ...  Sector of institution\n",
              "142           10  ...  Sector of institution\n",
              "143           10  ...  Sector of institution\n",
              "144           10  ...  Sector of institution\n",
              "145           10  ...  Sector of institution\n",
              "146           10  ...  Sector of institution\n",
              "\n",
              "[11 rows x 12 columns]"
            ]
          },
          "metadata": {
            "tags": []
          },
          "execution_count": 55
        }
      ]
    },
    {
      "cell_type": "code",
      "metadata": {
        "colab": {
          "base_uri": "https://localhost:8080/",
          "height": 390
        },
        "id": "dQQVZWtSP6F3",
        "outputId": "fd19fd7e-ef62-4834-8175-6b7a09cac94e"
      },
      "source": [
        "hd2019var[['Codevalue', 'valueLabel']][hd2019var['varName']== 'SECTOR']"
      ],
      "execution_count": null,
      "outputs": [
        {
          "output_type": "execute_result",
          "data": {
            "text/html": [
              "<div>\n",
              "<style scoped>\n",
              "    .dataframe tbody tr th:only-of-type {\n",
              "        vertical-align: middle;\n",
              "    }\n",
              "\n",
              "    .dataframe tbody tr th {\n",
              "        vertical-align: top;\n",
              "    }\n",
              "\n",
              "    .dataframe thead th {\n",
              "        text-align: right;\n",
              "    }\n",
              "</style>\n",
              "<table border=\"1\" class=\"dataframe\">\n",
              "  <thead>\n",
              "    <tr style=\"text-align: right;\">\n",
              "      <th></th>\n",
              "      <th>Codevalue</th>\n",
              "      <th>valueLabel</th>\n",
              "    </tr>\n",
              "  </thead>\n",
              "  <tbody>\n",
              "    <tr>\n",
              "      <th>136</th>\n",
              "      <td>0</td>\n",
              "      <td>Administrative Unit</td>\n",
              "    </tr>\n",
              "    <tr>\n",
              "      <th>137</th>\n",
              "      <td>1</td>\n",
              "      <td>Public, 4-year or above</td>\n",
              "    </tr>\n",
              "    <tr>\n",
              "      <th>138</th>\n",
              "      <td>2</td>\n",
              "      <td>Private not-for-profit, 4-year or above</td>\n",
              "    </tr>\n",
              "    <tr>\n",
              "      <th>139</th>\n",
              "      <td>3</td>\n",
              "      <td>Private for-profit, 4-year or above</td>\n",
              "    </tr>\n",
              "    <tr>\n",
              "      <th>140</th>\n",
              "      <td>4</td>\n",
              "      <td>Public, 2-year</td>\n",
              "    </tr>\n",
              "    <tr>\n",
              "      <th>141</th>\n",
              "      <td>5</td>\n",
              "      <td>Private not-for-profit, 2-year</td>\n",
              "    </tr>\n",
              "    <tr>\n",
              "      <th>142</th>\n",
              "      <td>6</td>\n",
              "      <td>Private for-profit, 2-year</td>\n",
              "    </tr>\n",
              "    <tr>\n",
              "      <th>143</th>\n",
              "      <td>7</td>\n",
              "      <td>Public, less-than 2-year</td>\n",
              "    </tr>\n",
              "    <tr>\n",
              "      <th>144</th>\n",
              "      <td>8</td>\n",
              "      <td>Private not-for-profit, less-than 2-year</td>\n",
              "    </tr>\n",
              "    <tr>\n",
              "      <th>145</th>\n",
              "      <td>9</td>\n",
              "      <td>Private for-profit, less-than 2-year</td>\n",
              "    </tr>\n",
              "    <tr>\n",
              "      <th>146</th>\n",
              "      <td>99</td>\n",
              "      <td>Sector unknown (not active)</td>\n",
              "    </tr>\n",
              "  </tbody>\n",
              "</table>\n",
              "</div>"
            ],
            "text/plain": [
              "    Codevalue                                valueLabel\n",
              "136         0                       Administrative Unit\n",
              "137         1                   Public, 4-year or above\n",
              "138         2   Private not-for-profit, 4-year or above\n",
              "139         3       Private for-profit, 4-year or above\n",
              "140         4                            Public, 2-year\n",
              "141         5            Private not-for-profit, 2-year\n",
              "142         6                Private for-profit, 2-year\n",
              "143         7                  Public, less-than 2-year\n",
              "144         8  Private not-for-profit, less-than 2-year\n",
              "145         9      Private for-profit, less-than 2-year\n",
              "146        99               Sector unknown (not active)"
            ]
          },
          "metadata": {
            "tags": []
          },
          "execution_count": 56
        }
      ]
    },
    {
      "cell_type": "markdown",
      "metadata": {
        "id": "o4U8Heagg7h3"
      },
      "source": [
        "### VLOOKUP "
      ]
    },
    {
      "cell_type": "code",
      "metadata": {
        "id": "N0EqsDELQTSO"
      },
      "source": [
        "sector = hd2019var[['Codevalue', 'valueLabel']][hd2019var['varName']== 'SECTOR']\n",
        "sector.columns = ['SECTOR', 'SECTOR LABEL']\n",
        "sector.SECTOR = sector.SECTOR.astype(int)"
      ],
      "execution_count": null,
      "outputs": []
    },
    {
      "cell_type": "code",
      "metadata": {
        "id": "MeL0iCrPQjIE"
      },
      "source": [
        "hd2 = pd.merge(hd, sector, on = 'SECTOR', how = 'left')"
      ],
      "execution_count": null,
      "outputs": []
    },
    {
      "cell_type": "code",
      "metadata": {
        "colab": {
          "base_uri": "https://localhost:8080/",
          "height": 272
        },
        "id": "YYGgr2alQvQ0",
        "outputId": "a69f9014-dc09-4bc3-d9ae-85ab9a06fb36"
      },
      "source": [
        "hd2.head()"
      ],
      "execution_count": null,
      "outputs": [
        {
          "output_type": "execute_result",
          "data": {
            "text/html": [
              "<div>\n",
              "<style scoped>\n",
              "    .dataframe tbody tr th:only-of-type {\n",
              "        vertical-align: middle;\n",
              "    }\n",
              "\n",
              "    .dataframe tbody tr th {\n",
              "        vertical-align: top;\n",
              "    }\n",
              "\n",
              "    .dataframe thead th {\n",
              "        text-align: right;\n",
              "    }\n",
              "</style>\n",
              "<table border=\"1\" class=\"dataframe\">\n",
              "  <thead>\n",
              "    <tr style=\"text-align: right;\">\n",
              "      <th></th>\n",
              "      <th>UNITID</th>\n",
              "      <th>INSTNM</th>\n",
              "      <th>IALIAS</th>\n",
              "      <th>CITY</th>\n",
              "      <th>STABBR</th>\n",
              "      <th>ZIP</th>\n",
              "      <th>CHFNM</th>\n",
              "      <th>CHFTITLE</th>\n",
              "      <th>OPEID</th>\n",
              "      <th>SECTOR</th>\n",
              "      <th>HBCU</th>\n",
              "      <th>SECTOR LABEL</th>\n",
              "    </tr>\n",
              "  </thead>\n",
              "  <tbody>\n",
              "    <tr>\n",
              "      <th>0</th>\n",
              "      <td>100654</td>\n",
              "      <td>Alabama A &amp; M University</td>\n",
              "      <td>AAMU</td>\n",
              "      <td>Normal</td>\n",
              "      <td>AL</td>\n",
              "      <td>35762</td>\n",
              "      <td>Dr. Andrew Hugine, Jr.</td>\n",
              "      <td>President</td>\n",
              "      <td>100200</td>\n",
              "      <td>1</td>\n",
              "      <td>1</td>\n",
              "      <td>Public, 4-year or above</td>\n",
              "    </tr>\n",
              "    <tr>\n",
              "      <th>1</th>\n",
              "      <td>100663</td>\n",
              "      <td>University of Alabama at Birmingham</td>\n",
              "      <td></td>\n",
              "      <td>Birmingham</td>\n",
              "      <td>AL</td>\n",
              "      <td>35294-0110</td>\n",
              "      <td>Ray L. Watts</td>\n",
              "      <td>President</td>\n",
              "      <td>105200</td>\n",
              "      <td>1</td>\n",
              "      <td>2</td>\n",
              "      <td>Public, 4-year or above</td>\n",
              "    </tr>\n",
              "    <tr>\n",
              "      <th>2</th>\n",
              "      <td>100690</td>\n",
              "      <td>Amridge University</td>\n",
              "      <td>Southern Christian University  Regions University</td>\n",
              "      <td>Montgomery</td>\n",
              "      <td>AL</td>\n",
              "      <td>36117-3553</td>\n",
              "      <td>Michael C.Turner</td>\n",
              "      <td>President</td>\n",
              "      <td>2503400</td>\n",
              "      <td>2</td>\n",
              "      <td>2</td>\n",
              "      <td>Private not-for-profit, 4-year or above</td>\n",
              "    </tr>\n",
              "    <tr>\n",
              "      <th>3</th>\n",
              "      <td>100706</td>\n",
              "      <td>University of Alabama in Huntsville</td>\n",
              "      <td>UAH  University of Alabama Huntsville</td>\n",
              "      <td>Huntsville</td>\n",
              "      <td>AL</td>\n",
              "      <td>35899</td>\n",
              "      <td>Darren Dawson</td>\n",
              "      <td>President</td>\n",
              "      <td>105500</td>\n",
              "      <td>1</td>\n",
              "      <td>2</td>\n",
              "      <td>Public, 4-year or above</td>\n",
              "    </tr>\n",
              "    <tr>\n",
              "      <th>4</th>\n",
              "      <td>100724</td>\n",
              "      <td>Alabama State University</td>\n",
              "      <td></td>\n",
              "      <td>Montgomery</td>\n",
              "      <td>AL</td>\n",
              "      <td>36104-0271</td>\n",
              "      <td>Quinton T. Ross</td>\n",
              "      <td>President</td>\n",
              "      <td>100500</td>\n",
              "      <td>1</td>\n",
              "      <td>1</td>\n",
              "      <td>Public, 4-year or above</td>\n",
              "    </tr>\n",
              "  </tbody>\n",
              "</table>\n",
              "</div>"
            ],
            "text/plain": [
              "   UNITID  ...                             SECTOR LABEL\n",
              "0  100654  ...                  Public, 4-year or above\n",
              "1  100663  ...                  Public, 4-year or above\n",
              "2  100690  ...  Private not-for-profit, 4-year or above\n",
              "3  100706  ...                  Public, 4-year or above\n",
              "4  100724  ...                  Public, 4-year or above\n",
              "\n",
              "[5 rows x 12 columns]"
            ]
          },
          "metadata": {
            "tags": []
          },
          "execution_count": 59
        }
      ]
    },
    {
      "cell_type": "code",
      "metadata": {
        "colab": {
          "base_uri": "https://localhost:8080/",
          "height": 691
        },
        "id": "UIZpABMHQzQt",
        "outputId": "946238da-6e29-4821-c61b-068739511bb5"
      },
      "source": [
        "figsize = (12, 8)\n",
        "\n",
        "plt.figure(figsize = figsize)\n",
        "sns.countplot(x = 'SECTOR LABEL', data = hd2)\n",
        "plt.xlabel(\"Sector of Institution\")\n",
        "plt.ylabel(\"Number of Institutions\")\n",
        "plt.title(\"Count of Institutions by Sector\")\n",
        "plt.xticks(rotation = 90)\n",
        "\n",
        "plt.show()"
      ],
      "execution_count": null,
      "outputs": [
        {
          "output_type": "display_data",
          "data": {
            "image/png": "[encoded data removed]",
            "text/plain": [
              "<Figure size 864x576 with 1 Axes>"
            ]
          },
          "metadata": {
            "tags": [],
            "needs_background": "light"
          }
        }
      ]
    },
    {
      "cell_type": "code",
      "metadata": {
        "colab": {
          "base_uri": "https://localhost:8080/",
          "height": 691
        },
        "id": "sOzuTHdykJv0",
        "outputId": "e92119f8-efa5-4b74-fc1b-97ee2bf3316d"
      },
      "source": [
        "figsize = (12, 8)\n",
        "\n",
        "plt.figure(figsize = figsize)\n",
        "sns.countplot(x = 'SECTOR LABEL', data = hd2, hue = 'HBCU', palette='Set2')\n",
        "sns.color_palette('Set2')\n",
        "plt.xlabel(\"Sector of Institution\")\n",
        "plt.ylabel(\"Number of Institutions\")\n",
        "plt.title(\"Count of Institutions by Sector\")\n",
        "plt.xticks(rotation = 90)\n",
        "\n",
        "plt.show()"
      ],
      "execution_count": null,
      "outputs": [
        {
          "output_type": "display_data",
          "data": {
            "image/png": "[encoded data removed]",
            "text/plain": [
              "<Figure size 864x576 with 1 Axes>"
            ]
          },
          "metadata": {
            "tags": [],
            "needs_background": "light"
          }
        }
      ]
    },
    {
      "cell_type": "markdown",
      "metadata": {
        "id": "dRDlHLf6hL4S"
      },
      "source": [
        "### Pivot Tables"
      ]
    },
    {
      "cell_type": "code",
      "metadata": {
        "id": "KFgYqfa2i624"
      },
      "source": [
        "ids = hd2[['UNITID', 'INSTNM', 'SECTOR LABEL']]"
      ],
      "execution_count": null,
      "outputs": []
    },
    {
      "cell_type": "code",
      "metadata": {
        "id": "Z-ZoWvLNl6lA"
      },
      "source": [
        "en2 = pd.merge(en, ids, on = 'UNITID', how = 'left')"
      ],
      "execution_count": null,
      "outputs": []
    },
    {
      "cell_type": "code",
      "metadata": {
        "colab": {
          "base_uri": "https://localhost:8080/",
          "height": 266
        },
        "id": "J3iI-xv2l_RD",
        "outputId": "94319613-08a4-4f9a-a308-ab700ccaaa19"
      },
      "source": [
        "pd.pivot_table(en2, \n",
        "               index = 'SECTOR LABEL', \n",
        "               values = 'GRCOHRT',\n",
        "               aggfunc = np.mean)"
      ],
      "execution_count": null,
      "outputs": [
        {
          "output_type": "execute_result",
          "data": {
            "text/html": [
              "<div>\n",
              "<style scoped>\n",
              "    .dataframe tbody tr th:only-of-type {\n",
              "        vertical-align: middle;\n",
              "    }\n",
              "\n",
              "    .dataframe tbody tr th {\n",
              "        vertical-align: top;\n",
              "    }\n",
              "\n",
              "    .dataframe thead th {\n",
              "        text-align: right;\n",
              "    }\n",
              "</style>\n",
              "<table border=\"1\" class=\"dataframe\">\n",
              "  <thead>\n",
              "    <tr style=\"text-align: right;\">\n",
              "      <th></th>\n",
              "      <th>GRCOHRT</th>\n",
              "    </tr>\n",
              "    <tr>\n",
              "      <th>SECTOR LABEL</th>\n",
              "      <th></th>\n",
              "    </tr>\n",
              "  </thead>\n",
              "  <tbody>\n",
              "    <tr>\n",
              "      <th>Private for-profit, 2-year</th>\n",
              "      <td>77.576471</td>\n",
              "    </tr>\n",
              "    <tr>\n",
              "      <th>Private for-profit, 4-year or above</th>\n",
              "      <td>136.567708</td>\n",
              "    </tr>\n",
              "    <tr>\n",
              "      <th>Private not-for-profit, 2-year</th>\n",
              "      <td>79.063492</td>\n",
              "    </tr>\n",
              "    <tr>\n",
              "      <th>Private not-for-profit, 4-year or above</th>\n",
              "      <td>410.574468</td>\n",
              "    </tr>\n",
              "    <tr>\n",
              "      <th>Public, 2-year</th>\n",
              "      <td>678.398355</td>\n",
              "    </tr>\n",
              "    <tr>\n",
              "      <th>Public, 4-year or above</th>\n",
              "      <td>1681.667586</td>\n",
              "    </tr>\n",
              "  </tbody>\n",
              "</table>\n",
              "</div>"
            ],
            "text/plain": [
              "                                             GRCOHRT\n",
              "SECTOR LABEL                                        \n",
              "Private for-profit, 2-year                 77.576471\n",
              "Private for-profit, 4-year or above       136.567708\n",
              "Private not-for-profit, 2-year             79.063492\n",
              "Private not-for-profit, 4-year or above   410.574468\n",
              "Public, 2-year                            678.398355\n",
              "Public, 4-year or above                  1681.667586"
            ]
          },
          "metadata": {
            "tags": []
          },
          "execution_count": 85
        }
      ]
    },
    {
      "cell_type": "markdown",
      "metadata": {
        "id": "8i3oZhgehNrj"
      },
      "source": [
        "### If-Else Statements"
      ]
    },
    {
      "cell_type": "markdown",
      "metadata": {
        "id": "eazioAJjhxBX"
      },
      "source": [
        "### Correlation"
      ]
    }
  ]
}