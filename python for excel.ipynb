{
 "cells": [
  {
   "cell_type": "markdown",
   "metadata": {
    "id": "0apkYe9sjWCU"
   },
   "source": [
    "## Python for Excel Users: A Guide to Data Analysis in Python\n",
    "\n",
    "#### Mark Green\n",
    "##### Holy Family University\n",
    "##### Director of Institutional Research\n",
    "\n"
   ]
  },
  {
   "cell_type": "markdown",
   "metadata": {
    "id": "4CaUppqEjnVH"
   },
   "source": [
    "## Learning Outcomes\n",
    "\n",
    "After this presentation, you will be able to: \n",
    "* Use Python through Google Collab to load your dataset \n",
    "* Understand how to manipulate and clean data with Python\n",
    "* Replicate common data techniques in Python from Excel (vlookup, pivot tables, if statements) \n"
   ]
  },
  {
   "cell_type": "markdown",
   "metadata": {
    "id": "HSTMa6pnjuqs"
   },
   "source": [
    "![Alt Text](https://media.makeameme.org/created/when-python-is.jpg)\n"
   ]
  },
  {
   "cell_type": "markdown",
   "metadata": {
    "id": "YzJFDWS3jzqd"
   },
   "source": [
    "## What is Python? \n",
    "\n",
    "\"Python is a clear and powerful object-oriented programming language...\" (wiki.python.org/moin/BeginnersGuide/Overview)\n",
    "\n",
    "### Why do we use it for data analysis? \n",
    "* Easy-to-use language that makes it easy to \"run\"\n",
    "* Large library of packages for data analysis\n",
    "* It's open source (think, \"free\")\n",
    "* Easy to learn\n",
    "* Flexible\n",
    "* Fun! \n"
   ]
  },
  {
   "cell_type": "code",
   "execution_count": 2,
   "metadata": {
    "colab": {
     "base_uri": "https://localhost:8080/"
    },
    "executionInfo": {
     "elapsed": 139,
     "status": "ok",
     "timestamp": 1626266877072,
     "user": {
      "displayName": "Mark Green",
      "photoUrl": "https://lh3.googleusercontent.com/a-/AOh14GiOe1PKHLNF7AZUblxI0U7WQ-caN1Wf2bkhENUr=s64",
      "userId": "16241478845361538440"
     },
     "user_tz": 240
    },
    "id": "qg8O84qKY5ZT",
    "outputId": "4a654f21-8f57-4846-c770-174a93a8efa4"
   },
   "outputs": [
    {
     "name": "stdout",
     "output_type": "stream",
     "text": [
      "Hello, world!\n"
     ]
    }
   ],
   "source": [
    "print('Hello, world!')"
   ]
  },
  {
   "cell_type": "code",
   "execution_count": 3,
   "metadata": {
    "colab": {
     "base_uri": "https://localhost:8080/"
    },
    "executionInfo": {
     "elapsed": 147,
     "status": "ok",
     "timestamp": 1626205342865,
     "user": {
      "displayName": "Mark Green",
      "photoUrl": "https://lh3.googleusercontent.com/a-/AOh14GiOe1PKHLNF7AZUblxI0U7WQ-caN1Wf2bkhENUr=s64",
      "userId": "16241478845361538440"
     },
     "user_tz": 240
    },
    "id": "lzFoYYupY8_n",
    "outputId": "f085ca54-45c5-4634-e8aa-9cf1cf2466a5"
   },
   "outputs": [
    {
     "name": "stdout",
     "output_type": "stream",
     "text": [
      "0 0\n",
      "1 1\n",
      "2 4\n",
      "3 9\n",
      "4 16\n",
      "5 25\n"
     ]
    }
   ],
   "source": [
    "def square_list(x):\n",
    "    return(x**2)\n",
    "\n",
    "for i in range(6):\n",
    "    print(i, square_list(i))"
   ]
  },
  {
   "cell_type": "markdown",
   "metadata": {
    "id": "cBUCCNBUZK_B"
   },
   "source": [
    "#### Python Data Structures\n",
    "\n",
    "* **Lists**"
   ]
  },
  {
   "cell_type": "code",
   "execution_count": 4,
   "metadata": {
    "colab": {
     "base_uri": "https://localhost:8080/"
    },
    "executionInfo": {
     "elapsed": 117,
     "status": "ok",
     "timestamp": 1626205418446,
     "user": {
      "displayName": "Mark Green",
      "photoUrl": "https://lh3.googleusercontent.com/a-/AOh14GiOe1PKHLNF7AZUblxI0U7WQ-caN1Wf2bkhENUr=s64",
      "userId": "16241478845361538440"
     },
     "user_tz": 240
    },
    "id": "-mFhcJ32ZOnK",
    "outputId": "c3a4f99f-c81d-4223-f2f9-c5d304d8326d"
   },
   "outputs": [
    {
     "name": "stdout",
     "output_type": "stream",
     "text": [
      "['Philadelphia', 'Green', 'Seven']\n"
     ]
    }
   ],
   "source": [
    "newList = ['Philadelphia', 'Green', 'Seven']\n",
    "print(newList)"
   ]
  },
  {
   "cell_type": "code",
   "execution_count": 5,
   "metadata": {
    "colab": {
     "base_uri": "https://localhost:8080/"
    },
    "executionInfo": {
     "elapsed": 132,
     "status": "ok",
     "timestamp": 1626205434186,
     "user": {
      "displayName": "Mark Green",
      "photoUrl": "https://lh3.googleusercontent.com/a-/AOh14GiOe1PKHLNF7AZUblxI0U7WQ-caN1Wf2bkhENUr=s64",
      "userId": "16241478845361538440"
     },
     "user_tz": 240
    },
    "id": "xcSnfYiVZXu_",
    "outputId": "8348cc60-d14a-47df-fc0b-48e8778fe17c"
   },
   "outputs": [
    {
     "name": "stdout",
     "output_type": "stream",
     "text": [
      "['Philadelphia', 'Green', 'Seven', 'PA']\n"
     ]
    }
   ],
   "source": [
    "newList.append('PA')\n",
    "print(newList)"
   ]
  },
  {
   "cell_type": "markdown",
   "metadata": {
    "id": "MTWkzJEBWgQ-"
   },
   "source": [
    "### The Packages\n",
    "\n",
    "* Numpy\n",
    "* Pandas\n",
    "* Scikit-learn \n",
    "\n",
    "#### Numpy\n",
    "\n",
    "* A package to perform vector manipulation\n",
    "* This is a single column in our Excel spreadsheet\n",
    "\n"
   ]
  },
  {
   "cell_type": "code",
   "execution_count": 6,
   "metadata": {
    "id": "s2hU_VlUZh8y"
   },
   "outputs": [],
   "source": [
    "import numpy as np"
   ]
  },
  {
   "cell_type": "code",
   "execution_count": 7,
   "metadata": {
    "colab": {
     "base_uri": "https://localhost:8080/"
    },
    "executionInfo": {
     "elapsed": 199,
     "status": "ok",
     "timestamp": 1626205505678,
     "user": {
      "displayName": "Mark Green",
      "photoUrl": "https://lh3.googleusercontent.com/a-/AOh14GiOe1PKHLNF7AZUblxI0U7WQ-caN1Wf2bkhENUr=s64",
      "userId": "16241478845361538440"
     },
     "user_tz": 240
    },
    "id": "ziyoIUVNZk2B",
    "outputId": "597ade69-b84b-4784-939d-12cf1b0278c5"
   },
   "outputs": [
    {
     "name": "stdout",
     "output_type": "stream",
     "text": [
      "['Philadelphia' 'Green' 'Seven' 'PA']\n"
     ]
    }
   ],
   "source": [
    "newArray = np.array(newList)\n",
    "print(newArray)"
   ]
  },
  {
   "cell_type": "code",
   "execution_count": 8,
   "metadata": {
    "colab": {
     "base_uri": "https://localhost:8080/"
    },
    "executionInfo": {
     "elapsed": 96,
     "status": "ok",
     "timestamp": 1626205573611,
     "user": {
      "displayName": "Mark Green",
      "photoUrl": "https://lh3.googleusercontent.com/a-/AOh14GiOe1PKHLNF7AZUblxI0U7WQ-caN1Wf2bkhENUr=s64",
      "userId": "16241478845361538440"
     },
     "user_tz": 240
    },
    "id": "tFonPOm-Ztkf",
    "outputId": "911f38b6-a232-4c58-ac86-28d4c2ac6efb"
   },
   "outputs": [
    {
     "name": "stdout",
     "output_type": "stream",
     "text": [
      "[1, 2, 3, 4, 5, 6]\n",
      "[5 7 9]\n"
     ]
    }
   ],
   "source": [
    "test_list = [1, 2, 3] + [4, 5, 6]\n",
    "test_array = np.array([1, 2, 3]) + np.array([4, 5, 6])\n",
    "print(test_list)\n",
    "print(test_array)"
   ]
  },
  {
   "cell_type": "markdown",
   "metadata": {
    "id": "Ed2GjX-GaJQW"
   },
   "source": [
    "#### Dictionaries \n",
    "* Ordered pairs\n",
    "* Called Keys and Values\n",
    "* Can store text and string"
   ]
  },
  {
   "cell_type": "code",
   "execution_count": 9,
   "metadata": {
    "id": "lWYdCS_RaR6-"
   },
   "outputs": [],
   "source": [
    "myDict = {1: 'One', 2: 'Two', 3: 3}"
   ]
  },
  {
   "cell_type": "code",
   "execution_count": 10,
   "metadata": {
    "colab": {
     "base_uri": "https://localhost:8080/",
     "height": 35
    },
    "executionInfo": {
     "elapsed": 132,
     "status": "ok",
     "timestamp": 1626205694583,
     "user": {
      "displayName": "Mark Green",
      "photoUrl": "https://lh3.googleusercontent.com/a-/AOh14GiOe1PKHLNF7AZUblxI0U7WQ-caN1Wf2bkhENUr=s64",
      "userId": "16241478845361538440"
     },
     "user_tz": 240
    },
    "id": "t88q8qW0aXG4",
    "outputId": "eeb30c00-651a-410b-f85d-e07a8097eb81"
   },
   "outputs": [
    {
     "data": {
      "text/plain": [
       "'Two'"
      ]
     },
     "execution_count": 10,
     "metadata": {},
     "output_type": "execute_result"
    }
   ],
   "source": [
    "myDict[2]"
   ]
  },
  {
   "cell_type": "code",
   "execution_count": 11,
   "metadata": {
    "colab": {
     "base_uri": "https://localhost:8080/"
    },
    "executionInfo": {
     "elapsed": 112,
     "status": "ok",
     "timestamp": 1626205703761,
     "user": {
      "displayName": "Mark Green",
      "photoUrl": "https://lh3.googleusercontent.com/a-/AOh14GiOe1PKHLNF7AZUblxI0U7WQ-caN1Wf2bkhENUr=s64",
      "userId": "16241478845361538440"
     },
     "user_tz": 240
    },
    "id": "6nyLVvO7abvS",
    "outputId": "38dc88d4-66a5-4496-9152-1422df0a9903"
   },
   "outputs": [
    {
     "data": {
      "text/plain": [
       "dict_values(['One', 'Two', 3])"
      ]
     },
     "execution_count": 11,
     "metadata": {},
     "output_type": "execute_result"
    }
   ],
   "source": [
    "myDict.values()"
   ]
  },
  {
   "cell_type": "code",
   "execution_count": 12,
   "metadata": {
    "colab": {
     "base_uri": "https://localhost:8080/"
    },
    "executionInfo": {
     "elapsed": 98,
     "status": "ok",
     "timestamp": 1626205712543,
     "user": {
      "displayName": "Mark Green",
      "photoUrl": "https://lh3.googleusercontent.com/a-/AOh14GiOe1PKHLNF7AZUblxI0U7WQ-caN1Wf2bkhENUr=s64",
      "userId": "16241478845361538440"
     },
     "user_tz": 240
    },
    "id": "FNpjC20bad6C",
    "outputId": "820e216b-a971-4668-f7e2-c67e620427f1"
   },
   "outputs": [
    {
     "data": {
      "text/plain": [
       "dict_keys([1, 2, 3])"
      ]
     },
     "execution_count": 12,
     "metadata": {},
     "output_type": "execute_result"
    }
   ],
   "source": [
    "myDict.keys()"
   ]
  },
  {
   "cell_type": "markdown",
   "metadata": {
    "id": "2pO_iGzjZgsq"
   },
   "source": [
    "\n",
    "#### Pandas\n",
    "\n",
    "* A package that allows us to put a series of vectors into a dataframe \n",
    "* A dataframe is our matrix or, individual spreadsheet from Excel\n",
    "\n",
    "##### Dataframes\n",
    "* Used for statisitcal analysis\n",
    "\n",
    "A widely used Python package. It provides data structures suitable for statisical analysis, and adds functions that facilitate data input, data organization, data manipulation.\n"
   ]
  },
  {
   "cell_type": "code",
   "execution_count": 14,
   "metadata": {
    "id": "UaOPVv8XapK1"
   },
   "outputs": [],
   "source": [
    "import pandas as pd\n",
    "import numpy as np\n",
    "%matplotlib inline\n",
    "\n",
    "c = np.arange(1,11,0.1)\n",
    "x = np.reciprocal(c).round(1)\n",
    "y = np.log10(c).round(1)\n",
    "\n",
    "\n",
    "df = pd.DataFrame({'Counter': c, 'x':x, 'y':y})"
   ]
  },
  {
   "cell_type": "code",
   "execution_count": 15,
   "metadata": {
    "colab": {
     "base_uri": "https://localhost:8080/",
     "height": 204
    },
    "executionInfo": {
     "elapsed": 98,
     "status": "ok",
     "timestamp": 1626291464188,
     "user": {
      "displayName": "Mark Green",
      "photoUrl": "https://lh3.googleusercontent.com/a-/AOh14GiOe1PKHLNF7AZUblxI0U7WQ-caN1Wf2bkhENUr=s64",
      "userId": "16241478845361538440"
     },
     "user_tz": 240
    },
    "id": "J-tfUVHZay93",
    "outputId": "7a21cc47-4234-457f-b12e-c0ebe19c5aa0"
   },
   "outputs": [
    {
     "data": {
      "text/html": [
       "<div>\n",
       "<style scoped>\n",
       "    .dataframe tbody tr th:only-of-type {\n",
       "        vertical-align: middle;\n",
       "    }\n",
       "\n",
       "    .dataframe tbody tr th {\n",
       "        vertical-align: top;\n",
       "    }\n",
       "\n",
       "    .dataframe thead th {\n",
       "        text-align: right;\n",
       "    }\n",
       "</style>\n",
       "<table border=\"1\" class=\"dataframe\">\n",
       "  <thead>\n",
       "    <tr style=\"text-align: right;\">\n",
       "      <th></th>\n",
       "      <th>Counter</th>\n",
       "      <th>x</th>\n",
       "      <th>y</th>\n",
       "    </tr>\n",
       "  </thead>\n",
       "  <tbody>\n",
       "    <tr>\n",
       "      <th>0</th>\n",
       "      <td>1.0</td>\n",
       "      <td>1.0</td>\n",
       "      <td>0.0</td>\n",
       "    </tr>\n",
       "    <tr>\n",
       "      <th>1</th>\n",
       "      <td>1.1</td>\n",
       "      <td>0.9</td>\n",
       "      <td>0.0</td>\n",
       "    </tr>\n",
       "    <tr>\n",
       "      <th>2</th>\n",
       "      <td>1.2</td>\n",
       "      <td>0.8</td>\n",
       "      <td>0.1</td>\n",
       "    </tr>\n",
       "    <tr>\n",
       "      <th>3</th>\n",
       "      <td>1.3</td>\n",
       "      <td>0.8</td>\n",
       "      <td>0.1</td>\n",
       "    </tr>\n",
       "    <tr>\n",
       "      <th>4</th>\n",
       "      <td>1.4</td>\n",
       "      <td>0.7</td>\n",
       "      <td>0.1</td>\n",
       "    </tr>\n",
       "  </tbody>\n",
       "</table>\n",
       "</div>"
      ],
      "text/plain": [
       "   Counter    x    y\n",
       "0      1.0  1.0  0.0\n",
       "1      1.1  0.9  0.0\n",
       "2      1.2  0.8  0.1\n",
       "3      1.3  0.8  0.1\n",
       "4      1.4  0.7  0.1"
      ]
     },
     "execution_count": 15,
     "metadata": {},
     "output_type": "execute_result"
    }
   ],
   "source": [
    "df.head()"
   ]
  },
  {
   "cell_type": "code",
   "execution_count": 16,
   "metadata": {
    "colab": {
     "base_uri": "https://localhost:8080/"
    },
    "executionInfo": {
     "elapsed": 101,
     "status": "ok",
     "timestamp": 1626291468964,
     "user": {
      "displayName": "Mark Green",
      "photoUrl": "https://lh3.googleusercontent.com/a-/AOh14GiOe1PKHLNF7AZUblxI0U7WQ-caN1Wf2bkhENUr=s64",
      "userId": "16241478845361538440"
     },
     "user_tz": 240
    },
    "id": "V1qMiieLa1RS",
    "outputId": "01e42010-1f00-47d8-ba75-0ddc4cc71ba9"
   },
   "outputs": [
    {
     "data": {
      "text/plain": [
       "0      1.0\n",
       "1      1.1\n",
       "2      1.2\n",
       "3      1.3\n",
       "4      1.4\n",
       "      ... \n",
       "95    10.5\n",
       "96    10.6\n",
       "97    10.7\n",
       "98    10.8\n",
       "99    10.9\n",
       "Name: Counter, Length: 100, dtype: float64"
      ]
     },
     "execution_count": 16,
     "metadata": {},
     "output_type": "execute_result"
    }
   ],
   "source": [
    "df['Counter']"
   ]
  },
  {
   "cell_type": "code",
   "execution_count": 17,
   "metadata": {
    "colab": {
     "base_uri": "https://localhost:8080/"
    },
    "executionInfo": {
     "elapsed": 115,
     "status": "ok",
     "timestamp": 1626291475030,
     "user": {
      "displayName": "Mark Green",
      "photoUrl": "https://lh3.googleusercontent.com/a-/AOh14GiOe1PKHLNF7AZUblxI0U7WQ-caN1Wf2bkhENUr=s64",
      "userId": "16241478845361538440"
     },
     "user_tz": 240
    },
    "id": "Wkckl_7_a3X3",
    "outputId": "c6bf3d25-3703-4a28-acef-242959a27c55"
   },
   "outputs": [
    {
     "data": {
      "text/plain": [
       "0      1.0\n",
       "1      1.1\n",
       "2      1.2\n",
       "3      1.3\n",
       "4      1.4\n",
       "      ... \n",
       "95    10.5\n",
       "96    10.6\n",
       "97    10.7\n",
       "98    10.8\n",
       "99    10.9\n",
       "Name: Counter, Length: 100, dtype: float64"
      ]
     },
     "execution_count": 17,
     "metadata": {},
     "output_type": "execute_result"
    }
   ],
   "source": [
    "df.Counter"
   ]
  },
  {
   "cell_type": "code",
   "execution_count": 18,
   "metadata": {
    "colab": {
     "base_uri": "https://localhost:8080/",
     "height": 419
    },
    "executionInfo": {
     "elapsed": 104,
     "status": "ok",
     "timestamp": 1626291479275,
     "user": {
      "displayName": "Mark Green",
      "photoUrl": "https://lh3.googleusercontent.com/a-/AOh14GiOe1PKHLNF7AZUblxI0U7WQ-caN1Wf2bkhENUr=s64",
      "userId": "16241478845361538440"
     },
     "user_tz": 240
    },
    "id": "Whbgd9LSa5W8",
    "outputId": "6fbbfb61-4701-4474-f23f-7bae5f92db06"
   },
   "outputs": [
    {
     "data": {
      "text/html": [
       "<div>\n",
       "<style scoped>\n",
       "    .dataframe tbody tr th:only-of-type {\n",
       "        vertical-align: middle;\n",
       "    }\n",
       "\n",
       "    .dataframe tbody tr th {\n",
       "        vertical-align: top;\n",
       "    }\n",
       "\n",
       "    .dataframe thead th {\n",
       "        text-align: right;\n",
       "    }\n",
       "</style>\n",
       "<table border=\"1\" class=\"dataframe\">\n",
       "  <thead>\n",
       "    <tr style=\"text-align: right;\">\n",
       "      <th></th>\n",
       "      <th>Counter</th>\n",
       "      <th>y</th>\n",
       "    </tr>\n",
       "  </thead>\n",
       "  <tbody>\n",
       "    <tr>\n",
       "      <th>0</th>\n",
       "      <td>1.0</td>\n",
       "      <td>0.0</td>\n",
       "    </tr>\n",
       "    <tr>\n",
       "      <th>1</th>\n",
       "      <td>1.1</td>\n",
       "      <td>0.0</td>\n",
       "    </tr>\n",
       "    <tr>\n",
       "      <th>2</th>\n",
       "      <td>1.2</td>\n",
       "      <td>0.1</td>\n",
       "    </tr>\n",
       "    <tr>\n",
       "      <th>3</th>\n",
       "      <td>1.3</td>\n",
       "      <td>0.1</td>\n",
       "    </tr>\n",
       "    <tr>\n",
       "      <th>4</th>\n",
       "      <td>1.4</td>\n",
       "      <td>0.1</td>\n",
       "    </tr>\n",
       "    <tr>\n",
       "      <th>...</th>\n",
       "      <td>...</td>\n",
       "      <td>...</td>\n",
       "    </tr>\n",
       "    <tr>\n",
       "      <th>95</th>\n",
       "      <td>10.5</td>\n",
       "      <td>1.0</td>\n",
       "    </tr>\n",
       "    <tr>\n",
       "      <th>96</th>\n",
       "      <td>10.6</td>\n",
       "      <td>1.0</td>\n",
       "    </tr>\n",
       "    <tr>\n",
       "      <th>97</th>\n",
       "      <td>10.7</td>\n",
       "      <td>1.0</td>\n",
       "    </tr>\n",
       "    <tr>\n",
       "      <th>98</th>\n",
       "      <td>10.8</td>\n",
       "      <td>1.0</td>\n",
       "    </tr>\n",
       "    <tr>\n",
       "      <th>99</th>\n",
       "      <td>10.9</td>\n",
       "      <td>1.0</td>\n",
       "    </tr>\n",
       "  </tbody>\n",
       "</table>\n",
       "<p>100 rows × 2 columns</p>\n",
       "</div>"
      ],
      "text/plain": [
       "    Counter    y\n",
       "0       1.0  0.0\n",
       "1       1.1  0.0\n",
       "2       1.2  0.1\n",
       "3       1.3  0.1\n",
       "4       1.4  0.1\n",
       "..      ...  ...\n",
       "95     10.5  1.0\n",
       "96     10.6  1.0\n",
       "97     10.7  1.0\n",
       "98     10.8  1.0\n",
       "99     10.9  1.0\n",
       "\n",
       "[100 rows x 2 columns]"
      ]
     },
     "execution_count": 18,
     "metadata": {},
     "output_type": "execute_result"
    }
   ],
   "source": [
    "data = df[['Counter', 'y']]\n",
    "data"
   ]
  },
  {
   "cell_type": "code",
   "execution_count": 19,
   "metadata": {
    "colab": {
     "base_uri": "https://localhost:8080/",
     "height": 235
    },
    "executionInfo": {
     "elapsed": 102,
     "status": "ok",
     "timestamp": 1626291486676,
     "user": {
      "displayName": "Mark Green",
      "photoUrl": "https://lh3.googleusercontent.com/a-/AOh14GiOe1PKHLNF7AZUblxI0U7WQ-caN1Wf2bkhENUr=s64",
      "userId": "16241478845361538440"
     },
     "user_tz": 240
    },
    "id": "y9UBnJoKa9rx",
    "outputId": "a9cfada0-15f6-4352-cc4e-22a8958da20a"
   },
   "outputs": [
    {
     "data": {
      "text/html": [
       "<div>\n",
       "<style scoped>\n",
       "    .dataframe tbody tr th:only-of-type {\n",
       "        vertical-align: middle;\n",
       "    }\n",
       "\n",
       "    .dataframe tbody tr th {\n",
       "        vertical-align: top;\n",
       "    }\n",
       "\n",
       "    .dataframe thead th {\n",
       "        text-align: right;\n",
       "    }\n",
       "</style>\n",
       "<table border=\"1\" class=\"dataframe\">\n",
       "  <thead>\n",
       "    <tr style=\"text-align: right;\">\n",
       "      <th></th>\n",
       "      <th>Counter</th>\n",
       "      <th>x</th>\n",
       "      <th>y</th>\n",
       "    </tr>\n",
       "  </thead>\n",
       "  <tbody>\n",
       "    <tr>\n",
       "      <th>4</th>\n",
       "      <td>1.4</td>\n",
       "      <td>0.7</td>\n",
       "      <td>0.1</td>\n",
       "    </tr>\n",
       "    <tr>\n",
       "      <th>5</th>\n",
       "      <td>1.5</td>\n",
       "      <td>0.7</td>\n",
       "      <td>0.2</td>\n",
       "    </tr>\n",
       "    <tr>\n",
       "      <th>6</th>\n",
       "      <td>1.6</td>\n",
       "      <td>0.6</td>\n",
       "      <td>0.2</td>\n",
       "    </tr>\n",
       "    <tr>\n",
       "      <th>7</th>\n",
       "      <td>1.7</td>\n",
       "      <td>0.6</td>\n",
       "      <td>0.2</td>\n",
       "    </tr>\n",
       "    <tr>\n",
       "      <th>8</th>\n",
       "      <td>1.8</td>\n",
       "      <td>0.6</td>\n",
       "      <td>0.3</td>\n",
       "    </tr>\n",
       "    <tr>\n",
       "      <th>9</th>\n",
       "      <td>1.9</td>\n",
       "      <td>0.5</td>\n",
       "      <td>0.3</td>\n",
       "    </tr>\n",
       "  </tbody>\n",
       "</table>\n",
       "</div>"
      ],
      "text/plain": [
       "   Counter    x    y\n",
       "4      1.4  0.7  0.1\n",
       "5      1.5  0.7  0.2\n",
       "6      1.6  0.6  0.2\n",
       "7      1.7  0.6  0.2\n",
       "8      1.8  0.6  0.3\n",
       "9      1.9  0.5  0.3"
      ]
     },
     "execution_count": 19,
     "metadata": {},
     "output_type": "execute_result"
    }
   ],
   "source": [
    "df[4:10]"
   ]
  },
  {
   "cell_type": "code",
   "execution_count": 20,
   "metadata": {
    "colab": {
     "base_uri": "https://localhost:8080/",
     "height": 235
    },
    "executionInfo": {
     "elapsed": 108,
     "status": "ok",
     "timestamp": 1626291493697,
     "user": {
      "displayName": "Mark Green",
      "photoUrl": "https://lh3.googleusercontent.com/a-/AOh14GiOe1PKHLNF7AZUblxI0U7WQ-caN1Wf2bkhENUr=s64",
      "userId": "16241478845361538440"
     },
     "user_tz": 240
    },
    "id": "WFDslMLhbHtN",
    "outputId": "e85af8d9-de6a-4e79-9141-51775de660fb"
   },
   "outputs": [
    {
     "data": {
      "text/html": [
       "<div>\n",
       "<style scoped>\n",
       "    .dataframe tbody tr th:only-of-type {\n",
       "        vertical-align: middle;\n",
       "    }\n",
       "\n",
       "    .dataframe tbody tr th {\n",
       "        vertical-align: top;\n",
       "    }\n",
       "\n",
       "    .dataframe thead th {\n",
       "        text-align: right;\n",
       "    }\n",
       "</style>\n",
       "<table border=\"1\" class=\"dataframe\">\n",
       "  <thead>\n",
       "    <tr style=\"text-align: right;\">\n",
       "      <th></th>\n",
       "      <th>Counter</th>\n",
       "      <th>y</th>\n",
       "    </tr>\n",
       "  </thead>\n",
       "  <tbody>\n",
       "    <tr>\n",
       "      <th>4</th>\n",
       "      <td>1.4</td>\n",
       "      <td>0.1</td>\n",
       "    </tr>\n",
       "    <tr>\n",
       "      <th>5</th>\n",
       "      <td>1.5</td>\n",
       "      <td>0.2</td>\n",
       "    </tr>\n",
       "    <tr>\n",
       "      <th>6</th>\n",
       "      <td>1.6</td>\n",
       "      <td>0.2</td>\n",
       "    </tr>\n",
       "    <tr>\n",
       "      <th>7</th>\n",
       "      <td>1.7</td>\n",
       "      <td>0.2</td>\n",
       "    </tr>\n",
       "    <tr>\n",
       "      <th>8</th>\n",
       "      <td>1.8</td>\n",
       "      <td>0.3</td>\n",
       "    </tr>\n",
       "    <tr>\n",
       "      <th>9</th>\n",
       "      <td>1.9</td>\n",
       "      <td>0.3</td>\n",
       "    </tr>\n",
       "  </tbody>\n",
       "</table>\n",
       "</div>"
      ],
      "text/plain": [
       "   Counter    y\n",
       "4      1.4  0.1\n",
       "5      1.5  0.2\n",
       "6      1.6  0.2\n",
       "7      1.7  0.2\n",
       "8      1.8  0.3\n",
       "9      1.9  0.3"
      ]
     },
     "execution_count": 20,
     "metadata": {},
     "output_type": "execute_result"
    }
   ],
   "source": [
    "df[['Counter', 'y']][4:10]\n"
   ]
  },
  {
   "cell_type": "code",
   "execution_count": 21,
   "metadata": {
    "colab": {
     "base_uri": "https://localhost:8080/",
     "height": 235
    },
    "executionInfo": {
     "elapsed": 102,
     "status": "ok",
     "timestamp": 1626291499125,
     "user": {
      "displayName": "Mark Green",
      "photoUrl": "https://lh3.googleusercontent.com/a-/AOh14GiOe1PKHLNF7AZUblxI0U7WQ-caN1Wf2bkhENUr=s64",
      "userId": "16241478845361538440"
     },
     "user_tz": 240
    },
    "id": "QMFiAaqDbCcm",
    "outputId": "63b3268d-56a5-49a7-a8a1-9e33f5aa526c"
   },
   "outputs": [
    {
     "data": {
      "text/html": [
       "<div>\n",
       "<style scoped>\n",
       "    .dataframe tbody tr th:only-of-type {\n",
       "        vertical-align: middle;\n",
       "    }\n",
       "\n",
       "    .dataframe tbody tr th {\n",
       "        vertical-align: top;\n",
       "    }\n",
       "\n",
       "    .dataframe thead th {\n",
       "        text-align: right;\n",
       "    }\n",
       "</style>\n",
       "<table border=\"1\" class=\"dataframe\">\n",
       "  <thead>\n",
       "    <tr style=\"text-align: right;\">\n",
       "      <th></th>\n",
       "      <th>Counter</th>\n",
       "      <th>y</th>\n",
       "    </tr>\n",
       "  </thead>\n",
       "  <tbody>\n",
       "    <tr>\n",
       "      <th>4</th>\n",
       "      <td>1.4</td>\n",
       "      <td>0.1</td>\n",
       "    </tr>\n",
       "    <tr>\n",
       "      <th>5</th>\n",
       "      <td>1.5</td>\n",
       "      <td>0.2</td>\n",
       "    </tr>\n",
       "    <tr>\n",
       "      <th>6</th>\n",
       "      <td>1.6</td>\n",
       "      <td>0.2</td>\n",
       "    </tr>\n",
       "    <tr>\n",
       "      <th>7</th>\n",
       "      <td>1.7</td>\n",
       "      <td>0.2</td>\n",
       "    </tr>\n",
       "    <tr>\n",
       "      <th>8</th>\n",
       "      <td>1.8</td>\n",
       "      <td>0.3</td>\n",
       "    </tr>\n",
       "    <tr>\n",
       "      <th>9</th>\n",
       "      <td>1.9</td>\n",
       "      <td>0.3</td>\n",
       "    </tr>\n",
       "  </tbody>\n",
       "</table>\n",
       "</div>"
      ],
      "text/plain": [
       "   Counter    y\n",
       "4      1.4  0.1\n",
       "5      1.5  0.2\n",
       "6      1.6  0.2\n",
       "7      1.7  0.2\n",
       "8      1.8  0.3\n",
       "9      1.9  0.3"
      ]
     },
     "execution_count": 21,
     "metadata": {},
     "output_type": "execute_result"
    }
   ],
   "source": [
    "df.iloc[4:10, [0,2]]"
   ]
  },
  {
   "cell_type": "code",
   "execution_count": 22,
   "metadata": {
    "colab": {
     "base_uri": "https://localhost:8080/"
    },
    "executionInfo": {
     "elapsed": 141,
     "status": "ok",
     "timestamp": 1626291501385,
     "user": {
      "displayName": "Mark Green",
      "photoUrl": "https://lh3.googleusercontent.com/a-/AOh14GiOe1PKHLNF7AZUblxI0U7WQ-caN1Wf2bkhENUr=s64",
      "userId": "16241478845361538440"
     },
     "user_tz": 240
    },
    "id": "XlZ7t_tHbSuI",
    "outputId": "ce3b7b79-646f-4d60-d57a-ecf59cc57af4"
   },
   "outputs": [
    {
     "data": {
      "text/plain": [
       "array([[ 1. ,  1. ,  0. ],\n",
       "       [ 1.1,  0.9,  0. ],\n",
       "       [ 1.2,  0.8,  0.1],\n",
       "       [ 1.3,  0.8,  0.1],\n",
       "       [ 1.4,  0.7,  0.1],\n",
       "       [ 1.5,  0.7,  0.2],\n",
       "       [ 1.6,  0.6,  0.2],\n",
       "       [ 1.7,  0.6,  0.2],\n",
       "       [ 1.8,  0.6,  0.3],\n",
       "       [ 1.9,  0.5,  0.3],\n",
       "       [ 2. ,  0.5,  0.3],\n",
       "       [ 2.1,  0.5,  0.3],\n",
       "       [ 2.2,  0.5,  0.3],\n",
       "       [ 2.3,  0.4,  0.4],\n",
       "       [ 2.4,  0.4,  0.4],\n",
       "       [ 2.5,  0.4,  0.4],\n",
       "       [ 2.6,  0.4,  0.4],\n",
       "       [ 2.7,  0.4,  0.4],\n",
       "       [ 2.8,  0.4,  0.4],\n",
       "       [ 2.9,  0.3,  0.5],\n",
       "       [ 3. ,  0.3,  0.5],\n",
       "       [ 3.1,  0.3,  0.5],\n",
       "       [ 3.2,  0.3,  0.5],\n",
       "       [ 3.3,  0.3,  0.5],\n",
       "       [ 3.4,  0.3,  0.5],\n",
       "       [ 3.5,  0.3,  0.5],\n",
       "       [ 3.6,  0.3,  0.6],\n",
       "       [ 3.7,  0.3,  0.6],\n",
       "       [ 3.8,  0.3,  0.6],\n",
       "       [ 3.9,  0.3,  0.6],\n",
       "       [ 4. ,  0.2,  0.6],\n",
       "       [ 4.1,  0.2,  0.6],\n",
       "       [ 4.2,  0.2,  0.6],\n",
       "       [ 4.3,  0.2,  0.6],\n",
       "       [ 4.4,  0.2,  0.6],\n",
       "       [ 4.5,  0.2,  0.7],\n",
       "       [ 4.6,  0.2,  0.7],\n",
       "       [ 4.7,  0.2,  0.7],\n",
       "       [ 4.8,  0.2,  0.7],\n",
       "       [ 4.9,  0.2,  0.7],\n",
       "       [ 5. ,  0.2,  0.7],\n",
       "       [ 5.1,  0.2,  0.7],\n",
       "       [ 5.2,  0.2,  0.7],\n",
       "       [ 5.3,  0.2,  0.7],\n",
       "       [ 5.4,  0.2,  0.7],\n",
       "       [ 5.5,  0.2,  0.7],\n",
       "       [ 5.6,  0.2,  0.7],\n",
       "       [ 5.7,  0.2,  0.8],\n",
       "       [ 5.8,  0.2,  0.8],\n",
       "       [ 5.9,  0.2,  0.8],\n",
       "       [ 6. ,  0.2,  0.8],\n",
       "       [ 6.1,  0.2,  0.8],\n",
       "       [ 6.2,  0.2,  0.8],\n",
       "       [ 6.3,  0.2,  0.8],\n",
       "       [ 6.4,  0.2,  0.8],\n",
       "       [ 6.5,  0.2,  0.8],\n",
       "       [ 6.6,  0.2,  0.8],\n",
       "       [ 6.7,  0.1,  0.8],\n",
       "       [ 6.8,  0.1,  0.8],\n",
       "       [ 6.9,  0.1,  0.8],\n",
       "       [ 7. ,  0.1,  0.8],\n",
       "       [ 7.1,  0.1,  0.9],\n",
       "       [ 7.2,  0.1,  0.9],\n",
       "       [ 7.3,  0.1,  0.9],\n",
       "       [ 7.4,  0.1,  0.9],\n",
       "       [ 7.5,  0.1,  0.9],\n",
       "       [ 7.6,  0.1,  0.9],\n",
       "       [ 7.7,  0.1,  0.9],\n",
       "       [ 7.8,  0.1,  0.9],\n",
       "       [ 7.9,  0.1,  0.9],\n",
       "       [ 8. ,  0.1,  0.9],\n",
       "       [ 8.1,  0.1,  0.9],\n",
       "       [ 8.2,  0.1,  0.9],\n",
       "       [ 8.3,  0.1,  0.9],\n",
       "       [ 8.4,  0.1,  0.9],\n",
       "       [ 8.5,  0.1,  0.9],\n",
       "       [ 8.6,  0.1,  0.9],\n",
       "       [ 8.7,  0.1,  0.9],\n",
       "       [ 8.8,  0.1,  0.9],\n",
       "       [ 8.9,  0.1,  0.9],\n",
       "       [ 9. ,  0.1,  1. ],\n",
       "       [ 9.1,  0.1,  1. ],\n",
       "       [ 9.2,  0.1,  1. ],\n",
       "       [ 9.3,  0.1,  1. ],\n",
       "       [ 9.4,  0.1,  1. ],\n",
       "       [ 9.5,  0.1,  1. ],\n",
       "       [ 9.6,  0.1,  1. ],\n",
       "       [ 9.7,  0.1,  1. ],\n",
       "       [ 9.8,  0.1,  1. ],\n",
       "       [ 9.9,  0.1,  1. ],\n",
       "       [10. ,  0.1,  1. ],\n",
       "       [10.1,  0.1,  1. ],\n",
       "       [10.2,  0.1,  1. ],\n",
       "       [10.3,  0.1,  1. ],\n",
       "       [10.4,  0.1,  1. ],\n",
       "       [10.5,  0.1,  1. ],\n",
       "       [10.6,  0.1,  1. ],\n",
       "       [10.7,  0.1,  1. ],\n",
       "       [10.8,  0.1,  1. ],\n",
       "       [10.9,  0.1,  1. ]])"
      ]
     },
     "execution_count": 22,
     "metadata": {},
     "output_type": "execute_result"
    }
   ],
   "source": [
    "df.values"
   ]
  },
  {
   "cell_type": "code",
   "execution_count": 23,
   "metadata": {
    "colab": {
     "base_uri": "https://localhost:8080/"
    },
    "executionInfo": {
     "elapsed": 110,
     "status": "ok",
     "timestamp": 1626291506950,
     "user": {
      "displayName": "Mark Green",
      "photoUrl": "https://lh3.googleusercontent.com/a-/AOh14GiOe1PKHLNF7AZUblxI0U7WQ-caN1Wf2bkhENUr=s64",
      "userId": "16241478845361538440"
     },
     "user_tz": 240
    },
    "id": "EKzSgHXebU8i",
    "outputId": "148a1e4f-271e-4f52-9852-ace21a8c5fd6"
   },
   "outputs": [
    {
     "data": {
      "text/plain": [
       "array([0. , 0. , 0.1, 0.1, 0.1, 0.2, 0.2, 0.2, 0.3, 0.3, 0.3, 0.3, 0.3,\n",
       "       0.4, 0.4, 0.4, 0.4, 0.4, 0.4, 0.5, 0.5, 0.5, 0.5, 0.5, 0.5, 0.5,\n",
       "       0.6, 0.6, 0.6, 0.6, 0.6, 0.6, 0.6, 0.6, 0.6, 0.7, 0.7, 0.7, 0.7,\n",
       "       0.7, 0.7, 0.7, 0.7, 0.7, 0.7, 0.7, 0.7, 0.8, 0.8, 0.8, 0.8, 0.8,\n",
       "       0.8, 0.8, 0.8, 0.8, 0.8, 0.8, 0.8, 0.8, 0.8, 0.9, 0.9, 0.9, 0.9,\n",
       "       0.9, 0.9, 0.9, 0.9, 0.9, 0.9, 0.9, 0.9, 0.9, 0.9, 0.9, 0.9, 0.9,\n",
       "       0.9, 0.9, 1. , 1. , 1. , 1. , 1. , 1. , 1. , 1. , 1. , 1. , 1. ,\n",
       "       1. , 1. , 1. , 1. , 1. , 1. , 1. , 1. , 1. ])"
      ]
     },
     "execution_count": 23,
     "metadata": {},
     "output_type": "execute_result"
    }
   ],
   "source": [
    "df.y.values"
   ]
  },
  {
   "cell_type": "markdown",
   "metadata": {
    "id": "NqUH2XfBf_pS"
   },
   "source": [
    "#### Grouping \n",
    "\n",
    "* Pandas offers functions to handle data, including missing data. nan's {\"Not-A-Number\"\n",
    "* It allows for pivoting for more efficient data manipulation\n",
    "* You can group respondents by gender"
   ]
  },
  {
   "cell_type": "code",
   "execution_count": 24,
   "metadata": {
    "id": "1Q9QwFimf8K2"
   },
   "outputs": [],
   "source": [
    "import pandas as pd\n",
    "import matplotlib.pyplot as plt"
   ]
  },
  {
   "cell_type": "code",
   "execution_count": 25,
   "metadata": {
    "colab": {
     "base_uri": "https://localhost:8080/",
     "height": 173
    },
    "executionInfo": {
     "elapsed": 127,
     "status": "ok",
     "timestamp": 1626291564381,
     "user": {
      "displayName": "Mark Green",
      "photoUrl": "https://lh3.googleusercontent.com/a-/AOh14GiOe1PKHLNF7AZUblxI0U7WQ-caN1Wf2bkhENUr=s64",
      "userId": "16241478845361538440"
     },
     "user_tz": 240
    },
    "id": "FWCok0LsgDc_",
    "outputId": "bdcd0720-46ad-4ad2-d938-9c195f96cfa4"
   },
   "outputs": [
    {
     "data": {
      "text/html": [
       "<div>\n",
       "<style scoped>\n",
       "    .dataframe tbody tr th:only-of-type {\n",
       "        vertical-align: middle;\n",
       "    }\n",
       "\n",
       "    .dataframe tbody tr th {\n",
       "        vertical-align: top;\n",
       "    }\n",
       "\n",
       "    .dataframe thead tr th {\n",
       "        text-align: left;\n",
       "    }\n",
       "\n",
       "    .dataframe thead tr:last-of-type th {\n",
       "        text-align: right;\n",
       "    }\n",
       "</style>\n",
       "<table border=\"1\" class=\"dataframe\">\n",
       "  <thead>\n",
       "    <tr>\n",
       "      <th></th>\n",
       "      <th colspan=\"8\" halign=\"left\">GPA</th>\n",
       "    </tr>\n",
       "    <tr>\n",
       "      <th></th>\n",
       "      <th>count</th>\n",
       "      <th>mean</th>\n",
       "      <th>std</th>\n",
       "      <th>min</th>\n",
       "      <th>25%</th>\n",
       "      <th>50%</th>\n",
       "      <th>75%</th>\n",
       "      <th>max</th>\n",
       "    </tr>\n",
       "    <tr>\n",
       "      <th>Sex</th>\n",
       "      <th></th>\n",
       "      <th></th>\n",
       "      <th></th>\n",
       "      <th></th>\n",
       "      <th></th>\n",
       "      <th></th>\n",
       "      <th></th>\n",
       "      <th></th>\n",
       "    </tr>\n",
       "  </thead>\n",
       "  <tbody>\n",
       "    <tr>\n",
       "      <th>F</th>\n",
       "      <td>5.0</td>\n",
       "      <td>3.428</td>\n",
       "      <td>0.223204</td>\n",
       "      <td>3.19</td>\n",
       "      <td>3.26</td>\n",
       "      <td>3.41</td>\n",
       "      <td>3.53</td>\n",
       "      <td>3.75</td>\n",
       "    </tr>\n",
       "    <tr>\n",
       "      <th>M</th>\n",
       "      <td>6.0</td>\n",
       "      <td>3.090</td>\n",
       "      <td>0.871711</td>\n",
       "      <td>2.14</td>\n",
       "      <td>2.28</td>\n",
       "      <td>3.17</td>\n",
       "      <td>3.85</td>\n",
       "      <td>4.00</td>\n",
       "    </tr>\n",
       "  </tbody>\n",
       "</table>\n",
       "</div>"
      ],
      "text/plain": [
       "      GPA                                               \n",
       "    count   mean       std   min   25%   50%   75%   max\n",
       "Sex                                                     \n",
       "F     5.0  3.428  0.223204  3.19  3.26  3.41  3.53  3.75\n",
       "M     6.0  3.090  0.871711  2.14  2.28  3.17  3.85  4.00"
      ]
     },
     "execution_count": 25,
     "metadata": {},
     "output_type": "execute_result"
    }
   ],
   "source": [
    "data = pd.DataFrame({\n",
    "    'Sex': ['F', 'F', 'M', 'F', 'M',\n",
    "              'M', 'F','M', 'F', 'M', 'M'],\n",
    "    'GPA' : [3.41, 3.53, 2.67, 3.19, 4., 2.15, 3.26, 3.91, 3.75, 2.14, 3.67]\n",
    "})\n",
    "\n",
    "grouped = data.groupby('Sex')\n",
    "grouped.describe()"
   ]
  },
  {
   "cell_type": "code",
   "execution_count": 26,
   "metadata": {
    "colab": {
     "base_uri": "https://localhost:8080/",
     "height": 280
    },
    "executionInfo": {
     "elapsed": 415,
     "status": "ok",
     "timestamp": 1626291697011,
     "user": {
      "displayName": "Mark Green",
      "photoUrl": "https://lh3.googleusercontent.com/a-/AOh14GiOe1PKHLNF7AZUblxI0U7WQ-caN1Wf2bkhENUr=s64",
      "userId": "16241478845361538440"
     },
     "user_tz": 240
    },
    "id": "Xa60CuL4gQl7",
    "outputId": "4c88ee72-8037-429f-af85-7df202c7e3da"
   },
   "outputs": [
    {
     "data": {
      "image/png": "[encoded data removed]",
      "text/plain": [
       "<Figure size 432x288 with 2 Axes>"
      ]
     },
     "metadata": {
      "needs_background": "light"
     },
     "output_type": "display_data"
    }
   ],
   "source": [
    "grouped.boxplot()\n",
    "plt.show()"
   ]
  },
  {
   "cell_type": "code",
   "execution_count": 27,
   "metadata": {
    "colab": {
     "base_uri": "https://localhost:8080/",
     "height": 204
    },
    "executionInfo": {
     "elapsed": 95,
     "status": "ok",
     "timestamp": 1626291706436,
     "user": {
      "displayName": "Mark Green",
      "photoUrl": "https://lh3.googleusercontent.com/a-/AOh14GiOe1PKHLNF7AZUblxI0U7WQ-caN1Wf2bkhENUr=s64",
      "userId": "16241478845361538440"
     },
     "user_tz": 240
    },
    "id": "SohrgHuZgTf3",
    "outputId": "c359c624-0480-49f6-980d-fce22a651895"
   },
   "outputs": [
    {
     "data": {
      "text/html": [
       "<div>\n",
       "<style scoped>\n",
       "    .dataframe tbody tr th:only-of-type {\n",
       "        vertical-align: middle;\n",
       "    }\n",
       "\n",
       "    .dataframe tbody tr th {\n",
       "        vertical-align: top;\n",
       "    }\n",
       "\n",
       "    .dataframe thead th {\n",
       "        text-align: right;\n",
       "    }\n",
       "</style>\n",
       "<table border=\"1\" class=\"dataframe\">\n",
       "  <thead>\n",
       "    <tr style=\"text-align: right;\">\n",
       "      <th></th>\n",
       "      <th>Sex</th>\n",
       "      <th>GPA</th>\n",
       "    </tr>\n",
       "  </thead>\n",
       "  <tbody>\n",
       "    <tr>\n",
       "      <th>0</th>\n",
       "      <td>F</td>\n",
       "      <td>3.41</td>\n",
       "    </tr>\n",
       "    <tr>\n",
       "      <th>1</th>\n",
       "      <td>F</td>\n",
       "      <td>3.53</td>\n",
       "    </tr>\n",
       "    <tr>\n",
       "      <th>3</th>\n",
       "      <td>F</td>\n",
       "      <td>3.19</td>\n",
       "    </tr>\n",
       "    <tr>\n",
       "      <th>6</th>\n",
       "      <td>F</td>\n",
       "      <td>3.26</td>\n",
       "    </tr>\n",
       "    <tr>\n",
       "      <th>8</th>\n",
       "      <td>F</td>\n",
       "      <td>3.75</td>\n",
       "    </tr>\n",
       "  </tbody>\n",
       "</table>\n",
       "</div>"
      ],
      "text/plain": [
       "  Sex   GPA\n",
       "0   F  3.41\n",
       "1   F  3.53\n",
       "3   F  3.19\n",
       "6   F  3.26\n",
       "8   F  3.75"
      ]
     },
     "execution_count": 27,
     "metadata": {},
     "output_type": "execute_result"
    }
   ],
   "source": [
    "# Show only the female \n",
    "df_F = grouped.get_group('F')\n",
    "df_F"
   ]
  },
  {
   "cell_type": "code",
   "execution_count": 28,
   "metadata": {
    "colab": {
     "base_uri": "https://localhost:8080/"
    },
    "executionInfo": {
     "elapsed": 474,
     "status": "ok",
     "timestamp": 1626291711258,
     "user": {
      "displayName": "Mark Green",
      "photoUrl": "https://lh3.googleusercontent.com/a-/AOh14GiOe1PKHLNF7AZUblxI0U7WQ-caN1Wf2bkhENUr=s64",
      "userId": "16241478845361538440"
     },
     "user_tz": 240
    },
    "id": "W6Vc7cHMgXHl",
    "outputId": "2c58ef96-d3b7-43b3-d331-ec113f2e60a3"
   },
   "outputs": [],
   "source": [
    "import numpy as np\n",
    "import pandas as pd\n",
    "import statsmodels.formula.api as sm\n",
    "import seaborn as sns"
   ]
  },
  {
   "cell_type": "code",
   "execution_count": 29,
   "metadata": {
    "colab": {
     "base_uri": "https://localhost:8080/",
     "height": 265
    },
    "executionInfo": {
     "elapsed": 379,
     "status": "ok",
     "timestamp": 1626291787554,
     "user": {
      "displayName": "Mark Green",
      "photoUrl": "https://lh3.googleusercontent.com/a-/AOh14GiOe1PKHLNF7AZUblxI0U7WQ-caN1Wf2bkhENUr=s64",
      "userId": "16241478845361538440"
     },
     "user_tz": 240
    },
    "id": "lFSN3dfJgb0f",
    "outputId": "a771fcaf-d969-4f4e-8a15-5f13908ffd37"
   },
   "outputs": [
    {
     "data": {
      "image/png": "[encoded data removed]",
      "text/plain": [
       "<Figure size 432x288 with 1 Axes>"
      ]
     },
     "metadata": {
      "needs_background": "light"
     },
     "output_type": "display_data"
    }
   ],
   "source": [
    "# Generate a noisy line and save the data in a pandas dataframe\n",
    "x = np.arange(100)\n",
    "y = 2.25*x - 6 + np.random.randn(len(x))\n",
    "\n",
    "df = pd.DataFrame({'x':x, 'y':y})\n",
    "\n",
    "sns.regplot(x = x, y = y, data = df)\n",
    "plt.show()"
   ]
  },
  {
   "cell_type": "markdown",
   "metadata": {
    "id": "OCifSxykgp7c"
   },
   "source": [
    "IPEDS Data "
   ]
  },
  {
   "cell_type": "code",
   "execution_count": 30,
   "metadata": {
    "id": "Xw2guQ8IjNXV"
   },
   "outputs": [],
   "source": [
    "# These are the common ways to import the packages as pd, np, etc... you can import them, however; you'd like. \n",
    "import pandas as pd\n",
    "import numpy as np\n",
    "import matplotlib.pyplot as plt\n",
    "import seaborn as sns\n",
    "\n",
    "# We are setting our style for printing graphics. \n",
    "sns.set_style('whitegrid')"
   ]
  },
  {
   "cell_type": "markdown",
   "metadata": {
    "id": "nAnTD1_thC__"
   },
   "source": [
    "## Load the Data"
   ]
  },
  {
   "cell_type": "code",
   "execution_count": 32,
   "metadata": {
    "id": "Nct8ulLbrl3F"
   },
   "outputs": [
    {
     "ename": "FileNotFoundError",
     "evalue": "[Errno 2] No such file or directory: '//content//drive//MyDrive//Python for Excel//HD2019.txt'",
     "output_type": "error",
     "traceback": [
      "\u001b[1;31m---------------------------------------------------------------------------\u001b[0m",
      "\u001b[1;31mFileNotFoundError\u001b[0m                         Traceback (most recent call last)",
      "\u001b[1;32m<ipython-input-32-ee8b548194f0>\u001b[0m in \u001b[0;36m<module>\u001b[1;34m\u001b[0m\n\u001b[1;32m----> 1\u001b[1;33m \u001b[0mdf\u001b[0m \u001b[1;33m=\u001b[0m \u001b[0mpd\u001b[0m\u001b[1;33m.\u001b[0m\u001b[0mread_csv\u001b[0m\u001b[1;33m(\u001b[0m\u001b[1;34m'//content//drive//MyDrive//Python for Excel//HD2019.txt'\u001b[0m\u001b[1;33m,\u001b[0m \u001b[0mencoding\u001b[0m \u001b[1;33m=\u001b[0m \u001b[1;34m'latin'\u001b[0m\u001b[1;33m)\u001b[0m\u001b[1;33m\u001b[0m\u001b[1;33m\u001b[0m\u001b[0m\n\u001b[0m",
      "\u001b[1;32mc:\\users\\mgreen2\\appdata\\local\\programs\\python\\python37\\lib\\site-packages\\pandas\\io\\parsers.py\u001b[0m in \u001b[0;36mread_csv\u001b[1;34m(filepath_or_buffer, sep, delimiter, header, names, index_col, usecols, squeeze, prefix, mangle_dupe_cols, dtype, engine, converters, true_values, false_values, skipinitialspace, skiprows, skipfooter, nrows, na_values, keep_default_na, na_filter, verbose, skip_blank_lines, parse_dates, infer_datetime_format, keep_date_col, date_parser, dayfirst, cache_dates, iterator, chunksize, compression, thousands, decimal, lineterminator, quotechar, quoting, doublequote, escapechar, comment, encoding, dialect, error_bad_lines, warn_bad_lines, delim_whitespace, low_memory, memory_map, float_precision, storage_options)\u001b[0m\n\u001b[0;32m    608\u001b[0m     \u001b[0mkwds\u001b[0m\u001b[1;33m.\u001b[0m\u001b[0mupdate\u001b[0m\u001b[1;33m(\u001b[0m\u001b[0mkwds_defaults\u001b[0m\u001b[1;33m)\u001b[0m\u001b[1;33m\u001b[0m\u001b[1;33m\u001b[0m\u001b[0m\n\u001b[0;32m    609\u001b[0m \u001b[1;33m\u001b[0m\u001b[0m\n\u001b[1;32m--> 610\u001b[1;33m     \u001b[1;32mreturn\u001b[0m \u001b[0m_read\u001b[0m\u001b[1;33m(\u001b[0m\u001b[0mfilepath_or_buffer\u001b[0m\u001b[1;33m,\u001b[0m \u001b[0mkwds\u001b[0m\u001b[1;33m)\u001b[0m\u001b[1;33m\u001b[0m\u001b[1;33m\u001b[0m\u001b[0m\n\u001b[0m\u001b[0;32m    611\u001b[0m \u001b[1;33m\u001b[0m\u001b[0m\n\u001b[0;32m    612\u001b[0m \u001b[1;33m\u001b[0m\u001b[0m\n",
      "\u001b[1;32mc:\\users\\mgreen2\\appdata\\local\\programs\\python\\python37\\lib\\site-packages\\pandas\\io\\parsers.py\u001b[0m in \u001b[0;36m_read\u001b[1;34m(filepath_or_buffer, kwds)\u001b[0m\n\u001b[0;32m    460\u001b[0m \u001b[1;33m\u001b[0m\u001b[0m\n\u001b[0;32m    461\u001b[0m     \u001b[1;31m# Create the parser.\u001b[0m\u001b[1;33m\u001b[0m\u001b[1;33m\u001b[0m\u001b[1;33m\u001b[0m\u001b[0m\n\u001b[1;32m--> 462\u001b[1;33m     \u001b[0mparser\u001b[0m \u001b[1;33m=\u001b[0m \u001b[0mTextFileReader\u001b[0m\u001b[1;33m(\u001b[0m\u001b[0mfilepath_or_buffer\u001b[0m\u001b[1;33m,\u001b[0m \u001b[1;33m**\u001b[0m\u001b[0mkwds\u001b[0m\u001b[1;33m)\u001b[0m\u001b[1;33m\u001b[0m\u001b[1;33m\u001b[0m\u001b[0m\n\u001b[0m\u001b[0;32m    463\u001b[0m \u001b[1;33m\u001b[0m\u001b[0m\n\u001b[0;32m    464\u001b[0m     \u001b[1;32mif\u001b[0m \u001b[0mchunksize\u001b[0m \u001b[1;32mor\u001b[0m \u001b[0miterator\u001b[0m\u001b[1;33m:\u001b[0m\u001b[1;33m\u001b[0m\u001b[1;33m\u001b[0m\u001b[0m\n",
      "\u001b[1;32mc:\\users\\mgreen2\\appdata\\local\\programs\\python\\python37\\lib\\site-packages\\pandas\\io\\parsers.py\u001b[0m in \u001b[0;36m__init__\u001b[1;34m(self, f, engine, **kwds)\u001b[0m\n\u001b[0;32m    817\u001b[0m             \u001b[0mself\u001b[0m\u001b[1;33m.\u001b[0m\u001b[0moptions\u001b[0m\u001b[1;33m[\u001b[0m\u001b[1;34m\"has_index_names\"\u001b[0m\u001b[1;33m]\u001b[0m \u001b[1;33m=\u001b[0m \u001b[0mkwds\u001b[0m\u001b[1;33m[\u001b[0m\u001b[1;34m\"has_index_names\"\u001b[0m\u001b[1;33m]\u001b[0m\u001b[1;33m\u001b[0m\u001b[1;33m\u001b[0m\u001b[0m\n\u001b[0;32m    818\u001b[0m \u001b[1;33m\u001b[0m\u001b[0m\n\u001b[1;32m--> 819\u001b[1;33m         \u001b[0mself\u001b[0m\u001b[1;33m.\u001b[0m\u001b[0m_engine\u001b[0m \u001b[1;33m=\u001b[0m \u001b[0mself\u001b[0m\u001b[1;33m.\u001b[0m\u001b[0m_make_engine\u001b[0m\u001b[1;33m(\u001b[0m\u001b[0mself\u001b[0m\u001b[1;33m.\u001b[0m\u001b[0mengine\u001b[0m\u001b[1;33m)\u001b[0m\u001b[1;33m\u001b[0m\u001b[1;33m\u001b[0m\u001b[0m\n\u001b[0m\u001b[0;32m    820\u001b[0m \u001b[1;33m\u001b[0m\u001b[0m\n\u001b[0;32m    821\u001b[0m     \u001b[1;32mdef\u001b[0m \u001b[0mclose\u001b[0m\u001b[1;33m(\u001b[0m\u001b[0mself\u001b[0m\u001b[1;33m)\u001b[0m\u001b[1;33m:\u001b[0m\u001b[1;33m\u001b[0m\u001b[1;33m\u001b[0m\u001b[0m\n",
      "\u001b[1;32mc:\\users\\mgreen2\\appdata\\local\\programs\\python\\python37\\lib\\site-packages\\pandas\\io\\parsers.py\u001b[0m in \u001b[0;36m_make_engine\u001b[1;34m(self, engine)\u001b[0m\n\u001b[0;32m   1048\u001b[0m             )\n\u001b[0;32m   1049\u001b[0m         \u001b[1;31m# error: Too many arguments for \"ParserBase\"\u001b[0m\u001b[1;33m\u001b[0m\u001b[1;33m\u001b[0m\u001b[1;33m\u001b[0m\u001b[0m\n\u001b[1;32m-> 1050\u001b[1;33m         \u001b[1;32mreturn\u001b[0m \u001b[0mmapping\u001b[0m\u001b[1;33m[\u001b[0m\u001b[0mengine\u001b[0m\u001b[1;33m]\u001b[0m\u001b[1;33m(\u001b[0m\u001b[0mself\u001b[0m\u001b[1;33m.\u001b[0m\u001b[0mf\u001b[0m\u001b[1;33m,\u001b[0m \u001b[1;33m**\u001b[0m\u001b[0mself\u001b[0m\u001b[1;33m.\u001b[0m\u001b[0moptions\u001b[0m\u001b[1;33m)\u001b[0m  \u001b[1;31m# type: ignore[call-arg]\u001b[0m\u001b[1;33m\u001b[0m\u001b[1;33m\u001b[0m\u001b[0m\n\u001b[0m\u001b[0;32m   1051\u001b[0m \u001b[1;33m\u001b[0m\u001b[0m\n\u001b[0;32m   1052\u001b[0m     \u001b[1;32mdef\u001b[0m \u001b[0m_failover_to_python\u001b[0m\u001b[1;33m(\u001b[0m\u001b[0mself\u001b[0m\u001b[1;33m)\u001b[0m\u001b[1;33m:\u001b[0m\u001b[1;33m\u001b[0m\u001b[1;33m\u001b[0m\u001b[0m\n",
      "\u001b[1;32mc:\\users\\mgreen2\\appdata\\local\\programs\\python\\python37\\lib\\site-packages\\pandas\\io\\parsers.py\u001b[0m in \u001b[0;36m__init__\u001b[1;34m(self, src, **kwds)\u001b[0m\n\u001b[0;32m   1865\u001b[0m \u001b[1;33m\u001b[0m\u001b[0m\n\u001b[0;32m   1866\u001b[0m         \u001b[1;31m# open handles\u001b[0m\u001b[1;33m\u001b[0m\u001b[1;33m\u001b[0m\u001b[1;33m\u001b[0m\u001b[0m\n\u001b[1;32m-> 1867\u001b[1;33m         \u001b[0mself\u001b[0m\u001b[1;33m.\u001b[0m\u001b[0m_open_handles\u001b[0m\u001b[1;33m(\u001b[0m\u001b[0msrc\u001b[0m\u001b[1;33m,\u001b[0m \u001b[0mkwds\u001b[0m\u001b[1;33m)\u001b[0m\u001b[1;33m\u001b[0m\u001b[1;33m\u001b[0m\u001b[0m\n\u001b[0m\u001b[0;32m   1868\u001b[0m         \u001b[1;32massert\u001b[0m \u001b[0mself\u001b[0m\u001b[1;33m.\u001b[0m\u001b[0mhandles\u001b[0m \u001b[1;32mis\u001b[0m \u001b[1;32mnot\u001b[0m \u001b[1;32mNone\u001b[0m\u001b[1;33m\u001b[0m\u001b[1;33m\u001b[0m\u001b[0m\n\u001b[0;32m   1869\u001b[0m         \u001b[1;32mfor\u001b[0m \u001b[0mkey\u001b[0m \u001b[1;32min\u001b[0m \u001b[1;33m(\u001b[0m\u001b[1;34m\"storage_options\"\u001b[0m\u001b[1;33m,\u001b[0m \u001b[1;34m\"encoding\"\u001b[0m\u001b[1;33m,\u001b[0m \u001b[1;34m\"memory_map\"\u001b[0m\u001b[1;33m,\u001b[0m \u001b[1;34m\"compression\"\u001b[0m\u001b[1;33m)\u001b[0m\u001b[1;33m:\u001b[0m\u001b[1;33m\u001b[0m\u001b[1;33m\u001b[0m\u001b[0m\n",
      "\u001b[1;32mc:\\users\\mgreen2\\appdata\\local\\programs\\python\\python37\\lib\\site-packages\\pandas\\io\\parsers.py\u001b[0m in \u001b[0;36m_open_handles\u001b[1;34m(self, src, kwds)\u001b[0m\n\u001b[0;32m   1366\u001b[0m             \u001b[0mcompression\u001b[0m\u001b[1;33m=\u001b[0m\u001b[0mkwds\u001b[0m\u001b[1;33m.\u001b[0m\u001b[0mget\u001b[0m\u001b[1;33m(\u001b[0m\u001b[1;34m\"compression\"\u001b[0m\u001b[1;33m,\u001b[0m \u001b[1;32mNone\u001b[0m\u001b[1;33m)\u001b[0m\u001b[1;33m,\u001b[0m\u001b[1;33m\u001b[0m\u001b[1;33m\u001b[0m\u001b[0m\n\u001b[0;32m   1367\u001b[0m             \u001b[0mmemory_map\u001b[0m\u001b[1;33m=\u001b[0m\u001b[0mkwds\u001b[0m\u001b[1;33m.\u001b[0m\u001b[0mget\u001b[0m\u001b[1;33m(\u001b[0m\u001b[1;34m\"memory_map\"\u001b[0m\u001b[1;33m,\u001b[0m \u001b[1;32mFalse\u001b[0m\u001b[1;33m)\u001b[0m\u001b[1;33m,\u001b[0m\u001b[1;33m\u001b[0m\u001b[1;33m\u001b[0m\u001b[0m\n\u001b[1;32m-> 1368\u001b[1;33m             \u001b[0mstorage_options\u001b[0m\u001b[1;33m=\u001b[0m\u001b[0mkwds\u001b[0m\u001b[1;33m.\u001b[0m\u001b[0mget\u001b[0m\u001b[1;33m(\u001b[0m\u001b[1;34m\"storage_options\"\u001b[0m\u001b[1;33m,\u001b[0m \u001b[1;32mNone\u001b[0m\u001b[1;33m)\u001b[0m\u001b[1;33m,\u001b[0m\u001b[1;33m\u001b[0m\u001b[1;33m\u001b[0m\u001b[0m\n\u001b[0m\u001b[0;32m   1369\u001b[0m         )\n\u001b[0;32m   1370\u001b[0m \u001b[1;33m\u001b[0m\u001b[0m\n",
      "\u001b[1;32mc:\\users\\mgreen2\\appdata\\local\\programs\\python\\python37\\lib\\site-packages\\pandas\\io\\common.py\u001b[0m in \u001b[0;36mget_handle\u001b[1;34m(path_or_buf, mode, encoding, compression, memory_map, is_text, errors, storage_options)\u001b[0m\n\u001b[0;32m    645\u001b[0m                 \u001b[0mencoding\u001b[0m\u001b[1;33m=\u001b[0m\u001b[0mioargs\u001b[0m\u001b[1;33m.\u001b[0m\u001b[0mencoding\u001b[0m\u001b[1;33m,\u001b[0m\u001b[1;33m\u001b[0m\u001b[1;33m\u001b[0m\u001b[0m\n\u001b[0;32m    646\u001b[0m                 \u001b[0merrors\u001b[0m\u001b[1;33m=\u001b[0m\u001b[0merrors\u001b[0m\u001b[1;33m,\u001b[0m\u001b[1;33m\u001b[0m\u001b[1;33m\u001b[0m\u001b[0m\n\u001b[1;32m--> 647\u001b[1;33m                 \u001b[0mnewline\u001b[0m\u001b[1;33m=\u001b[0m\u001b[1;34m\"\"\u001b[0m\u001b[1;33m,\u001b[0m\u001b[1;33m\u001b[0m\u001b[1;33m\u001b[0m\u001b[0m\n\u001b[0m\u001b[0;32m    648\u001b[0m             )\n\u001b[0;32m    649\u001b[0m         \u001b[1;32melse\u001b[0m\u001b[1;33m:\u001b[0m\u001b[1;33m\u001b[0m\u001b[1;33m\u001b[0m\u001b[0m\n",
      "\u001b[1;31mFileNotFoundError\u001b[0m: [Errno 2] No such file or directory: '//content//drive//MyDrive//Python for Excel//HD2019.txt'"
     ]
    }
   ],
   "source": [
    "df = pd.read_csv('//content//drive//MyDrive//Python for Excel//HD2019.txt', encoding = 'latin')"
   ]
  },
  {
   "cell_type": "markdown",
   "metadata": {
    "id": "VPN1BBcAg_Zr"
   },
   "source": [
    "## Clean and Explore the Dataset"
   ]
  },
  {
   "cell_type": "code",
   "execution_count": null,
   "metadata": {
    "colab": {
     "base_uri": "https://localhost:8080/",
     "height": 547
    },
    "executionInfo": {
     "elapsed": 217,
     "status": "ok",
     "timestamp": 1626291849692,
     "user": {
      "displayName": "Mark Green",
      "photoUrl": "https://lh3.googleusercontent.com/a-/AOh14GiOe1PKHLNF7AZUblxI0U7WQ-caN1Wf2bkhENUr=s64",
      "userId": "16241478845361538440"
     },
     "user_tz": 240
    },
    "id": "XhwhKdLBr0NS",
    "outputId": "2fcbe4d6-588c-4ffe-e471-4cca64f645da"
   },
   "outputs": [],
   "source": [
    "df.head()"
   ]
  },
  {
   "cell_type": "code",
   "execution_count": null,
   "metadata": {
    "colab": {
     "base_uri": "https://localhost:8080/",
     "height": 530
    },
    "executionInfo": {
     "elapsed": 141,
     "status": "ok",
     "timestamp": 1626291853768,
     "user": {
      "displayName": "Mark Green",
      "photoUrl": "https://lh3.googleusercontent.com/a-/AOh14GiOe1PKHLNF7AZUblxI0U7WQ-caN1Wf2bkhENUr=s64",
      "userId": "16241478845361538440"
     },
     "user_tz": 240
    },
    "id": "ZCUsX-lAr5w8",
    "outputId": "3eabe333-1d5e-4041-de96-31f4bc72b43c"
   },
   "outputs": [],
   "source": [
    "df.tail()"
   ]
  },
  {
   "cell_type": "code",
   "execution_count": null,
   "metadata": {
    "colab": {
     "base_uri": "https://localhost:8080/"
    },
    "executionInfo": {
     "elapsed": 101,
     "status": "ok",
     "timestamp": 1626291855967,
     "user": {
      "displayName": "Mark Green",
      "photoUrl": "https://lh3.googleusercontent.com/a-/AOh14GiOe1PKHLNF7AZUblxI0U7WQ-caN1Wf2bkhENUr=s64",
      "userId": "16241478845361538440"
     },
     "user_tz": 240
    },
    "id": "b4eorv40r7eS",
    "outputId": "37bc55dc-049d-4d60-ce1a-eb1d4f6c163a"
   },
   "outputs": [],
   "source": [
    "df.info()"
   ]
  },
  {
   "cell_type": "code",
   "execution_count": null,
   "metadata": {
    "colab": {
     "base_uri": "https://localhost:8080/"
    },
    "executionInfo": {
     "elapsed": 110,
     "status": "ok",
     "timestamp": 1626291861389,
     "user": {
      "displayName": "Mark Green",
      "photoUrl": "https://lh3.googleusercontent.com/a-/AOh14GiOe1PKHLNF7AZUblxI0U7WQ-caN1Wf2bkhENUr=s64",
      "userId": "16241478845361538440"
     },
     "user_tz": 240
    },
    "id": "p1uxh2BFjBPH",
    "outputId": "801feff3-a37c-4f3d-ce5e-0545b13eaaa2"
   },
   "outputs": [],
   "source": [
    "df.columns"
   ]
  },
  {
   "cell_type": "code",
   "execution_count": null,
   "metadata": {
    "id": "iX7669HHgKAl"
   },
   "outputs": [],
   "source": [
    "hd = df[['UNITID', 'INSTNM', 'IALIAS', 'CITY', 'STABBR', 'ZIP', 'CHFNM', 'CHFTITLE', 'OPEID', 'SECTOR', 'HBCU']]"
   ]
  },
  {
   "cell_type": "code",
   "execution_count": null,
   "metadata": {
    "colab": {
     "base_uri": "https://localhost:8080/",
     "height": 204
    },
    "executionInfo": {
     "elapsed": 105,
     "status": "ok",
     "timestamp": 1626291925812,
     "user": {
      "displayName": "Mark Green",
      "photoUrl": "https://lh3.googleusercontent.com/a-/AOh14GiOe1PKHLNF7AZUblxI0U7WQ-caN1Wf2bkhENUr=s64",
      "userId": "16241478845361538440"
     },
     "user_tz": 240
    },
    "id": "Yu3KBaiOjWJ7",
    "outputId": "d5734fcd-ab34-44b4-f68d-a74273a62342"
   },
   "outputs": [],
   "source": [
    "hd.head()"
   ]
  },
  {
   "cell_type": "code",
   "execution_count": null,
   "metadata": {
    "colab": {
     "base_uri": "https://localhost:8080/"
    },
    "executionInfo": {
     "elapsed": 132,
     "status": "ok",
     "timestamp": 1626293127479,
     "user": {
      "displayName": "Mark Green",
      "photoUrl": "https://lh3.googleusercontent.com/a-/AOh14GiOe1PKHLNF7AZUblxI0U7WQ-caN1Wf2bkhENUr=s64",
      "userId": "16241478845361538440"
     },
     "user_tz": 240
    },
    "id": "7QQtPYvXneu6",
    "outputId": "46963ef2-1670-47eb-e04e-7266aef604f9"
   },
   "outputs": [],
   "source": [
    "for c in hd.iloc[:,1:].columns:\n",
    "  print(str(c) + \"\\n\" + str(hd[c].value_counts()))"
   ]
  },
  {
   "cell_type": "code",
   "execution_count": null,
   "metadata": {
    "colab": {
     "base_uri": "https://localhost:8080/",
     "height": 513
    },
    "executionInfo": {
     "elapsed": 378,
     "status": "ok",
     "timestamp": 1626291976344,
     "user": {
      "displayName": "Mark Green",
      "photoUrl": "https://lh3.googleusercontent.com/a-/AOh14GiOe1PKHLNF7AZUblxI0U7WQ-caN1Wf2bkhENUr=s64",
      "userId": "16241478845361538440"
     },
     "user_tz": 240
    },
    "id": "NqhQ1x2Fr--S",
    "outputId": "060e758b-bd6c-433c-d980-899be5da98b1"
   },
   "outputs": [],
   "source": [
    "figsize = (12, 8)\n",
    "\n",
    "plt.figure(figsize = figsize)\n",
    "sns.countplot(x = 'SECTOR', data = hd)\n",
    "plt.xlabel(\"Sector of Institution\")\n",
    "plt.ylabel(\"Number of Institutions\")\n",
    "plt.title(\"Count of Institutions by Sector\")\n",
    "plt.show()"
   ]
  },
  {
   "cell_type": "markdown",
   "metadata": {
    "id": "7vvhiKfdhSky"
   },
   "source": [
    "### Checking for NAs"
   ]
  },
  {
   "cell_type": "code",
   "execution_count": null,
   "metadata": {
    "id": "CU1p1Xirh7Or"
   },
   "outputs": [],
   "source": [
    "en = pd.read_excel('//content//drive//MyDrive//Python for Excel//IPEDS Table - EF2019D.xlsx')"
   ]
  },
  {
   "cell_type": "code",
   "execution_count": null,
   "metadata": {
    "colab": {
     "base_uri": "https://localhost:8080/",
     "height": 204
    },
    "executionInfo": {
     "elapsed": 99,
     "status": "ok",
     "timestamp": 1626292547573,
     "user": {
      "displayName": "Mark Green",
      "photoUrl": "https://lh3.googleusercontent.com/a-/AOh14GiOe1PKHLNF7AZUblxI0U7WQ-caN1Wf2bkhENUr=s64",
      "userId": "16241478845361538440"
     },
     "user_tz": 240
    },
    "id": "hse3L8I-iPPN",
    "outputId": "42027774-dafd-4167-aac5-3b90678d2712"
   },
   "outputs": [],
   "source": [
    "en.head()"
   ]
  },
  {
   "cell_type": "code",
   "execution_count": null,
   "metadata": {
    "colab": {
     "base_uri": "https://localhost:8080/",
     "height": 204
    },
    "executionInfo": {
     "elapsed": 108,
     "status": "ok",
     "timestamp": 1626292550634,
     "user": {
      "displayName": "Mark Green",
      "photoUrl": "https://lh3.googleusercontent.com/a-/AOh14GiOe1PKHLNF7AZUblxI0U7WQ-caN1Wf2bkhENUr=s64",
      "userId": "16241478845361538440"
     },
     "user_tz": 240
    },
    "id": "pYx0Bi6TiswK",
    "outputId": "1fcb9c30-d4c7-4a18-a291-3c6f2cee70c2"
   },
   "outputs": [],
   "source": [
    "en.tail()"
   ]
  },
  {
   "cell_type": "code",
   "execution_count": null,
   "metadata": {
    "colab": {
     "base_uri": "https://localhost:8080/"
    },
    "executionInfo": {
     "elapsed": 127,
     "status": "ok",
     "timestamp": 1626292558171,
     "user": {
      "displayName": "Mark Green",
      "photoUrl": "https://lh3.googleusercontent.com/a-/AOh14GiOe1PKHLNF7AZUblxI0U7WQ-caN1Wf2bkhENUr=s64",
      "userId": "16241478845361538440"
     },
     "user_tz": 240
    },
    "id": "kLKDzZY9i17I",
    "outputId": "31263730-1a29-4ace-d61f-c31d301fa9ef"
   },
   "outputs": [],
   "source": [
    "en.columns"
   ]
  },
  {
   "cell_type": "code",
   "execution_count": null,
   "metadata": {
    "colab": {
     "base_uri": "https://localhost:8080/",
     "height": 317
    },
    "executionInfo": {
     "elapsed": 151,
     "status": "ok",
     "timestamp": 1626293199716,
     "user": {
      "displayName": "Mark Green",
      "photoUrl": "https://lh3.googleusercontent.com/a-/AOh14GiOe1PKHLNF7AZUblxI0U7WQ-caN1Wf2bkhENUr=s64",
      "userId": "16241478845361538440"
     },
     "user_tz": 240
    },
    "id": "Vf2U-64Lm3S2",
    "outputId": "41d6a00e-7b83-4622-f7e5-aab5fb007fe6"
   },
   "outputs": [],
   "source": [
    "en.iloc[:, 1:].describe()"
   ]
  },
  {
   "cell_type": "code",
   "execution_count": null,
   "metadata": {
    "colab": {
     "base_uri": "https://localhost:8080/"
    },
    "executionInfo": {
     "elapsed": 108,
     "status": "ok",
     "timestamp": 1626293317663,
     "user": {
      "displayName": "Mark Green",
      "photoUrl": "https://lh3.googleusercontent.com/a-/AOh14GiOe1PKHLNF7AZUblxI0U7WQ-caN1Wf2bkhENUr=s64",
      "userId": "16241478845361538440"
     },
     "user_tz": 240
    },
    "id": "GxhM8qg_oRql",
    "outputId": "4003d187-ba17-4274-f45f-3fc2bf3bd8ec"
   },
   "outputs": [],
   "source": [
    "for n in en:\n",
    "  print(\"The percent of missing values in {0} is {1}\".format(n, en[[n]].isna().mean()))"
   ]
  },
  {
   "cell_type": "markdown",
   "metadata": {
    "id": "BLBu1NnXhoRR"
   },
   "source": [
    "### Filtering"
   ]
  },
  {
   "cell_type": "code",
   "execution_count": null,
   "metadata": {
    "id": "KdgrURinOq0l"
   },
   "outputs": [],
   "source": [
    "code = pd.read_excel('//content//drive//MyDrive//Python for Excel//IPEDS201920Tablesdoc.xlsx', sheet_name= 'valueSets19')"
   ]
  },
  {
   "cell_type": "code",
   "execution_count": null,
   "metadata": {
    "colab": {
     "base_uri": "https://localhost:8080/",
     "height": 204
    },
    "executionInfo": {
     "elapsed": 25,
     "status": "ok",
     "timestamp": 1626291993676,
     "user": {
      "displayName": "Mark Green",
      "photoUrl": "https://lh3.googleusercontent.com/a-/AOh14GiOe1PKHLNF7AZUblxI0U7WQ-caN1Wf2bkhENUr=s64",
      "userId": "16241478845361538440"
     },
     "user_tz": 240
    },
    "id": "0CoUoHTXPPh4",
    "outputId": "676160a5-9f82-4b1b-d186-244f2544079b"
   },
   "outputs": [],
   "source": [
    "code.head()"
   ]
  },
  {
   "cell_type": "code",
   "execution_count": null,
   "metadata": {
    "id": "36RlWUk8PSwa"
   },
   "outputs": [],
   "source": [
    "hd2019var = code[code['TableName'] == 'HD2019']"
   ]
  },
  {
   "cell_type": "code",
   "execution_count": null,
   "metadata": {
    "colab": {
     "base_uri": "https://localhost:8080/",
     "height": 390
    },
    "executionInfo": {
     "elapsed": 130,
     "status": "ok",
     "timestamp": 1626291998088,
     "user": {
      "displayName": "Mark Green",
      "photoUrl": "https://lh3.googleusercontent.com/a-/AOh14GiOe1PKHLNF7AZUblxI0U7WQ-caN1Wf2bkhENUr=s64",
      "userId": "16241478845361538440"
     },
     "user_tz": 240
    },
    "id": "nA7g_iDvPtsA",
    "outputId": "edd0ab24-a896-459f-adee-8fa37003f7c3"
   },
   "outputs": [],
   "source": [
    "hd2019var[hd2019var['varName'] == 'SECTOR']"
   ]
  },
  {
   "cell_type": "code",
   "execution_count": null,
   "metadata": {
    "colab": {
     "base_uri": "https://localhost:8080/",
     "height": 390
    },
    "executionInfo": {
     "elapsed": 109,
     "status": "ok",
     "timestamp": 1626292002620,
     "user": {
      "displayName": "Mark Green",
      "photoUrl": "https://lh3.googleusercontent.com/a-/AOh14GiOe1PKHLNF7AZUblxI0U7WQ-caN1Wf2bkhENUr=s64",
      "userId": "16241478845361538440"
     },
     "user_tz": 240
    },
    "id": "dQQVZWtSP6F3",
    "outputId": "fd19fd7e-ef62-4834-8175-6b7a09cac94e"
   },
   "outputs": [],
   "source": [
    "hd2019var[['Codevalue', 'valueLabel']][hd2019var['varName']== 'SECTOR']"
   ]
  },
  {
   "cell_type": "markdown",
   "metadata": {
    "id": "o4U8Heagg7h3"
   },
   "source": [
    "### VLOOKUP "
   ]
  },
  {
   "cell_type": "code",
   "execution_count": null,
   "metadata": {
    "id": "N0EqsDELQTSO"
   },
   "outputs": [],
   "source": [
    "sector = hd2019var[['Codevalue', 'valueLabel']][hd2019var['varName']== 'SECTOR']\n",
    "sector.columns = ['SECTOR', 'SECTOR LABEL']\n",
    "sector.SECTOR = sector.SECTOR.astype(int)"
   ]
  },
  {
   "cell_type": "code",
   "execution_count": null,
   "metadata": {
    "id": "MeL0iCrPQjIE"
   },
   "outputs": [],
   "source": [
    "hd2 = pd.merge(hd, sector, on = 'SECTOR', how = 'left')"
   ]
  },
  {
   "cell_type": "code",
   "execution_count": null,
   "metadata": {
    "colab": {
     "base_uri": "https://localhost:8080/",
     "height": 272
    },
    "executionInfo": {
     "elapsed": 96,
     "status": "ok",
     "timestamp": 1626292026848,
     "user": {
      "displayName": "Mark Green",
      "photoUrl": "https://lh3.googleusercontent.com/a-/AOh14GiOe1PKHLNF7AZUblxI0U7WQ-caN1Wf2bkhENUr=s64",
      "userId": "16241478845361538440"
     },
     "user_tz": 240
    },
    "id": "YYGgr2alQvQ0",
    "outputId": "a69f9014-dc09-4bc3-d9ae-85ab9a06fb36"
   },
   "outputs": [],
   "source": [
    "hd2.head()"
   ]
  },
  {
   "cell_type": "code",
   "execution_count": null,
   "metadata": {
    "colab": {
     "base_uri": "https://localhost:8080/",
     "height": 691
    },
    "executionInfo": {
     "elapsed": 550,
     "status": "ok",
     "timestamp": 1626292141969,
     "user": {
      "displayName": "Mark Green",
      "photoUrl": "https://lh3.googleusercontent.com/a-/AOh14GiOe1PKHLNF7AZUblxI0U7WQ-caN1Wf2bkhENUr=s64",
      "userId": "16241478845361538440"
     },
     "user_tz": 240
    },
    "id": "UIZpABMHQzQt",
    "outputId": "946238da-6e29-4821-c61b-068739511bb5"
   },
   "outputs": [],
   "source": [
    "figsize = (12, 8)\n",
    "\n",
    "plt.figure(figsize = figsize)\n",
    "sns.countplot(x = 'SECTOR LABEL', data = hd2)\n",
    "plt.xlabel(\"Sector of Institution\")\n",
    "plt.ylabel(\"Number of Institutions\")\n",
    "plt.title(\"Count of Institutions by Sector\")\n",
    "plt.xticks(rotation = 90)\n",
    "\n",
    "plt.show()"
   ]
  },
  {
   "cell_type": "code",
   "execution_count": null,
   "metadata": {
    "colab": {
     "base_uri": "https://localhost:8080/",
     "height": 691
    },
    "executionInfo": {
     "elapsed": 498,
     "status": "ok",
     "timestamp": 1626292413433,
     "user": {
      "displayName": "Mark Green",
      "photoUrl": "https://lh3.googleusercontent.com/a-/AOh14GiOe1PKHLNF7AZUblxI0U7WQ-caN1Wf2bkhENUr=s64",
      "userId": "16241478845361538440"
     },
     "user_tz": 240
    },
    "id": "sOzuTHdykJv0",
    "outputId": "e92119f8-efa5-4b74-fc1b-97ee2bf3316d"
   },
   "outputs": [],
   "source": [
    "figsize = (12, 8)\n",
    "\n",
    "plt.figure(figsize = figsize)\n",
    "sns.countplot(x = 'SECTOR LABEL', data = hd2, hue = 'HBCU', palette='Set2')\n",
    "sns.color_palette('Set2')\n",
    "plt.xlabel(\"Sector of Institution\")\n",
    "plt.ylabel(\"Number of Institutions\")\n",
    "plt.title(\"Count of Institutions by Sector\")\n",
    "plt.xticks(rotation = 90)\n",
    "\n",
    "plt.show()"
   ]
  },
  {
   "cell_type": "markdown",
   "metadata": {
    "id": "dRDlHLf6hL4S"
   },
   "source": [
    "### Pivot Tables"
   ]
  },
  {
   "cell_type": "code",
   "execution_count": null,
   "metadata": {
    "id": "KFgYqfa2i624"
   },
   "outputs": [],
   "source": [
    "ids = hd2[['UNITID', 'INSTNM', 'SECTOR LABEL']]"
   ]
  },
  {
   "cell_type": "code",
   "execution_count": null,
   "metadata": {
    "id": "Z-ZoWvLNl6lA"
   },
   "outputs": [],
   "source": [
    "en2 = pd.merge(en, ids, on = 'UNITID', how = 'left')"
   ]
  },
  {
   "cell_type": "code",
   "execution_count": null,
   "metadata": {
    "colab": {
     "base_uri": "https://localhost:8080/",
     "height": 266
    },
    "executionInfo": {
     "elapsed": 128,
     "status": "ok",
     "timestamp": 1626292693012,
     "user": {
      "displayName": "Mark Green",
      "photoUrl": "https://lh3.googleusercontent.com/a-/AOh14GiOe1PKHLNF7AZUblxI0U7WQ-caN1Wf2bkhENUr=s64",
      "userId": "16241478845361538440"
     },
     "user_tz": 240
    },
    "id": "J3iI-xv2l_RD",
    "outputId": "94319613-08a4-4f9a-a308-ab700ccaaa19"
   },
   "outputs": [],
   "source": [
    "pd.pivot_table(en2, \n",
    "               index = 'SECTOR LABEL', \n",
    "               values = 'GRCOHRT',\n",
    "               aggfunc = np.mean)"
   ]
  },
  {
   "cell_type": "markdown",
   "metadata": {
    "id": "8i3oZhgehNrj"
   },
   "source": [
    "### If-Else Statements"
   ]
  },
  {
   "cell_type": "markdown",
   "metadata": {
    "id": "eazioAJjhxBX"
   },
   "source": [
    "### Correlation"
   ]
  }
 ],
 "metadata": {
  "colab": {
   "authorship_tag": "ABX9TyOgXRlczphoJsqUdZ2A7zSn",
   "collapsed_sections": [
    "2pO_iGzjZgsq",
    "NqUH2XfBf_pS",
    "7vvhiKfdhSky",
    "BLBu1NnXhoRR",
    "o4U8Heagg7h3",
    "dRDlHLf6hL4S",
    "8i3oZhgehNrj",
    "eazioAJjhxBX"
   ],
   "mount_file_id": "1xSTHblZD135KMaJFDkydN1PmWmCyxyj6",
   "name": "Copy of Python for Excel.ipynb",
   "provenance": [
    {
     "file_id": "1xSTHblZD135KMaJFDkydN1PmWmCyxyj6",
     "timestamp": 1626362289616
    }
   ]
  },
  "kernelspec": {
   "display_name": "Python 3",
   "language": "python",
   "name": "python3"
  },
  "language_info": {
   "codemirror_mode": {
    "name": "ipython",
    "version": 3
   },
   "file_extension": ".py",
   "mimetype": "text/x-python",
   "name": "python",
   "nbconvert_exporter": "python",
   "pygments_lexer": "ipython3",
   "version": "3.7.9"
  }
 },
 "nbformat": 4,
 "nbformat_minor": 4
}
